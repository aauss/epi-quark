{
 "cells": [
  {
   "cell_type": "code",
   "execution_count": 1,
   "metadata": {},
   "outputs": [],
   "source": [
    "%load_ext autoreload\n",
    "%autoreload 2\n",
    "from scoring.classifier_scoring import *"
   ]
  },
  {
   "cell_type": "markdown",
   "metadata": {},
   "source": [
    "# DataLables\n",
    "`DataLabels` are an enum class to define which possible labels a `Case` (explained later) can have. They need to have the possibility to be ENDEMIC or NON_CASE but all other classes need to be defined by the user. For demonstration purposes we include three DataLabels, namely ONE, TWO, THREE."
   ]
  },
  {
   "cell_type": "code",
   "execution_count": 2,
   "metadata": {},
   "outputs": [
    {
     "name": "stdout",
     "output_type": "stream",
     "text": [
      "[<DataLabels.ONE: 1>, <DataLabels.TWO: 2>, <DataLabels.THREE: 3>, <DataLabels.ENDEMIC: 4>, <DataLabels.NON_CASE: 5>]\n"
     ]
    }
   ],
   "source": [
    "print(list(DataLabels))"
   ]
  },
  {
   "cell_type": "markdown",
   "metadata": {},
   "source": [
    "# Case\n",
    "A Case is the smallest unit measurable unit in our scoring definition. A Case is defined by its DataLabels and its coordinates, where each Case must have a propability value assigned for all DataLabels and the sum of all probabilites must sum up to 1. A Case is only defined by it DataLabel probabilites and coordinates and therefore indistinguishable from a Case with identic DataLabel probabilites and coordinates."
   ]
  },
  {
   "cell_type": "code",
   "execution_count": 3,
   "metadata": {},
   "outputs": [
    {
     "data": {
      "text/plain": [
       "Case(disease_probas='{<DataLabels.ONE: 1>: 0, <DataLabels.TWO: 2>: 0, <DataLabels.THREE: 3>: 0, <DataLabels.ENDEMIC: 4>: 0, <DataLabels.NON_CASE: 5>: 1}', coordinates='(WeekNumber(weeknumber='2019W01'), SpatialDim(spatial_id='1'))')"
      ]
     },
     "execution_count": 3,
     "metadata": {},
     "output_type": "execute_result"
    }
   ],
   "source": [
    "Case(coordinates=(WeekNumber(2019, 1), SpatialDim(1)))"
   ]
  },
  {
   "cell_type": "markdown",
   "metadata": {},
   "source": [
    "# AggCase\n",
    "Asuming we only have access to aggregated data, AggCase summarizes the amount of cases for a coordinate and for all possible DataLabels"
   ]
  },
  {
   "cell_type": "code",
   "execution_count": 4,
   "metadata": {},
   "outputs": [
    {
     "data": {
      "text/plain": [
       "True"
      ]
     },
     "execution_count": 4,
     "metadata": {},
     "output_type": "execute_result"
    }
   ],
   "source": [
    "isinstance((WeekNumber(2019, 1), SpatialDim(1))[0], WeekNumber)"
   ]
  },
  {
   "cell_type": "code",
   "execution_count": 5,
   "metadata": {},
   "outputs": [
    {
     "data": {
      "text/plain": [
       "Case(disease_probas='{<DataLabels.ONE: 1>: 0, <DataLabels.TWO: 2>: 0, <DataLabels.THREE: 3>: 0, <DataLabels.ENDEMIC: 4>: 0, <DataLabels.NON_CASE: 5>: 1}', coordinates='(WeekNumber(weeknumber='2019W01'), SpatialDim(spatial_id='1'))')"
      ]
     },
     "execution_count": 5,
     "metadata": {},
     "output_type": "execute_result"
    }
   ],
   "source": [
    "AggCase(coordinates=(WeekNumber(2019, 1), SpatialDim(1)))"
   ]
  },
  {
   "cell_type": "markdown",
   "metadata": {},
   "source": [
    "# DataCell and coordinates\n",
    "`Cases` usually exist within `DataCells` that are defined by their coordinates. For demonstration purposes we implemented an spatial and temporal dimension that a `DataCell` can assume. A `DataCell` is identical to another `DataCell` that has the same `Cases` (independent of the order) and the same coordinates. A `DataCell` can also tell me how many cases it has by summing up the probabilites for some `DataLable` of all `Case`s."
   ]
  },
  {
   "cell_type": "code",
   "execution_count": 8,
   "metadata": {},
   "outputs": [],
   "source": [
    "# A DataCell with two Cases and the coordinate 2020W25 and the \n",
    "cell = DataCell(\n",
    "    [Case(\n",
    "        data_label_probas={\n",
    "            DataLabels.ONE: 0.2,\n",
    "            DataLabels.TWO: 0.2,\n",
    "            DataLabels.THREE: 0.2,\n",
    "            DataLabels.ENDEMIC: 0.2,\n",
    "            DataLabels.NON_CASE: 0.2,\n",
    "        },\n",
    "        coordinates=(WeekNumber(2020, 25), SpatialDim(5))\n",
    "    ),\n",
    "    Case(\n",
    "        data_label_probas={\n",
    "            DataLabels.ONE: 0.4,\n",
    "            DataLabels.TWO: 0.2,\n",
    "            DataLabels.THREE: 0.2,\n",
    "            DataLabels.ENDEMIC: 0,\n",
    "            DataLabels.NON_CASE: 0.2,\n",
    "        },\n",
    "        coordinates=(WeekNumber(2020, 25), SpatialDim(5))\n",
    "    )],\n",
    "    coordinates=(WeekNumber(2020, 25), SpatialDim(5)),\n",
    ")"
   ]
  },
  {
   "cell_type": "code",
   "execution_count": 9,
   "metadata": {},
   "outputs": [
    {
     "name": "stdout",
     "output_type": "stream",
     "text": [
      "{<DataLabels.ONE: 1>: 0.3, <DataLabels.TWO: 2>: 0.2, <DataLabels.THREE: 3>: 0.2, <DataLabels.ENDEMIC: 4>: 0.1, <DataLabels.NON_CASE: 5>: 0.2} \n",
      "\n",
      "2020W25 \n",
      "\n",
      "5\n"
     ]
    }
   ],
   "source": [
    "print(cell, \"\\n\")\n",
    "print(WeekNumber(2020, 25), \"\\n\")\n",
    "print(SpatialDim(5))"
   ]
  },
  {
   "cell_type": "code",
   "execution_count": 10,
   "metadata": {},
   "outputs": [
    {
     "name": "stdout",
     "output_type": "stream",
     "text": [
      "The sum of all cases having DataLabels.ONE is 0.6\n"
     ]
    }
   ],
   "source": [
    "print(f\"The sum of all cases having DataLabels.ONE is {cell.case_number(DataLabels.ONE)}\")"
   ]
  },
  {
   "cell_type": "markdown",
   "metadata": {},
   "source": [
    "# CellGrid\n",
    "The `CellGrid` combines `DataCells` that share the same coordinate system. A CellGrid has no gaps, which means that within a predefined closed intervall the (in this example) spatial and temporal dimension, there is one `DataCell` with one \"dummy\"-`Case` that has the `DataLabel` NON_CASE."
   ]
  },
  {
   "cell_type": "code",
   "execution_count": 18,
   "metadata": {},
   "outputs": [],
   "source": [
    "case_1 = Case(\n",
    "    data_label_probas={\n",
    "        DataLabels.ONE: 0.3,\n",
    "        DataLabels.TWO: 0.2,\n",
    "        DataLabels.THREE: 0.2,\n",
    "        DataLabels.ENDEMIC: 0.2,\n",
    "        DataLabels.NON_CASE: 0.1,\n",
    "    },\n",
    "    coordinates=(WeekNumber(2020, 24), SpatialDim(4))\n",
    ")\n",
    "case_2 = Case(\n",
    "    data_label_probas={\n",
    "        DataLabels.ONE: 0.3,\n",
    "        DataLabels.TWO: 0.2,\n",
    "        DataLabels.THREE: 0.2,\n",
    "        DataLabels.ENDEMIC: 0.2,\n",
    "        DataLabels.NON_CASE: 0.1,\n",
    "    },\n",
    "    coordinates=(WeekNumber(2020, 24), SpatialDim(5))\n",
    ")\n",
    "cells = [\n",
    "    DataCell(case_1, coordinates=(WeekNumber(2020, 24), SpatialDim(4))),\n",
    "    DataCell(case_2, coordinates=(WeekNumber(2020, 24), SpatialDim(5))),\n",
    "]\n",
    "grid = CellGrid(\n",
    "    cells,\n",
    "    time_range=(WeekNumber(2020, 24), WeekNumber(2020, 25)),\n",
    "    spatial_range=(SpatialDim(4), SpatialDim(6)),\n",
    ")"
   ]
  },
  {
   "cell_type": "code",
   "execution_count": 19,
   "metadata": {},
   "outputs": [
    {
     "name": "stdout",
     "output_type": "stream",
     "text": [
      "[WeekNumber(weeknumber='2020W24'), WeekNumber(weeknumber='2020W25')] \n",
      "\n",
      "There is now one SpatialDim between 4 and 6:  [SpatialDim(spatial_id='4'), SpatialDim(spatial_id='5'), SpatialDim(spatial_id='6')] \n",
      "\n",
      "One Cell is added. Amount of Cells now:  6 \n",
      "\n",
      "New Cell:  {<DataLabels.ONE: 1>: 0.0, <DataLabels.TWO: 2>: 0.0, <DataLabels.THREE: 3>: 0.0, <DataLabels.ENDEMIC: 4>: 0.0, <DataLabels.NON_CASE: 5>: 1.0}\n"
     ]
    }
   ],
   "source": [
    "print(grid.time_range, \"\\n\")\n",
    "print(\"There is now one SpatialDim between 4 and 6: \", grid.spatial_range, \"\\n\")\n",
    "print(\"One Cell is added. Amount of Cells now: \", len(grid.cells), \"\\n\")\n",
    "print(\"New Cell: \", grid.cells[-1])"
   ]
  },
  {
   "cell_type": "code",
   "execution_count": 20,
   "metadata": {},
   "outputs": [],
   "source": [
    "from itertools import product"
   ]
  },
  {
   "cell_type": "code",
   "execution_count": 21,
   "metadata": {},
   "outputs": [
    {
     "data": {
      "text/plain": [
       "[(SpatialDim(spatial_id='4'), WeekNumber(weeknumber='2020W24')),\n",
       " (SpatialDim(spatial_id='4'), WeekNumber(weeknumber='2020W25')),\n",
       " (SpatialDim(spatial_id='5'), WeekNumber(weeknumber='2020W24')),\n",
       " (SpatialDim(spatial_id='5'), WeekNumber(weeknumber='2020W25')),\n",
       " (SpatialDim(spatial_id='6'), WeekNumber(weeknumber='2020W24')),\n",
       " (SpatialDim(spatial_id='6'), WeekNumber(weeknumber='2020W25'))]"
      ]
     },
     "execution_count": 21,
     "metadata": {},
     "output_type": "execute_result"
    }
   ],
   "source": [
    "list(product(grid.spatial_range, grid.time_range))"
   ]
  },
  {
   "cell_type": "code",
   "execution_count": 15,
   "metadata": {},
   "outputs": [
    {
     "data": {
      "text/plain": [
       "[SpatialDim(spatial_id='4'),\n",
       " SpatialDim(spatial_id='5'),\n",
       " SpatialDim(spatial_id='6')]"
      ]
     },
     "execution_count": 15,
     "metadata": {},
     "output_type": "execute_result"
    }
   ],
   "source": [
    "grid.spatial_range"
   ]
  },
  {
   "cell_type": "markdown",
   "metadata": {},
   "source": [
    "## Open Questions:\n",
    "- How should Cases, DataCells, and CellGrids be comparable?\n",
    "- How do we add dummy-Cases to a continous dimension?"
   ]
  }
 ],
 "metadata": {
  "kernelspec": {
   "display_name": "Python 3",
   "language": "python",
   "name": "python3"
  },
  "language_info": {
   "codemirror_mode": {
    "name": "ipython",
    "version": 3
   },
   "file_extension": ".py",
   "mimetype": "text/x-python",
   "name": "python",
   "nbconvert_exporter": "python",
   "pygments_lexer": "ipython3",
   "version": "3.8.5"
  }
 },
 "nbformat": 4,
 "nbformat_minor": 4
}
