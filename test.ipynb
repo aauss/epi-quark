{
 "cells": [
  {
   "cell_type": "code",
   "execution_count": 1,
   "metadata": {},
   "outputs": [],
   "source": [
    "%load_ext autoreload\n",
    "%autoreload 2\n",
    "%load_ext lab_black"
   ]
  },
  {
   "cell_type": "code",
   "execution_count": 8,
   "metadata": {},
   "outputs": [],
   "source": [
    "from scorer.scorer import conf_matrix, timeliness, score\n",
    "import pandas as pd"
   ]
  },
  {
   "cell_type": "code",
   "execution_count": 3,
   "metadata": {},
   "outputs": [],
   "source": [
    "# TODO: Threshold strict or strict equals? \n",
    "# TODO: Readthedocs(type hint -> doc string public -> examples) | Code Review -> CI  -> PyPI"
   ]
  },
  {
   "cell_type": "code",
   "execution_count": 4,
   "metadata": {},
   "outputs": [],
   "source": [
    "cases = pd.read_csv(\"tests/data/paper_example/cases_long.csv\")\n",
    "signals = pd.read_csv(\"tests/data/paper_example/signals_long.csv\")"
   ]
  },
  {
   "cell_type": "code",
   "execution_count": 9,
   "metadata": {},
   "outputs": [
    {
     "name": "stderr",
     "output_type": "stream",
     "text": [
      "C:\\Users\\AbboodA\\Documents\\github\\score-time_series_and_scan_statistics\\scorer\\scorer.py:129: UserWarning: w_endemic is missing and is being imputed.\n",
      "  warn(\"w_endemic is missing and is being imputed.\")\n",
      "C:\\Users\\AbboodA\\Documents\\github\\score-time_series_and_scan_statistics\\scorer\\scorer.py:133: UserWarning: w_non_case is missing and is being imputed.\n",
      "  warn(\"w_non_case is missing and is being imputed.\")\n"
     ]
    },
    {
     "data": {
      "text/plain": [
       "{'endemic': -0.013702460850111953,\n",
       " 'non_case': 0.7996794871794872,\n",
       " 'one': 0.3055555555555556,\n",
       " 'three': -0.7795138888888888,\n",
       " 'two': -0.17753623188405832}"
      ]
     },
     "execution_count": 9,
     "metadata": {},
     "output_type": "execute_result"
    }
   ],
   "source": [
    "score(cases, signals, \"r2\")"
   ]
  },
  {
   "cell_type": "code",
   "execution_count": 6,
   "metadata": {},
   "outputs": [
    {
     "name": "stderr",
     "output_type": "stream",
     "text": [
      "C:\\Users\\AbboodA\\Documents\\github\\score-time_series_and_scan_statistics\\scorer\\scorer.py:129: UserWarning: w_endemic is missing and is being imputed.\n",
      "  warn(\"w_endemic is missing and is being imputed.\")\n",
      "C:\\Users\\AbboodA\\Documents\\github\\score-time_series_and_scan_statistics\\scorer\\scorer.py:133: UserWarning: w_non_case is missing and is being imputed.\n",
      "  warn(\"w_non_case is missing and is being imputed.\")\n"
     ]
    },
    {
     "data": {
      "text/plain": [
       "{'endemic': [[16, 4], [1, 4]],\n",
       " 'non_case': [[13, 0], [0, 12]],\n",
       " 'one': [[20, 2], [0, 3]],\n",
       " 'three': [[18, 5], [2, 0]],\n",
       " 'two': [[17, 4], [3, 1]]}"
      ]
     },
     "execution_count": 6,
     "metadata": {},
     "output_type": "execute_result"
    }
   ],
   "source": [
    "conf_matrix(cases, signals, 0.5, 0.2)"
   ]
  },
  {
   "cell_type": "code",
   "execution_count": 7,
   "metadata": {},
   "outputs": [
    {
     "name": "stderr",
     "output_type": "stream",
     "text": [
      "C:\\Users\\AbboodA\\Documents\\github\\score-time_series_and_scan_statistics\\scorer\\scorer.py:129: UserWarning: w_endemic is missing and is being imputed.\n",
      "  warn(\"w_endemic is missing and is being imputed.\")\n",
      "C:\\Users\\AbboodA\\Documents\\github\\score-time_series_and_scan_statistics\\scorer\\scorer.py:133: UserWarning: w_non_case is missing and is being imputed.\n",
      "  warn(\"w_non_case is missing and is being imputed.\")\n"
     ]
    },
    {
     "data": {
      "text/plain": [
       "data_label\n",
       "one      0.0\n",
       "three    0.0\n",
       "two      0.0\n",
       "dtype: float64"
      ]
     },
     "execution_count": 7,
     "metadata": {},
     "output_type": "execute_result"
    }
   ],
   "source": [
    "timeliness(cases, signals, \"x2\", 2)"
   ]
  },
  {
   "cell_type": "code",
   "execution_count": null,
   "metadata": {},
   "outputs": [],
   "source": []
  }
 ],
 "metadata": {
  "interpreter": {
   "hash": "c9761461b37007e299b2c10ed15ba60c8f845df7387903d6350f7b46eba67a50"
  },
  "kernelspec": {
   "display_name": "Python 3 (ipykernel)",
   "language": "python",
   "name": "python3"
  },
  "language_info": {
   "codemirror_mode": {
    "name": "ipython",
    "version": 3
   },
   "file_extension": ".py",
   "mimetype": "text/x-python",
   "name": "python",
   "nbconvert_exporter": "python",
   "pygments_lexer": "ipython3",
   "version": "3.9.5"
  }
 },
 "nbformat": 4,
 "nbformat_minor": 4
}
