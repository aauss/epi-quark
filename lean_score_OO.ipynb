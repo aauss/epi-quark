{
 "cells": [
  {
   "cell_type": "code",
   "execution_count": 1,
   "metadata": {},
   "outputs": [],
   "source": [
    "%load_ext lab_black\n",
    "%load_ext autoreload\n",
    "%autoreload 2"
   ]
  },
  {
   "cell_type": "code",
   "execution_count": 2,
   "metadata": {},
   "outputs": [],
   "source": [
    "from itertools import product\n",
    "from functools import reduce\n",
    "\n",
    "import matplotlib.pyplot as plt\n",
    "import numpy as np\n",
    "import pandas as pd\n",
    "from scipy.stats import entropy, mannwhitneyu, pearsonr, wilcoxon\n",
    "from sklearn import metrics\n",
    "\n",
    "from scorer.scorer import Score"
   ]
  },
  {
   "cell_type": "markdown",
   "metadata": {},
   "source": [
    "## Data preparation"
   ]
  },
  {
   "cell_type": "code",
   "execution_count": 3,
   "metadata": {},
   "outputs": [],
   "source": [
    "MUST_HAVE_LABELS = (\"endemic\", \"non_case\")\n",
    "DATA_LABELS = (\"one\", \"two\", \"three\") + MUST_HAVE_LABELS"
   ]
  },
  {
   "cell_type": "code",
   "execution_count": 4,
   "metadata": {},
   "outputs": [],
   "source": [
    "# define coordinate system with two axes x1 and x2\n",
    "df_coordinates = pd.concat(\n",
    "    [\n",
    "        pd.DataFrame(columns=[\"x1\", \"x2\"], data=product(range(5), range(5))),\n",
    "        pd.DataFrame(columns=DATA_LABELS),\n",
    "    ]\n",
    ")"
   ]
  },
  {
   "cell_type": "code",
   "execution_count": 5,
   "metadata": {},
   "outputs": [],
   "source": [
    "# read in data\n",
    "one = [0] * 5 + [0, 1, 1, 0, 0] + [0, 0, 1, 0, 0] + [0] * 10\n",
    "two = (\n",
    "    [\n",
    "        0,\n",
    "        0,\n",
    "        1,\n",
    "        1,\n",
    "        1,\n",
    "    ]\n",
    "    + [0] * 10\n",
    "    + [0, 0, 0, 1, 0]\n",
    "    + [0] * 5\n",
    ")\n",
    "three = [0] * 15 + [0, 0, 0, 1, 2] + [0] * 5\n",
    "endemic = (\n",
    "    [0] * 5 + [1, 0, 0, 0, 0] + [0, 1, 0, 0, 0] + [4, 0, 0, 0, 1] + [2, 0, 0, 0, 1]\n",
    ")\n",
    "\n",
    "df_cases = df_coordinates.assign(one=one, two=two, three=three, endemic=endemic)"
   ]
  },
  {
   "cell_type": "code",
   "execution_count": 6,
   "metadata": {},
   "outputs": [
    {
     "data": {
      "text/html": [
       "<div>\n",
       "<style scoped>\n",
       "    .dataframe tbody tr th:only-of-type {\n",
       "        vertical-align: middle;\n",
       "    }\n",
       "\n",
       "    .dataframe tbody tr th {\n",
       "        vertical-align: top;\n",
       "    }\n",
       "\n",
       "    .dataframe thead th {\n",
       "        text-align: right;\n",
       "    }\n",
       "</style>\n",
       "<table border=\"1\" class=\"dataframe\">\n",
       "  <thead>\n",
       "    <tr style=\"text-align: right;\">\n",
       "      <th></th>\n",
       "      <th>x1</th>\n",
       "      <th>x2</th>\n",
       "      <th>one</th>\n",
       "      <th>two</th>\n",
       "      <th>three</th>\n",
       "      <th>endemic</th>\n",
       "      <th>non_case</th>\n",
       "    </tr>\n",
       "  </thead>\n",
       "  <tbody>\n",
       "    <tr>\n",
       "      <th>0</th>\n",
       "      <td>0.0</td>\n",
       "      <td>0.0</td>\n",
       "      <td>0</td>\n",
       "      <td>0</td>\n",
       "      <td>0</td>\n",
       "      <td>0</td>\n",
       "      <td>NaN</td>\n",
       "    </tr>\n",
       "    <tr>\n",
       "      <th>1</th>\n",
       "      <td>0.0</td>\n",
       "      <td>1.0</td>\n",
       "      <td>0</td>\n",
       "      <td>0</td>\n",
       "      <td>0</td>\n",
       "      <td>0</td>\n",
       "      <td>NaN</td>\n",
       "    </tr>\n",
       "    <tr>\n",
       "      <th>2</th>\n",
       "      <td>0.0</td>\n",
       "      <td>2.0</td>\n",
       "      <td>0</td>\n",
       "      <td>1</td>\n",
       "      <td>0</td>\n",
       "      <td>0</td>\n",
       "      <td>NaN</td>\n",
       "    </tr>\n",
       "    <tr>\n",
       "      <th>3</th>\n",
       "      <td>0.0</td>\n",
       "      <td>3.0</td>\n",
       "      <td>0</td>\n",
       "      <td>1</td>\n",
       "      <td>0</td>\n",
       "      <td>0</td>\n",
       "      <td>NaN</td>\n",
       "    </tr>\n",
       "    <tr>\n",
       "      <th>4</th>\n",
       "      <td>0.0</td>\n",
       "      <td>4.0</td>\n",
       "      <td>0</td>\n",
       "      <td>1</td>\n",
       "      <td>0</td>\n",
       "      <td>0</td>\n",
       "      <td>NaN</td>\n",
       "    </tr>\n",
       "  </tbody>\n",
       "</table>\n",
       "</div>"
      ],
      "text/plain": [
       "    x1   x2  one  two  three  endemic non_case\n",
       "0  0.0  0.0    0    0      0        0      NaN\n",
       "1  0.0  1.0    0    0      0        0      NaN\n",
       "2  0.0  2.0    0    1      0        0      NaN\n",
       "3  0.0  3.0    0    1      0        0      NaN\n",
       "4  0.0  4.0    0    1      0        0      NaN"
      ]
     },
     "execution_count": 6,
     "metadata": {},
     "output_type": "execute_result"
    }
   ],
   "source": [
    "df_cases.head()"
   ]
  },
  {
   "cell_type": "markdown",
   "metadata": {},
   "source": [
    "## Signal creation"
   ]
  },
  {
   "cell_type": "code",
   "execution_count": 7,
   "metadata": {},
   "outputs": [],
   "source": [
    "def run_algo_A(df_coordinates):\n",
    "    assert len(df_coordinates) == 25\n",
    "    signale = pd.DataFrame(\n",
    "        {\n",
    "            \"x1\": [1, 1, 2, 2, 3, 4],\n",
    "            \"x2\": [1, 2, 1, 2, 0, 0],\n",
    "            \"w_A\": [1, 1, 1, 1, 0.5, 0.5],\n",
    "        }\n",
    "    )\n",
    "    signale = df_coordinates.loc[:, [\"x1\", \"x2\"]].merge(\n",
    "        signale, how=\"left\", on=[\"x1\", \"x2\"]\n",
    "    )\n",
    "    return signale.fillna(0)\n",
    "\n",
    "\n",
    "def run_algo_B(df_coordinates):\n",
    "    assert len(df_coordinates) == 25\n",
    "    signale = pd.DataFrame(\n",
    "        {\n",
    "            \"x1\": [2, 2, 2, 3, 3, 3, 4, 4, 4],\n",
    "            \"x2\": [2, 3, 4, 2, 3, 4, 2, 3, 4],\n",
    "            \"w_B\": [0.5] * 9,\n",
    "        }\n",
    "    )\n",
    "    signale = df_coordinates.loc[:, [\"x1\", \"x2\"]].merge(\n",
    "        signale, how=\"left\", on=[\"x1\", \"x2\"]\n",
    "    )\n",
    "    return signale.fillna(0)\n",
    "\n",
    "\n",
    "def run_algo_C(df_coordinates):\n",
    "    assert len(df_coordinates) == 25\n",
    "    signale = pd.DataFrame({\"x1\": [0], \"x2\": [4], \"w_C\": [1]})\n",
    "    signale = df_coordinates.loc[:, [\"x1\", \"x2\"]].merge(\n",
    "        signale, how=\"left\", on=[\"x1\", \"x2\"]\n",
    "    )\n",
    "    return signale.fillna(0)"
   ]
  },
  {
   "cell_type": "code",
   "execution_count": 8,
   "metadata": {},
   "outputs": [
    {
     "data": {
      "text/html": [
       "<div>\n",
       "<style scoped>\n",
       "    .dataframe tbody tr th:only-of-type {\n",
       "        vertical-align: middle;\n",
       "    }\n",
       "\n",
       "    .dataframe tbody tr th {\n",
       "        vertical-align: top;\n",
       "    }\n",
       "\n",
       "    .dataframe thead th {\n",
       "        text-align: right;\n",
       "    }\n",
       "</style>\n",
       "<table border=\"1\" class=\"dataframe\">\n",
       "  <thead>\n",
       "    <tr style=\"text-align: right;\">\n",
       "      <th></th>\n",
       "      <th>x1</th>\n",
       "      <th>x2</th>\n",
       "      <th>w_A</th>\n",
       "      <th>w_B</th>\n",
       "      <th>w_C</th>\n",
       "    </tr>\n",
       "  </thead>\n",
       "  <tbody>\n",
       "    <tr>\n",
       "      <th>0</th>\n",
       "      <td>0.0</td>\n",
       "      <td>0.0</td>\n",
       "      <td>0.0</td>\n",
       "      <td>0.0</td>\n",
       "      <td>0.0</td>\n",
       "    </tr>\n",
       "    <tr>\n",
       "      <th>1</th>\n",
       "      <td>0.0</td>\n",
       "      <td>1.0</td>\n",
       "      <td>0.0</td>\n",
       "      <td>0.0</td>\n",
       "      <td>0.0</td>\n",
       "    </tr>\n",
       "    <tr>\n",
       "      <th>2</th>\n",
       "      <td>0.0</td>\n",
       "      <td>2.0</td>\n",
       "      <td>0.0</td>\n",
       "      <td>0.0</td>\n",
       "      <td>0.0</td>\n",
       "    </tr>\n",
       "    <tr>\n",
       "      <th>3</th>\n",
       "      <td>0.0</td>\n",
       "      <td>3.0</td>\n",
       "      <td>0.0</td>\n",
       "      <td>0.0</td>\n",
       "      <td>0.0</td>\n",
       "    </tr>\n",
       "    <tr>\n",
       "      <th>4</th>\n",
       "      <td>0.0</td>\n",
       "      <td>4.0</td>\n",
       "      <td>0.0</td>\n",
       "      <td>0.0</td>\n",
       "      <td>1.0</td>\n",
       "    </tr>\n",
       "  </tbody>\n",
       "</table>\n",
       "</div>"
      ],
      "text/plain": [
       "    x1   x2  w_A  w_B  w_C\n",
       "0  0.0  0.0  0.0  0.0  0.0\n",
       "1  0.0  1.0  0.0  0.0  0.0\n",
       "2  0.0  2.0  0.0  0.0  0.0\n",
       "3  0.0  3.0  0.0  0.0  0.0\n",
       "4  0.0  4.0  0.0  0.0  1.0"
      ]
     },
     "execution_count": 8,
     "metadata": {},
     "output_type": "execute_result"
    }
   ],
   "source": [
    "# create signals\n",
    "signal_A = run_algo_A(df_coordinates)\n",
    "signal_B = run_algo_B(df_coordinates)\n",
    "signal_C = run_algo_C(df_coordinates)\n",
    "\n",
    "signals_without_endemic_non_case = reduce(\n",
    "    lambda l, r: pd.merge(l, r, on=[\"x1\", \"x2\"]),\n",
    "    [signal_A, signal_B, signal_C],\n",
    ")\n",
    "\n",
    "signals_without_endemic_non_case.head()"
   ]
  },
  {
   "cell_type": "markdown",
   "metadata": {},
   "source": [
    "### Calculate signal for endemic and non-case when not given by algo"
   ]
  },
  {
   "cell_type": "code",
   "execution_count": 9,
   "metadata": {},
   "outputs": [
    {
     "data": {
      "text/plain": [
       "<AxesSubplot:title={'center':'endemic_mean'}>"
      ]
     },
     "execution_count": 9,
     "metadata": {},
     "output_type": "execute_result"
    },
    {
     "data": {
      "image/png": "[encoded data removed]",
      "text/plain": [
       "<Figure size 432x288 with 1 Axes>"
      ]
     },
     "metadata": {
      "needs_background": "light"
     },
     "output_type": "display_data"
    }
   ],
   "source": [
    "s = Score(\n",
    "    df_cases,\n",
    "    signals_without_endemic_non_case,\n",
    "    [\"one\", \"two\", \"three\"],\n",
    "    missing_signal_agg=\"min\",\n",
    ")\n",
    "\n",
    "s.plot_map(\n",
    "    s.signals.w_endemic,\n",
    "    \"endemic_mean\",\n",
    ")"
   ]
  },
  {
   "cell_type": "markdown",
   "metadata": {},
   "source": [
    "## Score calculation (regression)"
   ]
  },
  {
   "cell_type": "code",
   "execution_count": 10,
   "metadata": {},
   "outputs": [
    {
     "data": {
      "image/png": "[encoded data removed]",
      "text/plain": [
       "<Figure size 432x288 with 1 Axes>"
      ]
     },
     "metadata": {
      "needs_background": "light"
     },
     "output_type": "display_data"
    },
    {
     "data": {
      "image/png": "[encoded data removed]",
      "text/plain": [
       "<Figure size 432x288 with 1 Axes>"
      ]
     },
     "metadata": {
      "needs_background": "light"
     },
     "output_type": "display_data"
    },
    {
     "data": {
      "image/png": "[encoded data removed]",
      "text/plain": [
       "<Figure size 432x288 with 1 Axes>"
      ]
     },
     "metadata": {
      "needs_background": "light"
     },
     "output_type": "display_data"
    },
    {
     "data": {
      "image/png": "[encoded data removed]",
      "text/plain": [
       "<Figure size 432x288 with 1 Axes>"
      ]
     },
     "metadata": {
      "needs_background": "light"
     },
     "output_type": "display_data"
    },
    {
     "data": {
      "image/png": "[encoded data removed]",
      "text/plain": [
       "<Figure size 432x288 with 1 Axes>"
      ]
     },
     "metadata": {
      "needs_background": "light"
     },
     "output_type": "display_data"
    }
   ],
   "source": [
    "for datalabel in s.p_hat_di().d_i.unique():\n",
    "    s.plot_map(s.p_hat_di().query(\"d_i==@datalabel\").loc[:, [\"p^(d_i)\"]], datalabel)\n",
    "    plt.show()"
   ]
  },
  {
   "cell_type": "code",
   "execution_count": 11,
   "metadata": {},
   "outputs": [
    {
     "data": {
      "text/plain": [
       "{'two': 0.6, 'one': 1.0, 'three': 1.0}"
      ]
     },
     "execution_count": 11,
     "metadata": {},
     "output_type": "execute_result"
    }
   ],
   "source": [
    "time = s.timeliness(\"x2\", 5)\n",
    "time"
   ]
  },
  {
   "cell_type": "code",
   "execution_count": 12,
   "metadata": {},
   "outputs": [
    {
     "name": "stdout",
     "output_type": "stream",
     "text": [
      "KL\n",
      "1.4657710594873727\n",
      "KL form scikitlearn\n",
      "1.8546735918556878\n",
      "mutual information\n",
      "0.29634980972036773\n",
      "regression score\n",
      "0.3965014577259477\n",
      "RMSE\n",
      "0.30331501776206204\n",
      "MSE\n",
      "0.092\n",
      "Correlation\n",
      "(0.6358779630814554, 1.6222647280089715e-15)\n",
      "Signed-Wilcoxon\n",
      "WilcoxonResult(statistic=887.5, pvalue=0.8375532487088458)\n",
      "U-test\n",
      "MannwhitneyuResult(statistic=6132.5, pvalue=0.0006548121605249147)\n"
     ]
    }
   ],
   "source": [
    "def KL(P, Q):\n",
    "    \"\"\"Epsilon is used here to avoid conditional code for\n",
    "    checking that neither P nor Q is equal to 0.\"\"\"\n",
    "    epsilon = 0.00001\n",
    "\n",
    "    P = P + epsilon\n",
    "    Q = Q + epsilon\n",
    "\n",
    "    divergence = np.sum(P * np.log(P / Q))\n",
    "    return divergence\n",
    "\n",
    "\n",
    "print(\"KL\")\n",
    "print(KL(s.eval_df()[\"p(d_i)\"].values / 25, s.eval_df()[\"p^(d_i)\"].values / 25))\n",
    "print(\"KL form scikitlearn\")\n",
    "print(entropy(s.eval_df()[\"p(d_i)\"].values, s.eval_df()[\"p^(d_i)\"].values + 0.00001))\n",
    "print(\"mutual information\")\n",
    "print(\n",
    "    metrics.mutual_info_score(\n",
    "        s.eval_df()[\"p(d_i)\"].values, s.eval_df()[\"p^(d_i)\"].values\n",
    "    )\n",
    ")\n",
    "print(\"regression score\")\n",
    "print(metrics.r2_score(s.eval_df()[\"p(d_i)\"].values, s.eval_df()[\"p^(d_i)\"].values))\n",
    "print(\"RMSE\")\n",
    "print(\n",
    "    np.sqrt(\n",
    "        np.mean((s.eval_df()[\"p(d_i)\"].values - s.eval_df()[\"p^(d_i)\"].values) ** 2)\n",
    "    )\n",
    ")\n",
    "print(\"MSE\")\n",
    "print(np.mean((s.eval_df()[\"p(d_i)\"].values - s.eval_df()[\"p^(d_i)\"].values) ** 2))\n",
    "print(\"Correlation\")\n",
    "print(pearsonr(s.eval_df()[\"p(d_i)\"].values, s.eval_df()[\"p^(d_i)\"].values))\n",
    "print(\"Signed-Wilcoxon\")\n",
    "print(\n",
    "    wilcoxon(\n",
    "        s.eval_df()[\"p(d_i)\"].values,\n",
    "        s.eval_df()[\"p^(d_i)\"].values,\n",
    "        alternative=\"two-sided\",\n",
    "    )\n",
    ")\n",
    "print(\"U-test\")\n",
    "print(\n",
    "    mannwhitneyu(\n",
    "        s.eval_df()[\"p(d_i)\"].values,\n",
    "        s.eval_df()[\"p^(d_i)\"].values,\n",
    "        alternative=\"two-sided\",\n",
    "    )\n",
    ")"
   ]
  },
  {
   "cell_type": "markdown",
   "metadata": {},
   "source": [
    "### Confusion Matrix"
   ]
  },
  {
   "cell_type": "code",
   "execution_count": 13,
   "metadata": {},
   "outputs": [],
   "source": [
    "rel_cm = s.multi_conf_mat()"
   ]
  },
  {
   "cell_type": "code",
   "execution_count": 14,
   "metadata": {},
   "outputs": [
    {
     "data": {
      "text/html": [
       "<div>\n",
       "<style scoped>\n",
       "    .dataframe tbody tr th:only-of-type {\n",
       "        vertical-align: middle;\n",
       "    }\n",
       "\n",
       "    .dataframe tbody tr th {\n",
       "        vertical-align: top;\n",
       "    }\n",
       "\n",
       "    .dataframe thead th {\n",
       "        text-align: right;\n",
       "    }\n",
       "</style>\n",
       "<table border=\"1\" class=\"dataframe\">\n",
       "  <thead>\n",
       "    <tr style=\"text-align: right;\">\n",
       "      <th></th>\n",
       "      <th>false_pred</th>\n",
       "      <th>true_pred</th>\n",
       "    </tr>\n",
       "  </thead>\n",
       "  <tbody>\n",
       "    <tr>\n",
       "      <th>false_groundtruth</th>\n",
       "      <td>19.666667</td>\n",
       "      <td>2.333333</td>\n",
       "    </tr>\n",
       "    <tr>\n",
       "      <th>true_groundtruth</th>\n",
       "      <td>2.000000</td>\n",
       "      <td>1.000000</td>\n",
       "    </tr>\n",
       "  </tbody>\n",
       "</table>\n",
       "</div>"
      ],
      "text/plain": [
       "                   false_pred  true_pred\n",
       "false_groundtruth   19.666667   2.333333\n",
       "true_groundtruth     2.000000   1.000000"
      ]
     },
     "execution_count": 14,
     "metadata": {},
     "output_type": "execute_result"
    }
   ],
   "source": [
    "pd.DataFrame(\n",
    "    {\n",
    "        \"false_pred\": [\n",
    "            rel_cm.loc[\n",
    "                [c for c in rel_cm.columns if c != \"one\"],\n",
    "                [c for c in rel_cm.columns if c != \"one\"],\n",
    "            ]\n",
    "            .sum()\n",
    "            .sum(),\n",
    "            rel_cm.loc[\"one\", [c for c in rel_cm.columns if c != \"one\"]].sum(),\n",
    "        ],\n",
    "        \"true_pred\": [\n",
    "            rel_cm.loc[[c for c in rel_cm.columns if c != \"one\"], \"one\"].sum(),\n",
    "            rel_cm.loc[\"one\", \"one\"],\n",
    "        ],\n",
    "    },\n",
    "    index=[\n",
    "        \"false_groundtruth\",\n",
    "        \"true_groundtruth\",\n",
    "    ],\n",
    ")"
   ]
  },
  {
   "cell_type": "code",
   "execution_count": 15,
   "metadata": {},
   "outputs": [
    {
     "name": "stdout",
     "output_type": "stream",
     "text": [
      "**ENDEMIC**\n",
      "              precision    recall  f1-score   support\n",
      "\n",
      "           0       0.94      0.80      0.86        20\n",
      "           1       0.50      0.80      0.62         5\n",
      "\n",
      "    accuracy                           0.80        25\n",
      "   macro avg       0.72      0.80      0.74        25\n",
      "weighted avg       0.85      0.80      0.81        25\n",
      "\n",
      "**NON_CASE**\n",
      "              precision    recall  f1-score   support\n",
      "\n",
      "           0       1.00      1.00      1.00        13\n",
      "           1       1.00      1.00      1.00        12\n",
      "\n",
      "    accuracy                           1.00        25\n",
      "   macro avg       1.00      1.00      1.00        25\n",
      "weighted avg       1.00      1.00      1.00        25\n",
      "\n",
      "**ONE**\n",
      "              precision    recall  f1-score   support\n",
      "\n",
      "           0       1.00      0.91      0.95        22\n",
      "           1       0.60      1.00      0.75         3\n",
      "\n",
      "    accuracy                           0.92        25\n",
      "   macro avg       0.80      0.95      0.85        25\n",
      "weighted avg       0.95      0.92      0.93        25\n",
      "\n",
      "**THREE**\n",
      "              precision    recall  f1-score   support\n",
      "\n",
      "           0       0.90      0.78      0.84        23\n",
      "           1       0.00      0.00      0.00         2\n",
      "\n",
      "    accuracy                           0.72        25\n",
      "   macro avg       0.45      0.39      0.42        25\n",
      "weighted avg       0.83      0.72      0.77        25\n",
      "\n",
      "**TWO**\n",
      "              precision    recall  f1-score   support\n",
      "\n",
      "           0       0.85      0.81      0.83        21\n",
      "           1       0.20      0.25      0.22         4\n",
      "\n",
      "    accuracy                           0.72        25\n",
      "   macro avg       0.53      0.53      0.53        25\n",
      "weighted avg       0.75      0.72      0.73        25\n",
      "\n"
     ]
    },
    {
     "data": {
      "image/png": "[encoded data removed]",
      "text/plain": [
       "<Figure size 720x504 with 10 Axes>"
      ]
     },
     "metadata": {
      "needs_background": "light"
     },
     "output_type": "display_data"
    }
   ],
   "source": [
    "s.class_based_conf_mat()"
   ]
  },
  {
   "cell_type": "code",
   "execution_count": 16,
   "metadata": {},
   "outputs": [
    {
     "data": {
      "text/html": [
       "<div>\n",
       "<style scoped>\n",
       "    .dataframe tbody tr th:only-of-type {\n",
       "        vertical-align: middle;\n",
       "    }\n",
       "\n",
       "    .dataframe tbody tr th {\n",
       "        vertical-align: top;\n",
       "    }\n",
       "\n",
       "    .dataframe thead tr th {\n",
       "        text-align: left;\n",
       "    }\n",
       "\n",
       "    .dataframe thead tr:last-of-type th {\n",
       "        text-align: right;\n",
       "    }\n",
       "</style>\n",
       "<table border=\"1\" class=\"dataframe\">\n",
       "  <thead>\n",
       "    <tr>\n",
       "      <th></th>\n",
       "      <th></th>\n",
       "      <th>true</th>\n",
       "      <th>pred</th>\n",
       "    </tr>\n",
       "    <tr>\n",
       "      <th></th>\n",
       "      <th>d_i</th>\n",
       "      <th>three</th>\n",
       "      <th>three</th>\n",
       "    </tr>\n",
       "    <tr>\n",
       "      <th>x1</th>\n",
       "      <th>x2</th>\n",
       "      <th></th>\n",
       "      <th></th>\n",
       "    </tr>\n",
       "  </thead>\n",
       "  <tbody>\n",
       "    <tr>\n",
       "      <th rowspan=\"5\" valign=\"top\">0.0</th>\n",
       "      <th>0.0</th>\n",
       "      <td>0</td>\n",
       "      <td>0</td>\n",
       "    </tr>\n",
       "    <tr>\n",
       "      <th>1.0</th>\n",
       "      <td>0</td>\n",
       "      <td>0</td>\n",
       "    </tr>\n",
       "    <tr>\n",
       "      <th>2.0</th>\n",
       "      <td>0</td>\n",
       "      <td>0</td>\n",
       "    </tr>\n",
       "    <tr>\n",
       "      <th>3.0</th>\n",
       "      <td>0</td>\n",
       "      <td>0</td>\n",
       "    </tr>\n",
       "    <tr>\n",
       "      <th>4.0</th>\n",
       "      <td>0</td>\n",
       "      <td>1</td>\n",
       "    </tr>\n",
       "    <tr>\n",
       "      <th rowspan=\"5\" valign=\"top\">1.0</th>\n",
       "      <th>0.0</th>\n",
       "      <td>0</td>\n",
       "      <td>0</td>\n",
       "    </tr>\n",
       "    <tr>\n",
       "      <th>1.0</th>\n",
       "      <td>0</td>\n",
       "      <td>1</td>\n",
       "    </tr>\n",
       "    <tr>\n",
       "      <th>2.0</th>\n",
       "      <td>0</td>\n",
       "      <td>1</td>\n",
       "    </tr>\n",
       "    <tr>\n",
       "      <th>3.0</th>\n",
       "      <td>0</td>\n",
       "      <td>0</td>\n",
       "    </tr>\n",
       "    <tr>\n",
       "      <th>4.0</th>\n",
       "      <td>0</td>\n",
       "      <td>0</td>\n",
       "    </tr>\n",
       "    <tr>\n",
       "      <th rowspan=\"5\" valign=\"top\">2.0</th>\n",
       "      <th>0.0</th>\n",
       "      <td>0</td>\n",
       "      <td>0</td>\n",
       "    </tr>\n",
       "    <tr>\n",
       "      <th>1.0</th>\n",
       "      <td>0</td>\n",
       "      <td>1</td>\n",
       "    </tr>\n",
       "    <tr>\n",
       "      <th>2.0</th>\n",
       "      <td>0</td>\n",
       "      <td>1</td>\n",
       "    </tr>\n",
       "    <tr>\n",
       "      <th>3.0</th>\n",
       "      <td>0</td>\n",
       "      <td>0</td>\n",
       "    </tr>\n",
       "    <tr>\n",
       "      <th>4.0</th>\n",
       "      <td>0</td>\n",
       "      <td>0</td>\n",
       "    </tr>\n",
       "    <tr>\n",
       "      <th rowspan=\"5\" valign=\"top\">3.0</th>\n",
       "      <th>0.0</th>\n",
       "      <td>0</td>\n",
       "      <td>0</td>\n",
       "    </tr>\n",
       "    <tr>\n",
       "      <th>1.0</th>\n",
       "      <td>0</td>\n",
       "      <td>0</td>\n",
       "    </tr>\n",
       "    <tr>\n",
       "      <th>2.0</th>\n",
       "      <td>0</td>\n",
       "      <td>0</td>\n",
       "    </tr>\n",
       "    <tr>\n",
       "      <th>3.0</th>\n",
       "      <td>1</td>\n",
       "      <td>0</td>\n",
       "    </tr>\n",
       "    <tr>\n",
       "      <th>4.0</th>\n",
       "      <td>1</td>\n",
       "      <td>0</td>\n",
       "    </tr>\n",
       "    <tr>\n",
       "      <th rowspan=\"5\" valign=\"top\">4.0</th>\n",
       "      <th>0.0</th>\n",
       "      <td>0</td>\n",
       "      <td>0</td>\n",
       "    </tr>\n",
       "    <tr>\n",
       "      <th>1.0</th>\n",
       "      <td>0</td>\n",
       "      <td>0</td>\n",
       "    </tr>\n",
       "    <tr>\n",
       "      <th>2.0</th>\n",
       "      <td>0</td>\n",
       "      <td>0</td>\n",
       "    </tr>\n",
       "    <tr>\n",
       "      <th>3.0</th>\n",
       "      <td>0</td>\n",
       "      <td>0</td>\n",
       "    </tr>\n",
       "    <tr>\n",
       "      <th>4.0</th>\n",
       "      <td>0</td>\n",
       "      <td>0</td>\n",
       "    </tr>\n",
       "  </tbody>\n",
       "</table>\n",
       "</div>"
      ],
      "text/plain": [
       "         true  pred\n",
       "d_i     three three\n",
       "x1  x2             \n",
       "0.0 0.0     0     0\n",
       "    1.0     0     0\n",
       "    2.0     0     0\n",
       "    3.0     0     0\n",
       "    4.0     0     1\n",
       "1.0 0.0     0     0\n",
       "    1.0     0     1\n",
       "    2.0     0     1\n",
       "    3.0     0     0\n",
       "    4.0     0     0\n",
       "2.0 0.0     0     0\n",
       "    1.0     0     1\n",
       "    2.0     0     1\n",
       "    3.0     0     0\n",
       "    4.0     0     0\n",
       "3.0 0.0     0     0\n",
       "    1.0     0     0\n",
       "    2.0     0     0\n",
       "    3.0     1     0\n",
       "    4.0     1     0\n",
       "4.0 0.0     0     0\n",
       "    1.0     0     0\n",
       "    2.0     0     0\n",
       "    3.0     0     0\n",
       "    4.0     0     0"
      ]
     },
     "execution_count": 16,
     "metadata": {},
     "output_type": "execute_result"
    }
   ],
   "source": [
    "(\n",
    "    s.eval_df()\n",
    "    .assign(\n",
    "        true=lambda x: np.where(x[\"p(d_i)\"] >= 1 / 3, 1, 0),\n",
    "        pred=lambda x: np.where(x[\"p^(d_i)\"] >= 1 / 5, 1, 0),\n",
    "    )\n",
    "    .pivot(index=[\"x1\", \"x2\"], columns=\"d_i\", values=[\"true\", \"pred\"])\n",
    ").loc[:, (slice(None), \"three\")]"
   ]
  },
  {
   "cell_type": "code",
   "execution_count": 17,
   "metadata": {},
   "outputs": [
    {
     "name": "stdout",
     "output_type": "stream",
     "text": [
      "**ENDEMIC**\n",
      "              precision    recall  f1-score   support\n",
      "\n",
      "           0       0.94      0.80      0.86        20\n",
      "           1       0.50      0.80      0.62         5\n",
      "\n",
      "    accuracy                           0.80        25\n",
      "   macro avg       0.72      0.80      0.74        25\n",
      "weighted avg       0.85      0.80      0.81        25\n",
      "\n",
      "**NON_CASE**\n",
      "              precision    recall  f1-score   support\n",
      "\n",
      "           0       1.00      1.00      1.00        13\n",
      "           1       1.00      1.00      1.00        12\n",
      "\n",
      "    accuracy                           1.00        25\n",
      "   macro avg       1.00      1.00      1.00        25\n",
      "weighted avg       1.00      1.00      1.00        25\n",
      "\n",
      "**ONE**\n",
      "              precision    recall  f1-score   support\n",
      "\n",
      "           0       1.00      0.91      0.95        22\n",
      "           1       0.60      1.00      0.75         3\n",
      "\n",
      "    accuracy                           0.92        25\n",
      "   macro avg       0.80      0.95      0.85        25\n",
      "weighted avg       0.95      0.92      0.93        25\n",
      "\n",
      "**THREE**\n",
      "              precision    recall  f1-score   support\n",
      "\n",
      "           0       0.90      0.78      0.84        23\n",
      "           1       0.00      0.00      0.00         2\n",
      "\n",
      "    accuracy                           0.72        25\n",
      "   macro avg       0.45      0.39      0.42        25\n",
      "weighted avg       0.83      0.72      0.77        25\n",
      "\n",
      "**TWO**\n",
      "              precision    recall  f1-score   support\n",
      "\n",
      "           0       0.85      0.81      0.83        21\n",
      "           1       0.20      0.25      0.22         4\n",
      "\n",
      "    accuracy                           0.72        25\n",
      "   macro avg       0.53      0.53      0.53        25\n",
      "weighted avg       0.75      0.72      0.73        25\n",
      "\n"
     ]
    },
    {
     "data": {
      "image/png": "[encoded data removed]",
      "text/plain": [
       "<Figure size 720x504 with 10 Axes>"
      ]
     },
     "metadata": {
      "needs_background": "light"
     },
     "output_type": "display_data"
    }
   ],
   "source": [
    "s.class_based_conf_mat(weighted=True)"
   ]
  },
  {
   "cell_type": "code",
   "execution_count": 18,
   "metadata": {},
   "outputs": [],
   "source": [
    "pt = (\n",
    "    s.eval_df()\n",
    "    .assign(\n",
    "        true=lambda x: np.where(x[\"p(d_i)\"] >= 1 / 3, 1, 0),\n",
    "        pred=lambda x: np.where(x[\"p^(d_i)\"] >= 1 / 5, 1, 0),\n",
    "    )\n",
    "    .pivot(index=[\"x1\", \"x2\"], columns=\"d_i\", values=[\"true\", \"pred\"])\n",
    ")"
   ]
  },
  {
   "cell_type": "code",
   "execution_count": 19,
   "metadata": {},
   "outputs": [
    {
     "data": {
      "text/plain": [
       "array([[0, 1, 0, 0, 0],\n",
       "       [0, 1, 0, 0, 0],\n",
       "       [0, 0, 0, 0, 1],\n",
       "       [0, 0, 0, 0, 1],\n",
       "       [0, 0, 0, 0, 1],\n",
       "       [1, 0, 0, 0, 0],\n",
       "       [0, 0, 1, 0, 0],\n",
       "       [0, 0, 1, 0, 0],\n",
       "       [0, 1, 0, 0, 0],\n",
       "       [0, 1, 0, 0, 0],\n",
       "       [0, 1, 0, 0, 0],\n",
       "       [1, 0, 0, 0, 0],\n",
       "       [0, 0, 1, 0, 0],\n",
       "       [0, 1, 0, 0, 0],\n",
       "       [0, 1, 0, 0, 0],\n",
       "       [1, 0, 0, 0, 0],\n",
       "       [0, 1, 0, 0, 0],\n",
       "       [0, 1, 0, 0, 0],\n",
       "       [0, 0, 0, 1, 1],\n",
       "       [1, 0, 0, 1, 0],\n",
       "       [1, 0, 0, 0, 0],\n",
       "       [0, 1, 0, 0, 0],\n",
       "       [0, 1, 0, 0, 0],\n",
       "       [0, 1, 0, 0, 0],\n",
       "       [1, 0, 0, 0, 0]])"
      ]
     },
     "execution_count": 19,
     "metadata": {},
     "output_type": "execute_result"
    }
   ],
   "source": [
    "pt.loc[:, \"true\"].values"
   ]
  },
  {
   "cell_type": "code",
   "execution_count": 21,
   "metadata": {},
   "outputs": [],
   "source": [
    "series = (\n",
    "    s.data.iloc[:, ~s.data.columns.str.contains(\"x\")]\n",
    "    .where(lambda x: x > 1)\n",
    "    .sum(axis=1)\n",
    "    .where(lambda x: x > 0)\n",
    "    .dropna()\n",
    ")"
   ]
  },
  {
   "cell_type": "code",
   "execution_count": 22,
   "metadata": {},
   "outputs": [
    {
     "name": "stdout",
     "output_type": "stream",
     "text": [
      "(15, 4.0)\n",
      "(19, 2.0)\n",
      "(20, 2.0)\n"
     ]
    }
   ],
   "source": [
    "for i in series.iteritems():\n",
    "    print(i)"
   ]
  },
  {
   "cell_type": "code",
   "execution_count": 23,
   "metadata": {},
   "outputs": [
    {
     "data": {
      "text/html": [
       "<div>\n",
       "<style scoped>\n",
       "    .dataframe tbody tr th:only-of-type {\n",
       "        vertical-align: middle;\n",
       "    }\n",
       "\n",
       "    .dataframe tbody tr th {\n",
       "        vertical-align: top;\n",
       "    }\n",
       "\n",
       "    .dataframe thead tr th {\n",
       "        text-align: left;\n",
       "    }\n",
       "\n",
       "    .dataframe thead tr:last-of-type th {\n",
       "        text-align: right;\n",
       "    }\n",
       "</style>\n",
       "<table border=\"1\" class=\"dataframe\">\n",
       "  <thead>\n",
       "    <tr>\n",
       "      <th></th>\n",
       "      <th></th>\n",
       "      <th colspan=\"5\" halign=\"left\">true</th>\n",
       "      <th colspan=\"5\" halign=\"left\">pred</th>\n",
       "    </tr>\n",
       "    <tr>\n",
       "      <th></th>\n",
       "      <th>d_i</th>\n",
       "      <th>endemic</th>\n",
       "      <th>non_case</th>\n",
       "      <th>one</th>\n",
       "      <th>three</th>\n",
       "      <th>two</th>\n",
       "      <th>endemic</th>\n",
       "      <th>non_case</th>\n",
       "      <th>one</th>\n",
       "      <th>three</th>\n",
       "      <th>two</th>\n",
       "    </tr>\n",
       "    <tr>\n",
       "      <th>x1</th>\n",
       "      <th>x2</th>\n",
       "      <th></th>\n",
       "      <th></th>\n",
       "      <th></th>\n",
       "      <th></th>\n",
       "      <th></th>\n",
       "      <th></th>\n",
       "      <th></th>\n",
       "      <th></th>\n",
       "      <th></th>\n",
       "      <th></th>\n",
       "    </tr>\n",
       "  </thead>\n",
       "  <tbody>\n",
       "    <tr>\n",
       "      <th rowspan=\"5\" valign=\"top\">0.0</th>\n",
       "      <th>0.0</th>\n",
       "      <td>0</td>\n",
       "      <td>1</td>\n",
       "      <td>0</td>\n",
       "      <td>0</td>\n",
       "      <td>0</td>\n",
       "      <td>0</td>\n",
       "      <td>1</td>\n",
       "      <td>0</td>\n",
       "      <td>0</td>\n",
       "      <td>0</td>\n",
       "    </tr>\n",
       "    <tr>\n",
       "      <th>1.0</th>\n",
       "      <td>0</td>\n",
       "      <td>1</td>\n",
       "      <td>0</td>\n",
       "      <td>0</td>\n",
       "      <td>0</td>\n",
       "      <td>0</td>\n",
       "      <td>1</td>\n",
       "      <td>0</td>\n",
       "      <td>0</td>\n",
       "      <td>0</td>\n",
       "    </tr>\n",
       "    <tr>\n",
       "      <th>2.0</th>\n",
       "      <td>0</td>\n",
       "      <td>0</td>\n",
       "      <td>0</td>\n",
       "      <td>0</td>\n",
       "      <td>1</td>\n",
       "      <td>1</td>\n",
       "      <td>0</td>\n",
       "      <td>0</td>\n",
       "      <td>0</td>\n",
       "      <td>0</td>\n",
       "    </tr>\n",
       "    <tr>\n",
       "      <th>3.0</th>\n",
       "      <td>0</td>\n",
       "      <td>0</td>\n",
       "      <td>0</td>\n",
       "      <td>0</td>\n",
       "      <td>1</td>\n",
       "      <td>1</td>\n",
       "      <td>0</td>\n",
       "      <td>0</td>\n",
       "      <td>0</td>\n",
       "      <td>0</td>\n",
       "    </tr>\n",
       "    <tr>\n",
       "      <th>4.0</th>\n",
       "      <td>0</td>\n",
       "      <td>0</td>\n",
       "      <td>0</td>\n",
       "      <td>0</td>\n",
       "      <td>1</td>\n",
       "      <td>0</td>\n",
       "      <td>0</td>\n",
       "      <td>1</td>\n",
       "      <td>1</td>\n",
       "      <td>1</td>\n",
       "    </tr>\n",
       "    <tr>\n",
       "      <th rowspan=\"5\" valign=\"top\">1.0</th>\n",
       "      <th>0.0</th>\n",
       "      <td>1</td>\n",
       "      <td>0</td>\n",
       "      <td>0</td>\n",
       "      <td>0</td>\n",
       "      <td>0</td>\n",
       "      <td>1</td>\n",
       "      <td>0</td>\n",
       "      <td>0</td>\n",
       "      <td>0</td>\n",
       "      <td>0</td>\n",
       "    </tr>\n",
       "    <tr>\n",
       "      <th>1.0</th>\n",
       "      <td>0</td>\n",
       "      <td>0</td>\n",
       "      <td>1</td>\n",
       "      <td>0</td>\n",
       "      <td>0</td>\n",
       "      <td>0</td>\n",
       "      <td>0</td>\n",
       "      <td>1</td>\n",
       "      <td>1</td>\n",
       "      <td>1</td>\n",
       "    </tr>\n",
       "    <tr>\n",
       "      <th>2.0</th>\n",
       "      <td>0</td>\n",
       "      <td>0</td>\n",
       "      <td>1</td>\n",
       "      <td>0</td>\n",
       "      <td>0</td>\n",
       "      <td>0</td>\n",
       "      <td>0</td>\n",
       "      <td>1</td>\n",
       "      <td>1</td>\n",
       "      <td>1</td>\n",
       "    </tr>\n",
       "    <tr>\n",
       "      <th>3.0</th>\n",
       "      <td>0</td>\n",
       "      <td>1</td>\n",
       "      <td>0</td>\n",
       "      <td>0</td>\n",
       "      <td>0</td>\n",
       "      <td>0</td>\n",
       "      <td>1</td>\n",
       "      <td>0</td>\n",
       "      <td>0</td>\n",
       "      <td>0</td>\n",
       "    </tr>\n",
       "    <tr>\n",
       "      <th>4.0</th>\n",
       "      <td>0</td>\n",
       "      <td>1</td>\n",
       "      <td>0</td>\n",
       "      <td>0</td>\n",
       "      <td>0</td>\n",
       "      <td>0</td>\n",
       "      <td>1</td>\n",
       "      <td>0</td>\n",
       "      <td>0</td>\n",
       "      <td>0</td>\n",
       "    </tr>\n",
       "    <tr>\n",
       "      <th rowspan=\"5\" valign=\"top\">2.0</th>\n",
       "      <th>0.0</th>\n",
       "      <td>0</td>\n",
       "      <td>1</td>\n",
       "      <td>0</td>\n",
       "      <td>0</td>\n",
       "      <td>0</td>\n",
       "      <td>0</td>\n",
       "      <td>1</td>\n",
       "      <td>0</td>\n",
       "      <td>0</td>\n",
       "      <td>0</td>\n",
       "    </tr>\n",
       "    <tr>\n",
       "      <th>1.0</th>\n",
       "      <td>1</td>\n",
       "      <td>0</td>\n",
       "      <td>0</td>\n",
       "      <td>0</td>\n",
       "      <td>0</td>\n",
       "      <td>0</td>\n",
       "      <td>0</td>\n",
       "      <td>1</td>\n",
       "      <td>1</td>\n",
       "      <td>1</td>\n",
       "    </tr>\n",
       "    <tr>\n",
       "      <th>2.0</th>\n",
       "      <td>0</td>\n",
       "      <td>0</td>\n",
       "      <td>1</td>\n",
       "      <td>0</td>\n",
       "      <td>0</td>\n",
       "      <td>0</td>\n",
       "      <td>0</td>\n",
       "      <td>1</td>\n",
       "      <td>1</td>\n",
       "      <td>1</td>\n",
       "    </tr>\n",
       "    <tr>\n",
       "      <th>3.0</th>\n",
       "      <td>0</td>\n",
       "      <td>1</td>\n",
       "      <td>0</td>\n",
       "      <td>0</td>\n",
       "      <td>0</td>\n",
       "      <td>0</td>\n",
       "      <td>1</td>\n",
       "      <td>0</td>\n",
       "      <td>0</td>\n",
       "      <td>0</td>\n",
       "    </tr>\n",
       "    <tr>\n",
       "      <th>4.0</th>\n",
       "      <td>0</td>\n",
       "      <td>1</td>\n",
       "      <td>0</td>\n",
       "      <td>0</td>\n",
       "      <td>0</td>\n",
       "      <td>0</td>\n",
       "      <td>1</td>\n",
       "      <td>0</td>\n",
       "      <td>0</td>\n",
       "      <td>0</td>\n",
       "    </tr>\n",
       "    <tr>\n",
       "      <th rowspan=\"5\" valign=\"top\">3.0</th>\n",
       "      <th>0.0</th>\n",
       "      <td>1</td>\n",
       "      <td>0</td>\n",
       "      <td>0</td>\n",
       "      <td>0</td>\n",
       "      <td>0</td>\n",
       "      <td>1</td>\n",
       "      <td>0</td>\n",
       "      <td>0</td>\n",
       "      <td>0</td>\n",
       "      <td>0</td>\n",
       "    </tr>\n",
       "    <tr>\n",
       "      <th>1.0</th>\n",
       "      <td>0</td>\n",
       "      <td>1</td>\n",
       "      <td>0</td>\n",
       "      <td>0</td>\n",
       "      <td>0</td>\n",
       "      <td>0</td>\n",
       "      <td>1</td>\n",
       "      <td>0</td>\n",
       "      <td>0</td>\n",
       "      <td>0</td>\n",
       "    </tr>\n",
       "    <tr>\n",
       "      <th>2.0</th>\n",
       "      <td>0</td>\n",
       "      <td>1</td>\n",
       "      <td>0</td>\n",
       "      <td>0</td>\n",
       "      <td>0</td>\n",
       "      <td>0</td>\n",
       "      <td>1</td>\n",
       "      <td>0</td>\n",
       "      <td>0</td>\n",
       "      <td>0</td>\n",
       "    </tr>\n",
       "    <tr>\n",
       "      <th>3.0</th>\n",
       "      <td>0</td>\n",
       "      <td>0</td>\n",
       "      <td>0</td>\n",
       "      <td>1</td>\n",
       "      <td>1</td>\n",
       "      <td>1</td>\n",
       "      <td>0</td>\n",
       "      <td>0</td>\n",
       "      <td>0</td>\n",
       "      <td>0</td>\n",
       "    </tr>\n",
       "    <tr>\n",
       "      <th>4.0</th>\n",
       "      <td>1</td>\n",
       "      <td>0</td>\n",
       "      <td>0</td>\n",
       "      <td>1</td>\n",
       "      <td>0</td>\n",
       "      <td>1</td>\n",
       "      <td>0</td>\n",
       "      <td>0</td>\n",
       "      <td>0</td>\n",
       "      <td>0</td>\n",
       "    </tr>\n",
       "    <tr>\n",
       "      <th rowspan=\"5\" valign=\"top\">4.0</th>\n",
       "      <th>0.0</th>\n",
       "      <td>1</td>\n",
       "      <td>0</td>\n",
       "      <td>0</td>\n",
       "      <td>0</td>\n",
       "      <td>0</td>\n",
       "      <td>1</td>\n",
       "      <td>0</td>\n",
       "      <td>0</td>\n",
       "      <td>0</td>\n",
       "      <td>0</td>\n",
       "    </tr>\n",
       "    <tr>\n",
       "      <th>1.0</th>\n",
       "      <td>0</td>\n",
       "      <td>1</td>\n",
       "      <td>0</td>\n",
       "      <td>0</td>\n",
       "      <td>0</td>\n",
       "      <td>0</td>\n",
       "      <td>1</td>\n",
       "      <td>0</td>\n",
       "      <td>0</td>\n",
       "      <td>0</td>\n",
       "    </tr>\n",
       "    <tr>\n",
       "      <th>2.0</th>\n",
       "      <td>0</td>\n",
       "      <td>1</td>\n",
       "      <td>0</td>\n",
       "      <td>0</td>\n",
       "      <td>0</td>\n",
       "      <td>0</td>\n",
       "      <td>1</td>\n",
       "      <td>0</td>\n",
       "      <td>0</td>\n",
       "      <td>0</td>\n",
       "    </tr>\n",
       "    <tr>\n",
       "      <th>3.0</th>\n",
       "      <td>0</td>\n",
       "      <td>1</td>\n",
       "      <td>0</td>\n",
       "      <td>0</td>\n",
       "      <td>0</td>\n",
       "      <td>0</td>\n",
       "      <td>1</td>\n",
       "      <td>0</td>\n",
       "      <td>0</td>\n",
       "      <td>0</td>\n",
       "    </tr>\n",
       "    <tr>\n",
       "      <th>4.0</th>\n",
       "      <td>1</td>\n",
       "      <td>0</td>\n",
       "      <td>0</td>\n",
       "      <td>0</td>\n",
       "      <td>0</td>\n",
       "      <td>1</td>\n",
       "      <td>0</td>\n",
       "      <td>0</td>\n",
       "      <td>0</td>\n",
       "      <td>0</td>\n",
       "    </tr>\n",
       "    <tr>\n",
       "      <th>3.0</th>\n",
       "      <th>0.0</th>\n",
       "      <td>1</td>\n",
       "      <td>0</td>\n",
       "      <td>0</td>\n",
       "      <td>0</td>\n",
       "      <td>0</td>\n",
       "      <td>1</td>\n",
       "      <td>0</td>\n",
       "      <td>0</td>\n",
       "      <td>0</td>\n",
       "      <td>0</td>\n",
       "    </tr>\n",
       "  </tbody>\n",
       "</table>\n",
       "</div>"
      ],
      "text/plain": [
       "           true                           pred                       \n",
       "d_i     endemic non_case one three two endemic non_case one three two\n",
       "x1  x2                                                               \n",
       "0.0 0.0       0        1   0     0   0       0        1   0     0   0\n",
       "    1.0       0        1   0     0   0       0        1   0     0   0\n",
       "    2.0       0        0   0     0   1       1        0   0     0   0\n",
       "    3.0       0        0   0     0   1       1        0   0     0   0\n",
       "    4.0       0        0   0     0   1       0        0   1     1   1\n",
       "1.0 0.0       1        0   0     0   0       1        0   0     0   0\n",
       "    1.0       0        0   1     0   0       0        0   1     1   1\n",
       "    2.0       0        0   1     0   0       0        0   1     1   1\n",
       "    3.0       0        1   0     0   0       0        1   0     0   0\n",
       "    4.0       0        1   0     0   0       0        1   0     0   0\n",
       "2.0 0.0       0        1   0     0   0       0        1   0     0   0\n",
       "    1.0       1        0   0     0   0       0        0   1     1   1\n",
       "    2.0       0        0   1     0   0       0        0   1     1   1\n",
       "    3.0       0        1   0     0   0       0        1   0     0   0\n",
       "    4.0       0        1   0     0   0       0        1   0     0   0\n",
       "3.0 0.0       1        0   0     0   0       1        0   0     0   0\n",
       "    1.0       0        1   0     0   0       0        1   0     0   0\n",
       "    2.0       0        1   0     0   0       0        1   0     0   0\n",
       "    3.0       0        0   0     1   1       1        0   0     0   0\n",
       "    4.0       1        0   0     1   0       1        0   0     0   0\n",
       "4.0 0.0       1        0   0     0   0       1        0   0     0   0\n",
       "    1.0       0        1   0     0   0       0        1   0     0   0\n",
       "    2.0       0        1   0     0   0       0        1   0     0   0\n",
       "    3.0       0        1   0     0   0       0        1   0     0   0\n",
       "    4.0       1        0   0     0   0       1        0   0     0   0\n",
       "3.0 0.0       1        0   0     0   0       1        0   0     0   0"
      ]
     },
     "execution_count": 23,
     "metadata": {},
     "output_type": "execute_result"
    }
   ],
   "source": [
    "pt.append(pt.iloc[15])"
   ]
  },
  {
   "cell_type": "code",
   "execution_count": 24,
   "metadata": {},
   "outputs": [
    {
     "data": {
      "text/plain": [
       "(25, 5)"
      ]
     },
     "execution_count": 24,
     "metadata": {},
     "output_type": "execute_result"
    }
   ],
   "source": [
    "pt.loc[:, \"true\"].values.shape"
   ]
  },
  {
   "cell_type": "code",
   "execution_count": 25,
   "metadata": {},
   "outputs": [
    {
     "data": {
      "text/plain": [
       "{'two': 0.0, 'one': 1.0, 'three': 1.0}"
      ]
     },
     "execution_count": 25,
     "metadata": {},
     "output_type": "execute_result"
    }
   ],
   "source": [
    "s.timeliness(\"x2\", 2)"
   ]
  },
  {
   "cell_type": "markdown",
   "metadata": {},
   "source": [
    "### How to score when algo is a classifier\n",
    "- We look into data distribution and set a cut-off based on data distribution. We assume that the non-outbreak numbers are highest around 0. This peak will flatten when we move away from 0. There we set a cut-off when the next peak is about to start (probably a outbreak cluster)\n",
    "- Discretize p(d_i) into bins and predict vector of bins\n",
    "- p(d_i) \\element of {0,1} -> confusion matrix"
   ]
  },
  {
   "cell_type": "markdown",
   "metadata": {},
   "source": [
    "R = [0,1]\n",
    "\n",
    "B = {0,1}\n",
    "- p \\element R AND p^ \\element R -> like the lower, when threshold for p^ is set to e.g., 0.5\n",
    "- p \\element R AND p^ \\element B ->\n",
    "- p \\element B AND p^ \\element R -> easy/known/ROC/AUC\n",
    "- p \\element B AND p^ \\element B -> easy\n",
    "\n",
    "### References\n",
    "- KL, Entropy, MI (Wie macht es inhatlich Sinn die Entropie zu berechnen, gegeben den verschiedenen Zellen und DataLabels)\n",
    "    - Referenz: https://arxiv.org/pdf/1802.03446.pdf\n",
    "    - Referenz: https://www.sciencedirect.com/science/article/pii/S107731420700077X (pixel-based classifications)\n",
    "    - Referenz: https://iopscience.iop.org/article/10.1088/1755-1315/47/1/012042/pdf (pixel-based classifications)\n",
    "    - Likelihood methoden anschauen\n",
    "    - https://en.wikipedia.org/wiki/Kernel_embedding_of_distributions"
   ]
  },
  {
   "cell_type": "markdown",
   "metadata": {},
   "source": [
    "## TODO:    \n",
    "- Geographisches weighting (distanz aller Zell-Kombis spielt eine Rolle)\n",
    "- statt delays zu addieren, mittelwert der timeliness rechnen\n",
    "- eventuell kombinieren\n",
    "\n",
    "## Backlog:\n",
    "- z-score-based binning (https://core.ac.uk/download/pdf/82692314.pdf)\n",
    "    - in general quantiles\n",
    "- attribute cell to data with highest probability\n",
    "- evt Nouffeily Sim nutzen\n",
    "- check if score is proper \n",
    "- entropy, KL, mutual information probieren abzuleiten und für unseren Fall anzuwenden"
   ]
  },
  {
   "cell_type": "markdown",
   "metadata": {},
   "source": [
    "## Example scenarios"
   ]
  },
  {
   "cell_type": "code",
   "execution_count": 26,
   "metadata": {},
   "outputs": [
    {
     "name": "stdout",
     "output_type": "stream",
     "text": [
      "R2: \n",
      "0.24489795918367363\n"
     ]
    }
   ],
   "source": [
    "signal_bad = pd.DataFrame(product(range(5), range(5)), columns=[\"x1\", \"x2\"]).assign(\n",
    "    w_A=0, w_B=0, w_C=0\n",
    ")\n",
    "\n",
    "score_bad = Score(df_cases, signal_bad, [\"one\", \"two\", \"three\"])\n",
    "\n",
    "print(\"R2: \")\n",
    "print(\n",
    "    metrics.r2_score(\n",
    "        score_bad.eval_df()[\"p(d_i)\"].values, score_bad.eval_df()[\"p^(d_i)\"].values\n",
    "    )\n",
    ")"
   ]
  },
  {
   "cell_type": "code",
   "execution_count": 27,
   "metadata": {},
   "outputs": [
    {
     "name": "stdout",
     "output_type": "stream",
     "text": [
      "**ENDEMIC**\n",
      "              precision    recall  f1-score   support\n",
      "\n",
      "           0       1.00      0.60      0.75        20\n",
      "           1       0.38      1.00      0.56         5\n",
      "\n",
      "    accuracy                           0.68        25\n",
      "   macro avg       0.69      0.80      0.65        25\n",
      "weighted avg       0.88      0.68      0.71        25\n",
      "\n",
      "**NON_CASE**\n",
      "              precision    recall  f1-score   support\n",
      "\n",
      "           0       1.00      1.00      1.00        13\n",
      "           1       1.00      1.00      1.00        12\n",
      "\n",
      "    accuracy                           1.00        25\n",
      "   macro avg       1.00      1.00      1.00        25\n",
      "weighted avg       1.00      1.00      1.00        25\n",
      "\n",
      "**ONE**\n"
     ]
    },
    {
     "name": "stderr",
     "output_type": "stream",
     "text": [
      "C:\\Users\\AbboodA\\AppData\\Local\\Continuum\\miniconda3\\envs\\scoring\\lib\\site-packages\\sklearn\\metrics\\_classification.py:1272: UndefinedMetricWarning: Precision and F-score are ill-defined and being set to 0.0 in labels with no predicted samples. Use `zero_division` parameter to control this behavior.\n",
      "  _warn_prf(average, modifier, msg_start, len(result))\n"
     ]
    },
    {
     "name": "stdout",
     "output_type": "stream",
     "text": [
      "              precision    recall  f1-score   support\n",
      "\n",
      "           0       0.88      1.00      0.94        22\n",
      "           1       0.00      0.00      0.00         3\n",
      "\n",
      "    accuracy                           0.88        25\n",
      "   macro avg       0.44      0.50      0.47        25\n",
      "weighted avg       0.77      0.88      0.82        25\n",
      "\n",
      "**THREE**\n",
      "              precision    recall  f1-score   support\n",
      "\n",
      "           0       0.92      1.00      0.96        23\n",
      "           1       0.00      0.00      0.00         2\n",
      "\n",
      "    accuracy                           0.92        25\n",
      "   macro avg       0.46      0.50      0.48        25\n",
      "weighted avg       0.85      0.92      0.88        25\n",
      "\n",
      "**TWO**\n",
      "              precision    recall  f1-score   support\n",
      "\n",
      "           0       0.84      1.00      0.91        21\n",
      "           1       0.00      0.00      0.00         4\n",
      "\n",
      "    accuracy                           0.84        25\n",
      "   macro avg       0.42      0.50      0.46        25\n",
      "weighted avg       0.71      0.84      0.77        25\n",
      "\n"
     ]
    },
    {
     "data": {
      "image/png": "[encoded data removed]",
      "text/plain": [
       "<Figure size 720x504 with 10 Axes>"
      ]
     },
     "metadata": {
      "needs_background": "light"
     },
     "output_type": "display_data"
    }
   ],
   "source": [
    "score_bad.class_based_conf_mat()"
   ]
  },
  {
   "cell_type": "code",
   "execution_count": 28,
   "metadata": {},
   "outputs": [
    {
     "data": {
      "text/html": [
       "<div>\n",
       "<style scoped>\n",
       "    .dataframe tbody tr th:only-of-type {\n",
       "        vertical-align: middle;\n",
       "    }\n",
       "\n",
       "    .dataframe tbody tr th {\n",
       "        vertical-align: top;\n",
       "    }\n",
       "\n",
       "    .dataframe thead th {\n",
       "        text-align: right;\n",
       "    }\n",
       "</style>\n",
       "<table border=\"1\" class=\"dataframe\">\n",
       "  <thead>\n",
       "    <tr style=\"text-align: right;\">\n",
       "      <th></th>\n",
       "      <th>d_i</th>\n",
       "      <th>endemic</th>\n",
       "      <th>non_case</th>\n",
       "      <th>one</th>\n",
       "      <th>three</th>\n",
       "      <th>two</th>\n",
       "    </tr>\n",
       "    <tr>\n",
       "      <th>x1</th>\n",
       "      <th>x2</th>\n",
       "      <th></th>\n",
       "      <th></th>\n",
       "      <th></th>\n",
       "      <th></th>\n",
       "      <th></th>\n",
       "    </tr>\n",
       "  </thead>\n",
       "  <tbody>\n",
       "    <tr>\n",
       "      <th rowspan=\"5\" valign=\"top\">0.0</th>\n",
       "      <th>0.0</th>\n",
       "      <td>0</td>\n",
       "      <td>1</td>\n",
       "      <td>0</td>\n",
       "      <td>0</td>\n",
       "      <td>0</td>\n",
       "    </tr>\n",
       "    <tr>\n",
       "      <th>1.0</th>\n",
       "      <td>0</td>\n",
       "      <td>1</td>\n",
       "      <td>0</td>\n",
       "      <td>0</td>\n",
       "      <td>0</td>\n",
       "    </tr>\n",
       "    <tr>\n",
       "      <th>2.0</th>\n",
       "      <td>0</td>\n",
       "      <td>0</td>\n",
       "      <td>0</td>\n",
       "      <td>0</td>\n",
       "      <td>1</td>\n",
       "    </tr>\n",
       "    <tr>\n",
       "      <th>3.0</th>\n",
       "      <td>0</td>\n",
       "      <td>0</td>\n",
       "      <td>0</td>\n",
       "      <td>0</td>\n",
       "      <td>1</td>\n",
       "    </tr>\n",
       "    <tr>\n",
       "      <th>4.0</th>\n",
       "      <td>0</td>\n",
       "      <td>0</td>\n",
       "      <td>0</td>\n",
       "      <td>0</td>\n",
       "      <td>1</td>\n",
       "    </tr>\n",
       "    <tr>\n",
       "      <th rowspan=\"5\" valign=\"top\">1.0</th>\n",
       "      <th>0.0</th>\n",
       "      <td>1</td>\n",
       "      <td>0</td>\n",
       "      <td>0</td>\n",
       "      <td>0</td>\n",
       "      <td>0</td>\n",
       "    </tr>\n",
       "    <tr>\n",
       "      <th>1.0</th>\n",
       "      <td>0</td>\n",
       "      <td>0</td>\n",
       "      <td>1</td>\n",
       "      <td>0</td>\n",
       "      <td>0</td>\n",
       "    </tr>\n",
       "    <tr>\n",
       "      <th>2.0</th>\n",
       "      <td>0</td>\n",
       "      <td>0</td>\n",
       "      <td>1</td>\n",
       "      <td>0</td>\n",
       "      <td>0</td>\n",
       "    </tr>\n",
       "    <tr>\n",
       "      <th>3.0</th>\n",
       "      <td>0</td>\n",
       "      <td>1</td>\n",
       "      <td>0</td>\n",
       "      <td>0</td>\n",
       "      <td>0</td>\n",
       "    </tr>\n",
       "    <tr>\n",
       "      <th>4.0</th>\n",
       "      <td>0</td>\n",
       "      <td>1</td>\n",
       "      <td>0</td>\n",
       "      <td>0</td>\n",
       "      <td>0</td>\n",
       "    </tr>\n",
       "    <tr>\n",
       "      <th rowspan=\"5\" valign=\"top\">2.0</th>\n",
       "      <th>0.0</th>\n",
       "      <td>0</td>\n",
       "      <td>1</td>\n",
       "      <td>0</td>\n",
       "      <td>0</td>\n",
       "      <td>0</td>\n",
       "    </tr>\n",
       "    <tr>\n",
       "      <th>1.0</th>\n",
       "      <td>1</td>\n",
       "      <td>0</td>\n",
       "      <td>0</td>\n",
       "      <td>0</td>\n",
       "      <td>0</td>\n",
       "    </tr>\n",
       "    <tr>\n",
       "      <th>2.0</th>\n",
       "      <td>0</td>\n",
       "      <td>0</td>\n",
       "      <td>1</td>\n",
       "      <td>0</td>\n",
       "      <td>0</td>\n",
       "    </tr>\n",
       "    <tr>\n",
       "      <th>3.0</th>\n",
       "      <td>0</td>\n",
       "      <td>1</td>\n",
       "      <td>0</td>\n",
       "      <td>0</td>\n",
       "      <td>0</td>\n",
       "    </tr>\n",
       "    <tr>\n",
       "      <th>4.0</th>\n",
       "      <td>0</td>\n",
       "      <td>1</td>\n",
       "      <td>0</td>\n",
       "      <td>0</td>\n",
       "      <td>0</td>\n",
       "    </tr>\n",
       "    <tr>\n",
       "      <th rowspan=\"5\" valign=\"top\">3.0</th>\n",
       "      <th>0.0</th>\n",
       "      <td>1</td>\n",
       "      <td>0</td>\n",
       "      <td>0</td>\n",
       "      <td>0</td>\n",
       "      <td>0</td>\n",
       "    </tr>\n",
       "    <tr>\n",
       "      <th>1.0</th>\n",
       "      <td>0</td>\n",
       "      <td>1</td>\n",
       "      <td>0</td>\n",
       "      <td>0</td>\n",
       "      <td>0</td>\n",
       "    </tr>\n",
       "    <tr>\n",
       "      <th>2.0</th>\n",
       "      <td>0</td>\n",
       "      <td>1</td>\n",
       "      <td>0</td>\n",
       "      <td>0</td>\n",
       "      <td>0</td>\n",
       "    </tr>\n",
       "    <tr>\n",
       "      <th>3.0</th>\n",
       "      <td>0</td>\n",
       "      <td>0</td>\n",
       "      <td>0</td>\n",
       "      <td>1</td>\n",
       "      <td>1</td>\n",
       "    </tr>\n",
       "    <tr>\n",
       "      <th>4.0</th>\n",
       "      <td>1</td>\n",
       "      <td>0</td>\n",
       "      <td>0</td>\n",
       "      <td>1</td>\n",
       "      <td>0</td>\n",
       "    </tr>\n",
       "    <tr>\n",
       "      <th rowspan=\"5\" valign=\"top\">4.0</th>\n",
       "      <th>0.0</th>\n",
       "      <td>1</td>\n",
       "      <td>0</td>\n",
       "      <td>0</td>\n",
       "      <td>0</td>\n",
       "      <td>0</td>\n",
       "    </tr>\n",
       "    <tr>\n",
       "      <th>1.0</th>\n",
       "      <td>0</td>\n",
       "      <td>1</td>\n",
       "      <td>0</td>\n",
       "      <td>0</td>\n",
       "      <td>0</td>\n",
       "    </tr>\n",
       "    <tr>\n",
       "      <th>2.0</th>\n",
       "      <td>0</td>\n",
       "      <td>1</td>\n",
       "      <td>0</td>\n",
       "      <td>0</td>\n",
       "      <td>0</td>\n",
       "    </tr>\n",
       "    <tr>\n",
       "      <th>3.0</th>\n",
       "      <td>0</td>\n",
       "      <td>1</td>\n",
       "      <td>0</td>\n",
       "      <td>0</td>\n",
       "      <td>0</td>\n",
       "    </tr>\n",
       "    <tr>\n",
       "      <th>4.0</th>\n",
       "      <td>1</td>\n",
       "      <td>0</td>\n",
       "      <td>0</td>\n",
       "      <td>0</td>\n",
       "      <td>0</td>\n",
       "    </tr>\n",
       "  </tbody>\n",
       "</table>\n",
       "</div>"
      ],
      "text/plain": [
       "d_i      endemic  non_case  one  three  two\n",
       "x1  x2                                     \n",
       "0.0 0.0        0         1    0      0    0\n",
       "    1.0        0         1    0      0    0\n",
       "    2.0        0         0    0      0    1\n",
       "    3.0        0         0    0      0    1\n",
       "    4.0        0         0    0      0    1\n",
       "1.0 0.0        1         0    0      0    0\n",
       "    1.0        0         0    1      0    0\n",
       "    2.0        0         0    1      0    0\n",
       "    3.0        0         1    0      0    0\n",
       "    4.0        0         1    0      0    0\n",
       "2.0 0.0        0         1    0      0    0\n",
       "    1.0        1         0    0      0    0\n",
       "    2.0        0         0    1      0    0\n",
       "    3.0        0         1    0      0    0\n",
       "    4.0        0         1    0      0    0\n",
       "3.0 0.0        1         0    0      0    0\n",
       "    1.0        0         1    0      0    0\n",
       "    2.0        0         1    0      0    0\n",
       "    3.0        0         0    0      1    1\n",
       "    4.0        1         0    0      1    0\n",
       "4.0 0.0        1         0    0      0    0\n",
       "    1.0        0         1    0      0    0\n",
       "    2.0        0         1    0      0    0\n",
       "    3.0        0         1    0      0    0\n",
       "    4.0        1         0    0      0    0"
      ]
     },
     "execution_count": 28,
     "metadata": {},
     "output_type": "execute_result"
    }
   ],
   "source": [
    "(\n",
    "    score_bad.eval_df()\n",
    "    .assign(\n",
    "        true=lambda x: np.where(x[\"p(d_i)\"] >= 1 / 3, 1, 0),\n",
    "        pred=lambda x: np.where(x[\"p^(d_i)\"] >= 1 / 5, 1, 0),\n",
    "    )\n",
    "    .pivot(index=[\"x1\", \"x2\"], columns=\"d_i\", values=[\"true\", \"pred\"])\n",
    ").loc[:, \"true\"]"
   ]
  },
  {
   "cell_type": "code",
   "execution_count": 35,
   "metadata": {},
   "outputs": [
    {
     "data": {
      "text/plain": [
       "(0.3111111111111111,\n",
       " 0.5683760683760684,\n",
       " 0.3123123123123123,\n",
       " 0.3580246913580247)"
      ]
     },
     "execution_count": 35,
     "metadata": {},
     "output_type": "execute_result"
    }
   ],
   "source": [
    "score_bad.mean_score(metrics.f1_score)"
   ]
  },
  {
   "cell_type": "code",
   "execution_count": 36,
   "metadata": {},
   "outputs": [
    {
     "name": "stdout",
     "output_type": "stream",
     "text": [
      "R2: \n",
      "-0.4314868804664722\n"
     ]
    }
   ],
   "source": [
    "signal_sensitive = pd.DataFrame(\n",
    "    product(range(5), range(5)), columns=[\"x1\", \"x2\"]\n",
    ").assign(w_A=1, w_B=1, w_C=1)\n",
    "\n",
    "score_sensitive = Score(df_cases, signal_sensitive, [\"one\", \"two\", \"three\"])\n",
    "\n",
    "print(\"R2: \")\n",
    "print(\n",
    "    metrics.r2_score(\n",
    "        score_sensitive.eval_df()[\"p(d_i)\"].values,\n",
    "        score_sensitive.eval_df()[\"p^(d_i)\"].values,\n",
    "    )\n",
    ")"
   ]
  },
  {
   "cell_type": "code",
   "execution_count": 37,
   "metadata": {},
   "outputs": [
    {
     "name": "stdout",
     "output_type": "stream",
     "text": [
      "**ENDEMIC**\n",
      "              precision    recall  f1-score   support\n",
      "\n",
      "           0       0.80      1.00      0.89        20\n",
      "           1       0.00      0.00      0.00         5\n",
      "\n",
      "    accuracy                           0.80        25\n",
      "   macro avg       0.40      0.50      0.44        25\n",
      "weighted avg       0.64      0.80      0.71        25\n",
      "\n",
      "**NON_CASE**\n",
      "              precision    recall  f1-score   support\n",
      "\n",
      "           0       0.52      1.00      0.68        13\n",
      "           1       0.00      0.00      0.00        12\n",
      "\n",
      "    accuracy                           0.52        25\n",
      "   macro avg       0.26      0.50      0.34        25\n",
      "weighted avg       0.27      0.52      0.36        25\n",
      "\n"
     ]
    },
    {
     "name": "stderr",
     "output_type": "stream",
     "text": [
      "C:\\Users\\AbboodA\\AppData\\Local\\Continuum\\miniconda3\\envs\\scoring\\lib\\site-packages\\sklearn\\metrics\\_classification.py:1272: UndefinedMetricWarning: Precision and F-score are ill-defined and being set to 0.0 in labels with no predicted samples. Use `zero_division` parameter to control this behavior.\n",
      "  _warn_prf(average, modifier, msg_start, len(result))\n"
     ]
    },
    {
     "name": "stdout",
     "output_type": "stream",
     "text": [
      "**ONE**\n",
      "              precision    recall  f1-score   support\n",
      "\n",
      "           0       0.00      0.00      0.00        22\n",
      "           1       0.12      1.00      0.21         3\n",
      "\n",
      "    accuracy                           0.12        25\n",
      "   macro avg       0.06      0.50      0.11        25\n",
      "weighted avg       0.01      0.12      0.03        25\n",
      "\n",
      "**THREE**\n",
      "              precision    recall  f1-score   support\n",
      "\n",
      "           0       0.00      0.00      0.00        23\n",
      "           1       0.08      1.00      0.15         2\n",
      "\n",
      "    accuracy                           0.08        25\n",
      "   macro avg       0.04      0.50      0.07        25\n",
      "weighted avg       0.01      0.08      0.01        25\n",
      "\n",
      "**TWO**\n",
      "              precision    recall  f1-score   support\n",
      "\n",
      "           0       0.00      0.00      0.00        21\n",
      "           1       0.16      1.00      0.28         4\n",
      "\n",
      "    accuracy                           0.16        25\n",
      "   macro avg       0.08      0.50      0.14        25\n",
      "weighted avg       0.03      0.16      0.04        25\n",
      "\n"
     ]
    },
    {
     "data": {
      "image/png": "[encoded data removed]",
      "text/plain": [
       "<Figure size 720x504 with 10 Axes>"
      ]
     },
     "metadata": {
      "needs_background": "light"
     },
     "output_type": "display_data"
    }
   ],
   "source": [
    "score_sensitive.class_based_conf_mat()"
   ]
  },
  {
   "cell_type": "code",
   "execution_count": 40,
   "metadata": {},
   "outputs": [
    {
     "data": {
      "text/plain": [
       "(0.12765918627987594,\n",
       " 0.07856160442367341,\n",
       " 0.11551946034704655,\n",
       " 0.08738267550528087)"
      ]
     },
     "execution_count": 40,
     "metadata": {},
     "output_type": "execute_result"
    }
   ],
   "source": [
    "score_sensitive.mean_score(metrics.f1_score)"
   ]
  },
  {
   "cell_type": "code",
   "execution_count": 41,
   "metadata": {},
   "outputs": [
    {
     "name": "stdout",
     "output_type": "stream",
     "text": [
      "R2: \n",
      "0.7657920310981536\n"
     ]
    }
   ],
   "source": [
    "# Nicht blind one, two, three einfügen, sondern nur, wenn die adas Label >0\n",
    "signal_ideal_df = df_cases.assign(\n",
    "    w_A=lambda x: np.where(x.endemic == 0, x.one, x.one / (x.one + x.endemic)),\n",
    "    w_B=lambda x: np.where(x.endemic == 0, x.two, x.two / (x.two + x.endemic)),\n",
    "    w_C=lambda x: np.where(x.endemic == 0, x.three, x.three / (x.three + x.endemic)),\n",
    ").drop([\"one\", \"two\", \"three\", \"endemic\", \"non_case\"], axis=1)\n",
    "\n",
    "signal_ideal = Score(\n",
    "    df_cases, signal_ideal_df, [\"one\", \"two\", \"three\"], missing_signal_agg=\"min\"\n",
    ")\n",
    "\n",
    "print(\"R2: \")\n",
    "print(\n",
    "    metrics.r2_score(\n",
    "        signal_ideal.eval_df()[\"p(d_i)\"].values,\n",
    "        signal_ideal.eval_df()[\"p^(d_i)\"].values,\n",
    "    )\n",
    ")"
   ]
  },
  {
   "cell_type": "code",
   "execution_count": 88,
   "metadata": {},
   "outputs": [
    {
     "data": {
      "image/png": "[encoded data removed]",
      "text/plain": [
       "<IPython.core.display.Image object>"
      ]
     },
     "execution_count": 88,
     "metadata": {
      "image/png": {
       "height": 400,
       "width": 400
      }
     },
     "output_type": "execute_result"
    }
   ],
   "source": [
    "from IPython.display import Image\n",
    "\n",
    "Image(filename=\"base.png\", width=400, height=400)"
   ]
  },
  {
   "cell_type": "code",
   "execution_count": 42,
   "metadata": {},
   "outputs": [
    {
     "name": "stdout",
     "output_type": "stream",
     "text": [
      "**ENDEMIC**\n",
      "              precision    recall  f1-score   support\n",
      "\n",
      "           0       1.00      0.95      0.97        20\n",
      "           1       0.83      1.00      0.91         5\n",
      "\n",
      "    accuracy                           0.96        25\n",
      "   macro avg       0.92      0.97      0.94        25\n",
      "weighted avg       0.97      0.96      0.96        25\n",
      "\n",
      "**NON_CASE**\n",
      "              precision    recall  f1-score   support\n",
      "\n",
      "           0       1.00      1.00      1.00        13\n",
      "           1       1.00      1.00      1.00        12\n",
      "\n",
      "    accuracy                           1.00        25\n",
      "   macro avg       1.00      1.00      1.00        25\n",
      "weighted avg       1.00      1.00      1.00        25\n",
      "\n",
      "**ONE**\n",
      "              precision    recall  f1-score   support\n",
      "\n",
      "           0       1.00      0.77      0.87        22\n",
      "           1       0.38      1.00      0.55         3\n",
      "\n",
      "    accuracy                           0.80        25\n",
      "   macro avg       0.69      0.89      0.71        25\n",
      "weighted avg       0.93      0.80      0.83        25\n",
      "\n",
      "**THREE**\n",
      "              precision    recall  f1-score   support\n",
      "\n",
      "           0       1.00      0.74      0.85        23\n",
      "           1       0.25      1.00      0.40         2\n",
      "\n",
      "    accuracy                           0.76        25\n",
      "   macro avg       0.62      0.87      0.62        25\n",
      "weighted avg       0.94      0.76      0.81        25\n",
      "\n",
      "**TWO**\n",
      "              precision    recall  f1-score   support\n",
      "\n",
      "           0       1.00      0.81      0.89        21\n",
      "           1       0.50      1.00      0.67         4\n",
      "\n",
      "    accuracy                           0.84        25\n",
      "   macro avg       0.75      0.90      0.78        25\n",
      "weighted avg       0.92      0.84      0.86        25\n",
      "\n"
     ]
    },
    {
     "data": {
      "image/png": "[encoded data removed]",
      "text/plain": [
       "<Figure size 720x504 with 10 Axes>"
      ]
     },
     "metadata": {
      "needs_background": "light"
     },
     "output_type": "display_data"
    }
   ],
   "source": [
    "signal_ideal.class_based_conf_mat()"
   ]
  },
  {
   "cell_type": "code",
   "execution_count": 44,
   "metadata": {},
   "outputs": [
    {
     "data": {
      "text/plain": [
       "(0.7042424242424242,\n",
       " 0.8326340326340328,\n",
       " 0.7017199017199016,\n",
       " 0.7387205387205387)"
      ]
     },
     "execution_count": 44,
     "metadata": {},
     "output_type": "execute_result"
    }
   ],
   "source": [
    "signal_ideal.mean_score(metrics.f1_score)"
   ]
  },
  {
   "cell_type": "code",
   "execution_count": 45,
   "metadata": {},
   "outputs": [],
   "source": [
    "df_cases_1 = df_cases.drop(columns=[\"two\", \"three\"])"
   ]
  },
  {
   "cell_type": "code",
   "execution_count": 46,
   "metadata": {},
   "outputs": [
    {
     "name": "stdout",
     "output_type": "stream",
     "text": [
      "R2: \n",
      "1.0\n"
     ]
    }
   ],
   "source": [
    "signal_specific_1 = df_cases.assign(\n",
    "    w_A=lambda x: np.where(x.endemic == 0, x.one, x.one / (x.one + x.endemic)),\n",
    ").drop([\"one\", \"two\", \"three\", \"endemic\", \"non_case\"], axis=1)\n",
    "\n",
    "score_specific_1 = Score(\n",
    "    df_cases_1,\n",
    "    signal_specific_1,\n",
    "    [\n",
    "        \"one\",\n",
    "    ],\n",
    "    missing_signal_agg=\"min\",\n",
    ")\n",
    "\n",
    "print(\"R2: \")\n",
    "print(\n",
    "    metrics.r2_score(\n",
    "        score_specific_1.eval_df()[\"p(d_i)\"].values,\n",
    "        score_specific_1.eval_df()[\"p^(d_i)\"].values,\n",
    "    )\n",
    ")"
   ]
  },
  {
   "cell_type": "code",
   "execution_count": 47,
   "metadata": {},
   "outputs": [
    {
     "name": "stdout",
     "output_type": "stream",
     "text": [
      "**ENDEMIC**\n",
      "              precision    recall  f1-score   support\n",
      "\n",
      "           0       1.00      1.00      1.00        19\n",
      "           1       1.00      1.00      1.00         6\n",
      "\n",
      "    accuracy                           1.00        25\n",
      "   macro avg       1.00      1.00      1.00        25\n",
      "weighted avg       1.00      1.00      1.00        25\n",
      "\n",
      "**NON_CASE**\n",
      "              precision    recall  f1-score   support\n",
      "\n",
      "           0       1.00      1.00      1.00         9\n",
      "           1       1.00      1.00      1.00        16\n",
      "\n",
      "    accuracy                           1.00        25\n",
      "   macro avg       1.00      1.00      1.00        25\n",
      "weighted avg       1.00      1.00      1.00        25\n",
      "\n",
      "**ONE**\n",
      "              precision    recall  f1-score   support\n",
      "\n",
      "           0       1.00      1.00      1.00        22\n",
      "           1       1.00      1.00      1.00         3\n",
      "\n",
      "    accuracy                           1.00        25\n",
      "   macro avg       1.00      1.00      1.00        25\n",
      "weighted avg       1.00      1.00      1.00        25\n",
      "\n"
     ]
    },
    {
     "data": {
      "image/png": "[encoded data removed]",
      "text/plain": [
       "<Figure size 720x504 with 6 Axes>"
      ]
     },
     "metadata": {
      "needs_background": "light"
     },
     "output_type": "display_data"
    }
   ],
   "source": [
    "score_specific_1.class_based_conf_mat()"
   ]
  },
  {
   "cell_type": "code",
   "execution_count": 48,
   "metadata": {},
   "outputs": [
    {
     "data": {
      "text/plain": [
       "(1.0, 1.0, 1.0, 1.0)"
      ]
     },
     "execution_count": 48,
     "metadata": {},
     "output_type": "execute_result"
    }
   ],
   "source": [
    "score_specific_1.mean_score(metrics.f1_score)"
   ]
  },
  {
   "cell_type": "code",
   "execution_count": 40,
   "metadata": {},
   "outputs": [],
   "source": [
    "from scipy.stats import entropy"
   ]
  },
  {
   "cell_type": "code",
   "execution_count": 41,
   "metadata": {},
   "outputs": [
    {
     "name": "stdout",
     "output_type": "stream",
     "text": [
      "entropy: \n",
      "0.0\n"
     ]
    }
   ],
   "source": [
    "print(\"entropy: \")\n",
    "print(\n",
    "    entropy(\n",
    "        score_specific_1.eval_df()[\"p(d_i)\"].values,\n",
    "        score_specific_1.eval_df()[\"p^(d_i)\"].values,\n",
    "    )\n",
    ")"
   ]
  },
  {
   "cell_type": "code",
   "execution_count": 42,
   "metadata": {},
   "outputs": [
    {
     "data": {
      "text/plain": [
       "0.9182958340544891"
      ]
     },
     "execution_count": 42,
     "metadata": {},
     "output_type": "execute_result"
    }
   ],
   "source": [
    "0.6365141682948126 / np.log(2)"
   ]
  },
  {
   "cell_type": "code",
   "execution_count": 49,
   "metadata": {},
   "outputs": [],
   "source": [
    "scores = []\n",
    "for i in range(100):\n",
    "    signal_specific_random = df_cases.assign(\n",
    "        w_A=lambda x: np.random.rand(25),\n",
    "    ).drop([\"one\", \"two\", \"three\", \"endemic\", \"non_case\"], axis=1)\n",
    "\n",
    "    score_specific_random = Score(\n",
    "        df_cases_1,\n",
    "        signal_specific_random,\n",
    "        [\n",
    "            \"one\",\n",
    "        ],\n",
    "        missing_signal_agg=\"min\",\n",
    "    )\n",
    "\n",
    "    scores.append(\n",
    "        metrics.mutual_info_score(\n",
    "            score_specific_random.eval_df()[\"p(d_i)\"].values,\n",
    "            score_specific_random.eval_df()[\"p^(d_i)\"].values,\n",
    "        )\n",
    "    )"
   ]
  },
  {
   "cell_type": "code",
   "execution_count": 50,
   "metadata": {},
   "outputs": [
    {
     "data": {
      "text/plain": [
       "(0.55438127090301, 0.6662849498327759, 0.5934448160535115, 0.6618060200668895)"
      ]
     },
     "execution_count": 50,
     "metadata": {},
     "output_type": "execute_result"
    }
   ],
   "source": [
    "score_specific_random.mean_score(metrics.f1_score)"
   ]
  },
  {
   "cell_type": "code",
   "execution_count": 44,
   "metadata": {},
   "outputs": [
    {
     "data": {
      "text/plain": [
       "0.6365141682948123"
      ]
     },
     "execution_count": 44,
     "metadata": {},
     "output_type": "execute_result"
    }
   ],
   "source": [
    "np.mean(scores)"
   ]
  },
  {
   "cell_type": "code",
   "execution_count": 45,
   "metadata": {},
   "outputs": [
    {
     "data": {
      "text/plain": [
       "7.850462293418876e-17"
      ]
     },
     "execution_count": 45,
     "metadata": {},
     "output_type": "execute_result"
    }
   ],
   "source": [
    "np.std(scores)"
   ]
  },
  {
   "cell_type": "code",
   "execution_count": 62,
   "metadata": {},
   "outputs": [
    {
     "data": {
      "text/plain": [
       "4.166666666666667"
      ]
     },
     "execution_count": 62,
     "metadata": {},
     "output_type": "execute_result"
    }
   ],
   "source": [
    "np.average([5, 7, 2], weights=[1, 2, 3])"
   ]
  },
  {
   "cell_type": "code",
   "execution_count": 64,
   "metadata": {},
   "outputs": [
    {
     "data": {
      "text/plain": [
       "4.166666666666667"
      ]
     },
     "execution_count": 64,
     "metadata": {},
     "output_type": "execute_result"
    }
   ],
   "source": [
    "(5 + 14 + 6) / 6"
   ]
  },
  {
   "cell_type": "code",
   "execution_count": 55,
   "metadata": {},
   "outputs": [
    {
     "data": {
      "text/plain": [
       "array([ 6, 16,  3], dtype=int64)"
      ]
     },
     "execution_count": 55,
     "metadata": {},
     "output_type": "execute_result"
    }
   ],
   "source": [
    "(\n",
    "    (\n",
    "        score_specific_random.eval_df()\n",
    "        .assign(\n",
    "            true=lambda x: np.where(x[\"p(d_i)\"] >= 1 / 3, 1, 0),\n",
    "            pred=lambda x: np.where(x[\"p^(d_i)\"] >= 1 / 5, 1, 0),\n",
    "        )\n",
    "        .pivot(index=[\"x1\", \"x2\"], columns=\"d_i\", values=[\"true\", \"pred\"])\n",
    "    )\n",
    "    .loc[:, \"true\"]\n",
    "    .sum()\n",
    ").values"
   ]
  },
  {
   "cell_type": "code",
   "execution_count": 53,
   "metadata": {},
   "outputs": [
    {
     "data": {
      "text/plain": [
       "Index(['endemic', 'non_case', 'one'], dtype='object', name='d_i')"
      ]
     },
     "execution_count": 53,
     "metadata": {},
     "output_type": "execute_result"
    }
   ],
   "source": [
    "(\n",
    "    score_specific_random.eval_df()\n",
    "    .assign(\n",
    "        true=lambda x: np.where(x[\"p(d_i)\"] >= 1 / 3, 1, 0),\n",
    "        pred=lambda x: np.where(x[\"p^(d_i)\"] >= 1 / 5, 1, 0),\n",
    "    )\n",
    "    .pivot(index=[\"x1\", \"x2\"], columns=\"d_i\", values=[\"true\", \"pred\"])\n",
    "    .columns.levels[1]\n",
    ")"
   ]
  },
  {
   "cell_type": "code",
   "execution_count": null,
   "metadata": {},
   "outputs": [],
   "source": []
  }
 ],
 "metadata": {
  "kernelspec": {
   "display_name": "Python 3",
   "language": "python",
   "name": "python3"
  },
  "language_info": {
   "codemirror_mode": {
    "name": "ipython",
    "version": 3
   },
   "file_extension": ".py",
   "mimetype": "text/x-python",
   "name": "python",
   "nbconvert_exporter": "python",
   "pygments_lexer": "ipython3",
   "version": "3.8.5"
  }
 },
 "nbformat": 4,
 "nbformat_minor": 4
}
