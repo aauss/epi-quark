{
 "cells": [
  {
   "cell_type": "code",
   "execution_count": 1,
   "metadata": {},
   "outputs": [],
   "source": [
    "%load_ext lab_black"
   ]
  },
  {
   "cell_type": "code",
   "execution_count": 2,
   "metadata": {},
   "outputs": [],
   "source": [
    "import pandas as pd\n",
    "import numpy as np\n",
    "import matplotlib.pyplot as plt\n",
    "from matplotlib.patches import Rectangle\n",
    "import seaborn as sns\n",
    "from itertools import product\n",
    "from functools import reduce"
   ]
  },
  {
   "cell_type": "markdown",
   "metadata": {},
   "source": [
    "## Data preparation"
   ]
  },
  {
   "cell_type": "code",
   "execution_count": 3,
   "metadata": {},
   "outputs": [],
   "source": [
    "MUST_HAVE_LABELS = (\"endemic\", \"non_case\")\n",
    "DATA_LABELS = (\"one\", \"two\", \"three\") + MUST_HAVE_LABELS"
   ]
  },
  {
   "cell_type": "code",
   "execution_count": 4,
   "metadata": {},
   "outputs": [],
   "source": [
    "class Score:\n",
    "    def __init__(self, data, signals, data_labels, missing_signal_agg=\"mean\"):\n",
    "        self.MUST_HAVE_LABELS = {\"endemic\", \"non_case\"}\n",
    "        self.DATA_LABELS = list(set(data_labels) | self.MUST_HAVE_LABELS)\n",
    "\n",
    "        self.data = self._pad_non_case(data)\n",
    "        self.signals = self._pad_signals(\n",
    "            pd.merge(self.data, signals, on=[\"x1\", \"x2\"]), missing_signal_agg\n",
    "        )\n",
    "        self.SIGNALS_LABELS = list(\n",
    "            self.signals.columns[self.signals.columns.str.contains(\"^w\")]\n",
    "        )\n",
    "        self.COORDS = list(data.columns[data.columns.str.contains(\"^x\")])\n",
    "\n",
    "    def _pad_non_case(self, data):\n",
    "        if data[\"non_case\"].isna().any():\n",
    "            is_non_case = data.loc[:, list(self.DATA_LABELS)].sum(axis=1) == 0\n",
    "            return data.assign(non_case=np.where(is_non_case, 1, 0))\n",
    "        else:\n",
    "            return data\n",
    "\n",
    "    def _pad_signals(self, signals, aggregation_func):\n",
    "        \"\"\"\n",
    "        Calculates signals for endemic and non cases.\n",
    "\n",
    "        Input DataFrame must indicate signal columns with 'w_' in their name.\n",
    "        \"\"\"\n",
    "        if not any((signals[\"endemic\"] > 0) & (signals[\"non_case\"] > 0)):\n",
    "            signal_columns = [c for c in signals.columns if \"w_\" in c]\n",
    "            signal_df = signals.copy()\n",
    "\n",
    "            for signal in signal_columns:\n",
    "                signal_df.loc[:, f\"_{signal}_endemic\"] = (\n",
    "                    1 - signal_df.loc[:, signal]\n",
    "                ) * (signal_df[\"non_case\"] == 0)\n",
    "                signal_df.loc[:, f\"_{signal}_non_case\"] = (\n",
    "                    1 - signal_df.loc[:, signal]\n",
    "                ) * (signal_df[\"non_case\"] != 0)\n",
    "\n",
    "            non_case_signals = signal_df.columns[\n",
    "                signal_df.columns.str.contains(r\"w_._non_case\")\n",
    "            ]\n",
    "            endemic_signals = signal_df.columns[\n",
    "                signal_df.columns.str.contains(r\"w_._endemic\")\n",
    "            ]\n",
    "\n",
    "            signal_df.loc[:, \"w_non_case\"] = signal_df[non_case_signals].agg(\n",
    "                aggregation_func, axis=1\n",
    "            )\n",
    "            signal_df.loc[:, \"w_endemic\"] = signal_df[endemic_signals].agg(\n",
    "                aggregation_func, axis=1\n",
    "            )\n",
    "            return signal_df\n",
    "        else:\n",
    "            return signals\n",
    "\n",
    "    def plot_map(self, series, title):\n",
    "        df = self.signals.melt(\n",
    "            id_vars=self.COORDS,\n",
    "            value_vars=self.SIGNALS_LABELS,\n",
    "            var_name=\"signal\",\n",
    "            value_name=\"w\",\n",
    "        )\n",
    "        ax = sns.heatmap(\n",
    "            series.values.reshape(5, -1).T,\n",
    "            linewidth=2,\n",
    "            cmap=\"RdPu\",\n",
    "            cbar=False,\n",
    "            annot=True,\n",
    "        )\n",
    "        cmap = dict(zip(df.signal.unique(), sns.color_palette(\"tab10\")))\n",
    "        for _, (x1, x2, signal, value) in df.iterrows():\n",
    "            if signal not in (\"w_endemic\", \"w_non_case\"):\n",
    "                ax.add_patch(\n",
    "                    Rectangle(\n",
    "                        (x1, x2),\n",
    "                        1,\n",
    "                        1,\n",
    "                        fill=False,\n",
    "                        lw=3,\n",
    "                        alpha=value,\n",
    "                        label=signal,\n",
    "                        color=cmap[signal],\n",
    "                    )\n",
    "                )\n",
    "        ax.set_title(title)\n",
    "        ax.set_ylim(0, 5)\n",
    "        ax.set_xlim(0, 5)\n",
    "        return ax\n",
    "\n",
    "    def p_di_given_x(self):\n",
    "        \"\"\"Calculate disease probability per cell, p(d_i| x)\"\"\"\n",
    "        disease_proba_df = self.data.copy()\n",
    "        disease_proba_df.loc[:, self.DATA_LABELS] = disease_proba_df.loc[\n",
    "            :, self.DATA_LABELS\n",
    "        ].div(disease_proba_df.loc[:, self.DATA_LABELS].sum(axis=1), axis=0)\n",
    "        return disease_proba_df.melt(\n",
    "            id_vars=[\"x1\", \"x2\"], var_name=\"d_i\", value_name=\"p(d_i)\"\n",
    "        )\n",
    "\n",
    "    def p_hat_sj_given_x(self):\n",
    "        \"\"\"p^ (s_j|x) = w(s, x) / sum_s (w(s,x))\"\"\"\n",
    "        df_prior_signal = self.signals.copy()\n",
    "\n",
    "        prior_columns = [col.replace(\"w\", \"p\") for col in self.SIGNALS_LABELS]\n",
    "        sj_given_x = (\n",
    "            df_prior_signal.loc[:, self.SIGNALS_LABELS]\n",
    "            .div(\n",
    "                df_prior_signal.loc[:, self.SIGNALS_LABELS].sum(axis=1),\n",
    "                axis=0,\n",
    "            )\n",
    "            .values\n",
    "        )\n",
    "\n",
    "        df_prior_signal.loc[:, prior_columns] = sj_given_x\n",
    "\n",
    "        signals_long = df_prior_signal.melt(\n",
    "            id_vars=self.COORDS,\n",
    "            value_vars=prior_columns,\n",
    "            var_name=\"s_j_given_x\",\n",
    "            value_name=\"prior\",\n",
    "        ).assign(s_j=lambda x: x[\"s_j_given_x\"].str.replace(\"p_\", \"\"))\n",
    "        return signals_long\n",
    "\n",
    "    def p_hat_di_given_sj_x(self):\n",
    "        \"\"\"Calculates p^(d_i | s_j, x) which is algo based.\"\"\"\n",
    "        signal_per_diseases = list(\n",
    "            product(\n",
    "                product(range(5), range(5)),\n",
    "                product(\n",
    "                    self.DATA_LABELS,\n",
    "                    [col.replace(\"w_\", \"\") for col in self.SIGNALS_LABELS],\n",
    "                ),\n",
    "            )\n",
    "        )\n",
    "        df = pd.DataFrame(\n",
    "            [tuple_[0] + tuple_[1] for tuple_ in signal_per_diseases],\n",
    "            columns=[\"x1\", \"x2\", \"d_i\", \"s_j\"],\n",
    "        )\n",
    "\n",
    "        signal_data_indeces = df.query(\n",
    "            \"~(s_j.isin(['endemic', 'non_case']) | d_i.isin(['endemic', 'non_case']))\"\n",
    "        ).index\n",
    "        df.loc[signal_data_indeces, \"posterior\"] = 1 / len(\n",
    "            set(self.DATA_LABELS) - set(self.MUST_HAVE_LABELS)\n",
    "        )\n",
    "\n",
    "        non_case_endemic_signal_indeces = df.query(\"d_i == s_j\").index\n",
    "        df.loc[non_case_endemic_signal_indeces, \"posterior\"] = 1\n",
    "        return df.fillna(0)\n",
    "\n",
    "    def p_hat_di(self):\n",
    "        \"\"\"Calculates p^(d_i | x) = sum( p^(d_i| s_j, x) p^(s_j, x) )\"\"\"\n",
    "        p_hat_di = self.p_hat_di_given_sj_x().merge(\n",
    "            self.p_hat_sj_given_x(),\n",
    "            on=self.COORDS + [\"s_j\"],\n",
    "        )\n",
    "        p_hat_di.loc[:, \"p^(d_i)\"] = p_hat_di[\"posterior\"] * p_hat_di[\"prior\"]\n",
    "        p_hat_di = (\n",
    "            p_hat_di.groupby([\"x1\", \"x2\", \"d_i\"]).agg({\"p^(d_i)\": sum}).reset_index()\n",
    "        )\n",
    "        return p_hat_di\n",
    "\n",
    "    def eval_df(self):\n",
    "        return self.p_di_given_x().merge(\n",
    "            self.p_hat_di(),\n",
    "            on=self.COORDS + [\"d_i\"],\n",
    "        )"
   ]
  },
  {
   "cell_type": "code",
   "execution_count": 5,
   "metadata": {},
   "outputs": [],
   "source": [
    "# define coordinate system with two axes x1 and x2\n",
    "df_coordinates = pd.concat(\n",
    "    [\n",
    "        pd.DataFrame(columns=[\"x1\", \"x2\"], data=product(range(5), range(5))),\n",
    "        pd.DataFrame(columns=DATA_LABELS),\n",
    "    ]\n",
    ")"
   ]
  },
  {
   "cell_type": "code",
   "execution_count": 6,
   "metadata": {},
   "outputs": [],
   "source": [
    "# read in data\n",
    "one = [0] * 5 + [0, 1, 1, 0, 0] + [0, 0, 1, 0, 0] + [0] * 10\n",
    "two = (\n",
    "    [\n",
    "        0,\n",
    "        0,\n",
    "        1,\n",
    "        1,\n",
    "        1,\n",
    "    ]\n",
    "    + [0] * 10\n",
    "    + [0, 0, 0, 1, 0]\n",
    "    + [0] * 5\n",
    ")\n",
    "three = [0] * 15 + [0, 0, 0, 1, 2] + [0] * 5\n",
    "endemic = (\n",
    "    [0] * 5 + [1, 0, 0, 0, 0] + [0, 1, 0, 0, 0] + [4, 0, 0, 0, 1] + [2, 0, 0, 0, 1]\n",
    ")\n",
    "\n",
    "df_cases = df_coordinates.assign(one=one, two=two, three=three, endemic=endemic)"
   ]
  },
  {
   "cell_type": "code",
   "execution_count": 7,
   "metadata": {},
   "outputs": [
    {
     "data": {
      "text/html": [
       "<div>\n",
       "<style scoped>\n",
       "    .dataframe tbody tr th:only-of-type {\n",
       "        vertical-align: middle;\n",
       "    }\n",
       "\n",
       "    .dataframe tbody tr th {\n",
       "        vertical-align: top;\n",
       "    }\n",
       "\n",
       "    .dataframe thead th {\n",
       "        text-align: right;\n",
       "    }\n",
       "</style>\n",
       "<table border=\"1\" class=\"dataframe\">\n",
       "  <thead>\n",
       "    <tr style=\"text-align: right;\">\n",
       "      <th></th>\n",
       "      <th>x1</th>\n",
       "      <th>x2</th>\n",
       "      <th>one</th>\n",
       "      <th>two</th>\n",
       "      <th>three</th>\n",
       "      <th>endemic</th>\n",
       "      <th>non_case</th>\n",
       "    </tr>\n",
       "  </thead>\n",
       "  <tbody>\n",
       "    <tr>\n",
       "      <th>0</th>\n",
       "      <td>0.0</td>\n",
       "      <td>0.0</td>\n",
       "      <td>0</td>\n",
       "      <td>0</td>\n",
       "      <td>0</td>\n",
       "      <td>0</td>\n",
       "      <td>NaN</td>\n",
       "    </tr>\n",
       "    <tr>\n",
       "      <th>1</th>\n",
       "      <td>0.0</td>\n",
       "      <td>1.0</td>\n",
       "      <td>0</td>\n",
       "      <td>0</td>\n",
       "      <td>0</td>\n",
       "      <td>0</td>\n",
       "      <td>NaN</td>\n",
       "    </tr>\n",
       "    <tr>\n",
       "      <th>2</th>\n",
       "      <td>0.0</td>\n",
       "      <td>2.0</td>\n",
       "      <td>0</td>\n",
       "      <td>1</td>\n",
       "      <td>0</td>\n",
       "      <td>0</td>\n",
       "      <td>NaN</td>\n",
       "    </tr>\n",
       "    <tr>\n",
       "      <th>3</th>\n",
       "      <td>0.0</td>\n",
       "      <td>3.0</td>\n",
       "      <td>0</td>\n",
       "      <td>1</td>\n",
       "      <td>0</td>\n",
       "      <td>0</td>\n",
       "      <td>NaN</td>\n",
       "    </tr>\n",
       "    <tr>\n",
       "      <th>4</th>\n",
       "      <td>0.0</td>\n",
       "      <td>4.0</td>\n",
       "      <td>0</td>\n",
       "      <td>1</td>\n",
       "      <td>0</td>\n",
       "      <td>0</td>\n",
       "      <td>NaN</td>\n",
       "    </tr>\n",
       "  </tbody>\n",
       "</table>\n",
       "</div>"
      ],
      "text/plain": [
       "    x1   x2  one  two  three  endemic non_case\n",
       "0  0.0  0.0    0    0      0        0      NaN\n",
       "1  0.0  1.0    0    0      0        0      NaN\n",
       "2  0.0  2.0    0    1      0        0      NaN\n",
       "3  0.0  3.0    0    1      0        0      NaN\n",
       "4  0.0  4.0    0    1      0        0      NaN"
      ]
     },
     "execution_count": 7,
     "metadata": {},
     "output_type": "execute_result"
    }
   ],
   "source": [
    "df_cases.head()"
   ]
  },
  {
   "cell_type": "markdown",
   "metadata": {},
   "source": [
    "## Signal creation"
   ]
  },
  {
   "cell_type": "code",
   "execution_count": 8,
   "metadata": {},
   "outputs": [],
   "source": [
    "def run_algo_A(df_coordinates):\n",
    "    assert len(df_coordinates) == 25\n",
    "    signale = pd.DataFrame(\n",
    "        {\n",
    "            \"x1\": [1, 1, 2, 2, 3, 4],\n",
    "            \"x2\": [1, 2, 1, 2, 0, 0],\n",
    "            \"w_A\": [1, 1, 1, 1, 0.5, 0.5],\n",
    "        }\n",
    "    )\n",
    "    signale = df_coordinates.loc[:, [\"x1\", \"x2\"]].merge(\n",
    "        signale, how=\"left\", on=[\"x1\", \"x2\"]\n",
    "    )\n",
    "    return signale.fillna(0)\n",
    "\n",
    "\n",
    "def run_algo_B(df_coordinates):\n",
    "    assert len(df_coordinates) == 25\n",
    "    signale = pd.DataFrame(\n",
    "        {\n",
    "            \"x1\": [2, 2, 2, 3, 3, 3, 4, 4, 4],\n",
    "            \"x2\": [2, 3, 4, 2, 3, 4, 2, 3, 4],\n",
    "            \"w_B\": [0.5] * 9,\n",
    "        }\n",
    "    )\n",
    "    signale = df_coordinates.loc[:, [\"x1\", \"x2\"]].merge(\n",
    "        signale, how=\"left\", on=[\"x1\", \"x2\"]\n",
    "    )\n",
    "    return signale.fillna(0)\n",
    "\n",
    "\n",
    "def run_algo_C(df_coordinates):\n",
    "    assert len(df_coordinates) == 25\n",
    "    signale = pd.DataFrame({\"x1\": [0], \"x2\": [4], \"w_C\": [1]})\n",
    "    signale = df_coordinates.loc[:, [\"x1\", \"x2\"]].merge(\n",
    "        signale, how=\"left\", on=[\"x1\", \"x2\"]\n",
    "    )\n",
    "    return signale.fillna(0)"
   ]
  },
  {
   "cell_type": "code",
   "execution_count": 9,
   "metadata": {},
   "outputs": [
    {
     "data": {
      "text/html": [
       "<div>\n",
       "<style scoped>\n",
       "    .dataframe tbody tr th:only-of-type {\n",
       "        vertical-align: middle;\n",
       "    }\n",
       "\n",
       "    .dataframe tbody tr th {\n",
       "        vertical-align: top;\n",
       "    }\n",
       "\n",
       "    .dataframe thead th {\n",
       "        text-align: right;\n",
       "    }\n",
       "</style>\n",
       "<table border=\"1\" class=\"dataframe\">\n",
       "  <thead>\n",
       "    <tr style=\"text-align: right;\">\n",
       "      <th></th>\n",
       "      <th>x1</th>\n",
       "      <th>x2</th>\n",
       "      <th>w_A</th>\n",
       "      <th>w_B</th>\n",
       "      <th>w_C</th>\n",
       "    </tr>\n",
       "  </thead>\n",
       "  <tbody>\n",
       "    <tr>\n",
       "      <th>0</th>\n",
       "      <td>0.0</td>\n",
       "      <td>0.0</td>\n",
       "      <td>0.0</td>\n",
       "      <td>0.0</td>\n",
       "      <td>0.0</td>\n",
       "    </tr>\n",
       "    <tr>\n",
       "      <th>1</th>\n",
       "      <td>0.0</td>\n",
       "      <td>1.0</td>\n",
       "      <td>0.0</td>\n",
       "      <td>0.0</td>\n",
       "      <td>0.0</td>\n",
       "    </tr>\n",
       "    <tr>\n",
       "      <th>2</th>\n",
       "      <td>0.0</td>\n",
       "      <td>2.0</td>\n",
       "      <td>0.0</td>\n",
       "      <td>0.0</td>\n",
       "      <td>0.0</td>\n",
       "    </tr>\n",
       "    <tr>\n",
       "      <th>3</th>\n",
       "      <td>0.0</td>\n",
       "      <td>3.0</td>\n",
       "      <td>0.0</td>\n",
       "      <td>0.0</td>\n",
       "      <td>0.0</td>\n",
       "    </tr>\n",
       "    <tr>\n",
       "      <th>4</th>\n",
       "      <td>0.0</td>\n",
       "      <td>4.0</td>\n",
       "      <td>0.0</td>\n",
       "      <td>0.0</td>\n",
       "      <td>1.0</td>\n",
       "    </tr>\n",
       "  </tbody>\n",
       "</table>\n",
       "</div>"
      ],
      "text/plain": [
       "    x1   x2  w_A  w_B  w_C\n",
       "0  0.0  0.0  0.0  0.0  0.0\n",
       "1  0.0  1.0  0.0  0.0  0.0\n",
       "2  0.0  2.0  0.0  0.0  0.0\n",
       "3  0.0  3.0  0.0  0.0  0.0\n",
       "4  0.0  4.0  0.0  0.0  1.0"
      ]
     },
     "execution_count": 9,
     "metadata": {},
     "output_type": "execute_result"
    }
   ],
   "source": [
    "# create signals\n",
    "signal_A = run_algo_A(df_coordinates)\n",
    "signal_B = run_algo_B(df_coordinates)\n",
    "signal_C = run_algo_C(df_coordinates)\n",
    "\n",
    "signals_without_endemic_non_case = reduce(\n",
    "    lambda l, r: pd.merge(l, r, on=[\"x1\", \"x2\"]),\n",
    "    [signal_A, signal_B, signal_C],\n",
    ")\n",
    "\n",
    "signals_without_endemic_non_case.head()"
   ]
  },
  {
   "cell_type": "markdown",
   "metadata": {},
   "source": [
    "### Calculate signal for endemic and non-case when not given by algo"
   ]
  },
  {
   "cell_type": "code",
   "execution_count": 10,
   "metadata": {},
   "outputs": [
    {
     "data": {
      "text/plain": [
       "<AxesSubplot:title={'center':'endemic_mean'}>"
      ]
     },
     "execution_count": 10,
     "metadata": {},
     "output_type": "execute_result"
    },
    {
     "data": {
      "image/png": "[encoded data removed]",
      "text/plain": [
       "<Figure size 432x288 with 1 Axes>"
      ]
     },
     "metadata": {
      "needs_background": "light"
     },
     "output_type": "display_data"
    }
   ],
   "source": [
    "s = Score(df_cases, signals_without_endemic_non_case, [\"one\", \"two\", \"three\"])\n",
    "\n",
    "s.plot_map(\n",
    "    s.signals.w_endemic,\n",
    "    \"endemic_mean\",\n",
    ")"
   ]
  },
  {
   "cell_type": "markdown",
   "metadata": {},
   "source": [
    "## Score calculation (regression)"
   ]
  },
  {
   "cell_type": "code",
   "execution_count": 11,
   "metadata": {},
   "outputs": [
    {
     "data": {
      "image/png": "[encoded data removed]",
      "text/plain": [
       "<Figure size 432x288 with 1 Axes>"
      ]
     },
     "metadata": {
      "needs_background": "light"
     },
     "output_type": "display_data"
    },
    {
     "data": {
      "image/png": "[encoded data removed]",
      "text/plain": [
       "<Figure size 432x288 with 1 Axes>"
      ]
     },
     "metadata": {
      "needs_background": "light"
     },
     "output_type": "display_data"
    },
    {
     "data": {
      "image/png": "[encoded data removed]",
      "text/plain": [
       "<Figure size 432x288 with 1 Axes>"
      ]
     },
     "metadata": {
      "needs_background": "light"
     },
     "output_type": "display_data"
    },
    {
     "data": {
      "image/png": "[encoded data removed]",
      "text/plain": [
       "<Figure size 432x288 with 1 Axes>"
      ]
     },
     "metadata": {
      "needs_background": "light"
     },
     "output_type": "display_data"
    },
    {
     "data": {
      "image/png": "[encoded data removed]",
      "text/plain": [
       "<Figure size 432x288 with 1 Axes>"
      ]
     },
     "metadata": {
      "needs_background": "light"
     },
     "output_type": "display_data"
    }
   ],
   "source": [
    "for datalabel in s.p_hat_di().d_i.unique():\n",
    "    s.plot_map(s.p_hat_di().query(\"d_i==@datalabel\").loc[:, [\"p^(d_i)\"]], datalabel)\n",
    "    plt.show()"
   ]
  },
  {
   "cell_type": "code",
   "execution_count": 12,
   "metadata": {},
   "outputs": [],
   "source": [
    "def KL(P, Q):\n",
    "    \"\"\"Epsilon is used here to avoid conditional code for\n",
    "    checking that neither P nor Q is equal to 0.\"\"\"\n",
    "    epsilon = 0.00001\n",
    "\n",
    "    P = P + epsilon\n",
    "    Q = Q + epsilon\n",
    "\n",
    "    divergence = np.sum(P * np.log(P / Q))\n",
    "    return divergence"
   ]
  },
  {
   "cell_type": "code",
   "execution_count": 13,
   "metadata": {},
   "outputs": [
    {
     "name": "stdout",
     "output_type": "stream",
     "text": [
      "KL\n",
      "1.1879392914261868\n"
     ]
    }
   ],
   "source": [
    "print(\"KL\")\n",
    "print(KL(s.eval_df()[\"p(d_i)\"].values / 25, s.eval_df()[\"p^(d_i)\"].values / 25))"
   ]
  },
  {
   "cell_type": "code",
   "execution_count": 14,
   "metadata": {},
   "outputs": [],
   "source": [
    "from scipy.stats import entropy, mannwhitneyu, pearsonr, wilcoxon\n",
    "from sklearn import metrics"
   ]
  },
  {
   "cell_type": "code",
   "execution_count": 15,
   "metadata": {},
   "outputs": [
    {
     "name": "stdout",
     "output_type": "stream",
     "text": [
      "KL form scikitlearn\n",
      "1.4484083815323732\n"
     ]
    }
   ],
   "source": [
    "print(\"KL form scikitlearn\")\n",
    "print(entropy(s.eval_df()[\"p(d_i)\"].values, s.eval_df()[\"p^(d_i)\"].values + 0.00001))"
   ]
  },
  {
   "cell_type": "code",
   "execution_count": 16,
   "metadata": {},
   "outputs": [
    {
     "name": "stdout",
     "output_type": "stream",
     "text": [
      "mutual information\n",
      "0.3025208486903207\n"
     ]
    }
   ],
   "source": [
    "print(\"mutual information\")\n",
    "print(\n",
    "    metrics.mutual_info_score(\n",
    "        s.eval_df()[\"p(d_i)\"].values, s.eval_df()[\"p^(d_i)\"].values\n",
    "    )\n",
    ")"
   ]
  },
  {
   "cell_type": "code",
   "execution_count": 17,
   "metadata": {},
   "outputs": [
    {
     "name": "stdout",
     "output_type": "stream",
     "text": [
      "regression score\n",
      "0.45069970845481055\n"
     ]
    }
   ],
   "source": [
    "print(\"regression score\")\n",
    "print(metrics.r2_score(s.eval_df()[\"p(d_i)\"].values, s.eval_df()[\"p^(d_i)\"].values))"
   ]
  },
  {
   "cell_type": "code",
   "execution_count": 18,
   "metadata": {},
   "outputs": [
    {
     "name": "stdout",
     "output_type": "stream",
     "text": [
      "RMSE\n",
      "0.2893748050155331\n"
     ]
    }
   ],
   "source": [
    "print(\"RMSE\")\n",
    "print(\n",
    "    np.sqrt(\n",
    "        np.mean((s.eval_df()[\"p(d_i)\"].values - s.eval_df()[\"p^(d_i)\"].values) ** 2)\n",
    "    )\n",
    ")"
   ]
  },
  {
   "cell_type": "code",
   "execution_count": 19,
   "metadata": {},
   "outputs": [
    {
     "name": "stdout",
     "output_type": "stream",
     "text": [
      "MSE\n",
      "0.0837377777777778\n"
     ]
    }
   ],
   "source": [
    "print(\"MSE\")\n",
    "print(np.mean((s.eval_df()[\"p(d_i)\"].values - s.eval_df()[\"p^(d_i)\"].values) ** 2))"
   ]
  },
  {
   "cell_type": "code",
   "execution_count": 20,
   "metadata": {},
   "outputs": [
    {
     "name": "stdout",
     "output_type": "stream",
     "text": [
      "Correlation\n",
      "(0.6755581314500057, 5.5350859638944124e-18)\n"
     ]
    }
   ],
   "source": [
    "print(\"Correlation\")\n",
    "print(pearsonr(s.eval_df()[\"p(d_i)\"].values, s.eval_df()[\"p^(d_i)\"].values))"
   ]
  },
  {
   "cell_type": "code",
   "execution_count": 21,
   "metadata": {},
   "outputs": [
    {
     "name": "stdout",
     "output_type": "stream",
     "text": [
      "Signed-Wilcoxon\n",
      "WilcoxonResult(statistic=923.0, pvalue=0.4292977279173873)\n"
     ]
    }
   ],
   "source": [
    "print(\"Signed-Wilcoxon\")\n",
    "print(\n",
    "    wilcoxon(\n",
    "        s.eval_df()[\"p(d_i)\"].values,\n",
    "        s.eval_df()[\"p^(d_i)\"].values,\n",
    "        alternative=\"two-sided\",\n",
    "    )\n",
    ")"
   ]
  },
  {
   "cell_type": "code",
   "execution_count": 22,
   "metadata": {},
   "outputs": [
    {
     "name": "stdout",
     "output_type": "stream",
     "text": [
      "U-test\n",
      "MannwhitneyuResult(statistic=5881.0, pvalue=0.00011438066880481344)\n"
     ]
    }
   ],
   "source": [
    "print(\"U-test\")\n",
    "print(\n",
    "    mannwhitneyu(\n",
    "        s.eval_df()[\"p(d_i)\"].values,\n",
    "        s.eval_df()[\"p^(d_i)\"].values,\n",
    "        alternative=\"two-sided\",\n",
    "    )\n",
    ")"
   ]
  },
  {
   "cell_type": "code",
   "execution_count": 23,
   "metadata": {},
   "outputs": [
    {
     "data": {
      "text/plain": [
       "array([0.82664884, 0.86034414, 0.94181818, 0.8502652 , 0.94809095])"
      ]
     },
     "execution_count": 23,
     "metadata": {},
     "output_type": "execute_result"
    }
   ],
   "source": [
    "from sklearn.linear_model import LogisticRegression\n",
    "from sklearn.metrics import roc_auc_score\n",
    "from sklearn.datasets import make_multilabel_classification\n",
    "from sklearn.multioutput import MultiOutputClassifier\n",
    "\n",
    "X, y = make_multilabel_classification(random_state=0)\n",
    "inner_clf = LogisticRegression(solver=\"liblinear\", random_state=0)\n",
    "clf = MultiOutputClassifier(inner_clf).fit(X, y)\n",
    "y_score = np.transpose([y_pred[:, 1] for y_pred in clf.predict_proba(X)])\n",
    "roc_auc_score(y, y_score, average=None)"
   ]
  },
  {
   "cell_type": "markdown",
   "metadata": {},
   "source": [
    "### Confusion Matrix"
   ]
  },
  {
   "cell_type": "code",
   "execution_count": 24,
   "metadata": {},
   "outputs": [
    {
     "data": {
      "text/html": [
       "<div>\n",
       "<style scoped>\n",
       "    .dataframe tbody tr th:only-of-type {\n",
       "        vertical-align: middle;\n",
       "    }\n",
       "\n",
       "    .dataframe tbody tr th {\n",
       "        vertical-align: top;\n",
       "    }\n",
       "\n",
       "    .dataframe thead th {\n",
       "        text-align: right;\n",
       "    }\n",
       "</style>\n",
       "<table border=\"1\" class=\"dataframe\">\n",
       "  <thead>\n",
       "    <tr style=\"text-align: right;\">\n",
       "      <th></th>\n",
       "      <th>x1</th>\n",
       "      <th>x2</th>\n",
       "      <th>d_i</th>\n",
       "      <th>p(d_i)</th>\n",
       "      <th>p^(d_i)</th>\n",
       "    </tr>\n",
       "  </thead>\n",
       "  <tbody>\n",
       "    <tr>\n",
       "      <th>0</th>\n",
       "      <td>0.0</td>\n",
       "      <td>0.0</td>\n",
       "      <td>one</td>\n",
       "      <td>0.0</td>\n",
       "      <td>0.000</td>\n",
       "    </tr>\n",
       "    <tr>\n",
       "      <th>1</th>\n",
       "      <td>0.0</td>\n",
       "      <td>1.0</td>\n",
       "      <td>one</td>\n",
       "      <td>0.0</td>\n",
       "      <td>0.000</td>\n",
       "    </tr>\n",
       "    <tr>\n",
       "      <th>2</th>\n",
       "      <td>0.0</td>\n",
       "      <td>2.0</td>\n",
       "      <td>one</td>\n",
       "      <td>0.0</td>\n",
       "      <td>0.000</td>\n",
       "    </tr>\n",
       "    <tr>\n",
       "      <th>3</th>\n",
       "      <td>0.0</td>\n",
       "      <td>3.0</td>\n",
       "      <td>one</td>\n",
       "      <td>0.0</td>\n",
       "      <td>0.000</td>\n",
       "    </tr>\n",
       "    <tr>\n",
       "      <th>4</th>\n",
       "      <td>0.0</td>\n",
       "      <td>4.0</td>\n",
       "      <td>one</td>\n",
       "      <td>0.0</td>\n",
       "      <td>0.200</td>\n",
       "    </tr>\n",
       "    <tr>\n",
       "      <th>...</th>\n",
       "      <td>...</td>\n",
       "      <td>...</td>\n",
       "      <td>...</td>\n",
       "      <td>...</td>\n",
       "      <td>...</td>\n",
       "    </tr>\n",
       "    <tr>\n",
       "      <th>120</th>\n",
       "      <td>4.0</td>\n",
       "      <td>0.0</td>\n",
       "      <td>non_case</td>\n",
       "      <td>0.0</td>\n",
       "      <td>0.000</td>\n",
       "    </tr>\n",
       "    <tr>\n",
       "      <th>121</th>\n",
       "      <td>4.0</td>\n",
       "      <td>1.0</td>\n",
       "      <td>non_case</td>\n",
       "      <td>1.0</td>\n",
       "      <td>1.000</td>\n",
       "    </tr>\n",
       "    <tr>\n",
       "      <th>122</th>\n",
       "      <td>4.0</td>\n",
       "      <td>2.0</td>\n",
       "      <td>non_case</td>\n",
       "      <td>1.0</td>\n",
       "      <td>0.625</td>\n",
       "    </tr>\n",
       "    <tr>\n",
       "      <th>123</th>\n",
       "      <td>4.0</td>\n",
       "      <td>3.0</td>\n",
       "      <td>non_case</td>\n",
       "      <td>1.0</td>\n",
       "      <td>0.625</td>\n",
       "    </tr>\n",
       "    <tr>\n",
       "      <th>124</th>\n",
       "      <td>4.0</td>\n",
       "      <td>4.0</td>\n",
       "      <td>non_case</td>\n",
       "      <td>0.0</td>\n",
       "      <td>0.000</td>\n",
       "    </tr>\n",
       "  </tbody>\n",
       "</table>\n",
       "<p>125 rows × 5 columns</p>\n",
       "</div>"
      ],
      "text/plain": [
       "      x1   x2       d_i  p(d_i)  p^(d_i)\n",
       "0    0.0  0.0       one     0.0    0.000\n",
       "1    0.0  1.0       one     0.0    0.000\n",
       "2    0.0  2.0       one     0.0    0.000\n",
       "3    0.0  3.0       one     0.0    0.000\n",
       "4    0.0  4.0       one     0.0    0.200\n",
       "..   ...  ...       ...     ...      ...\n",
       "120  4.0  0.0  non_case     0.0    0.000\n",
       "121  4.0  1.0  non_case     1.0    1.000\n",
       "122  4.0  2.0  non_case     1.0    0.625\n",
       "123  4.0  3.0  non_case     1.0    0.625\n",
       "124  4.0  4.0  non_case     0.0    0.000\n",
       "\n",
       "[125 rows x 5 columns]"
      ]
     },
     "execution_count": 24,
     "metadata": {},
     "output_type": "execute_result"
    }
   ],
   "source": [
    "s.eval_df()"
   ]
  },
  {
   "cell_type": "code",
   "execution_count": 25,
   "metadata": {},
   "outputs": [],
   "source": [
    "eval_df_mean = s.eval_df()"
   ]
  },
  {
   "cell_type": "code",
   "execution_count": 26,
   "metadata": {},
   "outputs": [],
   "source": [
    "eval_df_mean.loc[:, \"true\"] = np.where(\n",
    "    eval_df_mean.loc[:, \"p(d_i)\"] >= len(MUST_HAVE_LABELS), 1, 0\n",
    ")\n",
    "eval_df_mean.loc[:, \"pred\"] = np.where(\n",
    "    eval_df_mean.loc[:, \"p^(d_i)\"] >= 1 / len(DATA_LABELS), 1, 0\n",
    ")\n",
    "pivot_eval = eval_df_mean.pivot(\n",
    "    index=[\"x1\", \"x2\"], columns=\"d_i\", values=[\"true\", \"pred\"]\n",
    ")"
   ]
  },
  {
   "cell_type": "code",
   "execution_count": 27,
   "metadata": {},
   "outputs": [],
   "source": [
    "pivot_eval_r = eval_df_mean.pivot(\n",
    "    index=[\"x1\", \"x2\"], columns=\"d_i\", values=[\"p(d_i)\", \"p^(d_i)\"]\n",
    ")"
   ]
  },
  {
   "cell_type": "code",
   "execution_count": 28,
   "metadata": {},
   "outputs": [],
   "source": [
    "rel_cm = (\n",
    "    pivot_eval_r.loc[:, \"p(d_i)\"]\n",
    "    .reset_index()\n",
    "    .melt(id_vars=[\"x1\", \"x2\"], value_name=\"p(d_i)\")\n",
    "    .merge(pivot_eval_r.loc[:, \"p^(d_i)\"].reset_index(), on=[\"x1\", \"x2\"], how=\"left\")\n",
    "    .assign(\n",
    "        endemic=lambda x: x[\"p(d_i)\"] * x[\"endemic\"],\n",
    "        non_case=lambda x: x[\"p(d_i)\"] * x[\"non_case\"],\n",
    "        one=lambda x: x[\"p(d_i)\"] * x[\"one\"],\n",
    "        two=lambda x: x[\"p(d_i)\"] * x[\"two\"],\n",
    "        three=lambda x: x[\"p(d_i)\"] * x[\"three\"],\n",
    "    )\n",
    "    .groupby(\"d_i\")\n",
    "    .agg(dict(zip([\"endemic\", \"non_case\", \"one\", \"three\", \"two\"], [\"sum\"] * 5)))\n",
    ")"
   ]
  },
  {
   "cell_type": "code",
   "execution_count": 29,
   "metadata": {},
   "outputs": [
    {
     "data": {
      "text/html": [
       "<div>\n",
       "<style scoped>\n",
       "    .dataframe tbody tr th:only-of-type {\n",
       "        vertical-align: middle;\n",
       "    }\n",
       "\n",
       "    .dataframe tbody tr th {\n",
       "        vertical-align: top;\n",
       "    }\n",
       "\n",
       "    .dataframe thead th {\n",
       "        text-align: right;\n",
       "    }\n",
       "</style>\n",
       "<table border=\"1\" class=\"dataframe\">\n",
       "  <thead>\n",
       "    <tr style=\"text-align: right;\">\n",
       "      <th></th>\n",
       "      <th>endemic</th>\n",
       "      <th>non_case</th>\n",
       "      <th>one</th>\n",
       "      <th>three</th>\n",
       "      <th>two</th>\n",
       "    </tr>\n",
       "    <tr>\n",
       "      <th>d_i</th>\n",
       "      <th></th>\n",
       "      <th></th>\n",
       "      <th></th>\n",
       "      <th></th>\n",
       "      <th></th>\n",
       "    </tr>\n",
       "  </thead>\n",
       "  <tbody>\n",
       "    <tr>\n",
       "      <th>endemic</th>\n",
       "      <td>3.483333</td>\n",
       "      <td>0.000</td>\n",
       "      <td>0.616667</td>\n",
       "      <td>0.616667</td>\n",
       "      <td>0.616667</td>\n",
       "    </tr>\n",
       "    <tr>\n",
       "      <th>non_case</th>\n",
       "      <td>0.000000</td>\n",
       "      <td>10.125</td>\n",
       "      <td>0.625000</td>\n",
       "      <td>0.625000</td>\n",
       "      <td>0.625000</td>\n",
       "    </tr>\n",
       "    <tr>\n",
       "      <th>one</th>\n",
       "      <td>1.050000</td>\n",
       "      <td>0.000</td>\n",
       "      <td>0.650000</td>\n",
       "      <td>0.650000</td>\n",
       "      <td>0.650000</td>\n",
       "    </tr>\n",
       "    <tr>\n",
       "      <th>three</th>\n",
       "      <td>0.729167</td>\n",
       "      <td>0.000</td>\n",
       "      <td>0.145833</td>\n",
       "      <td>0.145833</td>\n",
       "      <td>0.145833</td>\n",
       "    </tr>\n",
       "    <tr>\n",
       "      <th>two</th>\n",
       "      <td>2.712500</td>\n",
       "      <td>0.000</td>\n",
       "      <td>0.262500</td>\n",
       "      <td>0.262500</td>\n",
       "      <td>0.262500</td>\n",
       "    </tr>\n",
       "  </tbody>\n",
       "</table>\n",
       "</div>"
      ],
      "text/plain": [
       "           endemic  non_case       one     three       two\n",
       "d_i                                                       \n",
       "endemic   3.483333     0.000  0.616667  0.616667  0.616667\n",
       "non_case  0.000000    10.125  0.625000  0.625000  0.625000\n",
       "one       1.050000     0.000  0.650000  0.650000  0.650000\n",
       "three     0.729167     0.000  0.145833  0.145833  0.145833\n",
       "two       2.712500     0.000  0.262500  0.262500  0.262500"
      ]
     },
     "execution_count": 29,
     "metadata": {},
     "output_type": "execute_result"
    }
   ],
   "source": [
    "rel_cm"
   ]
  },
  {
   "cell_type": "code",
   "execution_count": 30,
   "metadata": {},
   "outputs": [
    {
     "data": {
      "text/plain": [
       "20.349999999999998"
      ]
     },
     "execution_count": 30,
     "metadata": {},
     "output_type": "execute_result"
    }
   ],
   "source": [
    "rel_cm.loc[\n",
    "    [c for c in rel_cm.columns if c != \"one\"], [c for c in rel_cm.columns if c != \"one\"]\n",
    "].sum().sum()"
   ]
  },
  {
   "cell_type": "code",
   "execution_count": 31,
   "metadata": {},
   "outputs": [
    {
     "data": {
      "text/html": [
       "<div>\n",
       "<style scoped>\n",
       "    .dataframe tbody tr th:only-of-type {\n",
       "        vertical-align: middle;\n",
       "    }\n",
       "\n",
       "    .dataframe tbody tr th {\n",
       "        vertical-align: top;\n",
       "    }\n",
       "\n",
       "    .dataframe thead th {\n",
       "        text-align: right;\n",
       "    }\n",
       "</style>\n",
       "<table border=\"1\" class=\"dataframe\">\n",
       "  <thead>\n",
       "    <tr style=\"text-align: right;\">\n",
       "      <th></th>\n",
       "      <th>true_pred</th>\n",
       "      <th>false_pred</th>\n",
       "    </tr>\n",
       "  </thead>\n",
       "  <tbody>\n",
       "    <tr>\n",
       "      <th>true_groundtruth</th>\n",
       "      <td>0.65</td>\n",
       "      <td>2.35</td>\n",
       "    </tr>\n",
       "    <tr>\n",
       "      <th>false_groundtruth</th>\n",
       "      <td>1.65</td>\n",
       "      <td>20.35</td>\n",
       "    </tr>\n",
       "  </tbody>\n",
       "</table>\n",
       "</div>"
      ],
      "text/plain": [
       "                   true_pred  false_pred\n",
       "true_groundtruth        0.65        2.35\n",
       "false_groundtruth       1.65       20.35"
      ]
     },
     "execution_count": 31,
     "metadata": {},
     "output_type": "execute_result"
    }
   ],
   "source": [
    "pd.DataFrame(\n",
    "    {\n",
    "        \"true_pred\": [\n",
    "            rel_cm.loc[\"one\", \"one\"],\n",
    "            rel_cm.loc[[c for c in rel_cm.columns if c != \"one\"], \"one\"].sum(),\n",
    "        ],\n",
    "        \"false_pred\": [\n",
    "            rel_cm.loc[\"one\", [c for c in rel_cm.columns if c != \"one\"]].sum(),\n",
    "            rel_cm.loc[\n",
    "                [c for c in rel_cm.columns if c != \"one\"],\n",
    "                [c for c in rel_cm.columns if c != \"one\"],\n",
    "            ]\n",
    "            .sum()\n",
    "            .sum(),\n",
    "        ],\n",
    "    },\n",
    "    index=[\"true_groundtruth\", \"false_groundtruth\"],\n",
    ")"
   ]
  },
  {
   "cell_type": "code",
   "execution_count": 32,
   "metadata": {},
   "outputs": [
    {
     "data": {
      "image/png": "[encoded data removed]",
      "text/plain": [
       "<Figure size 720x504 with 2 Axes>"
      ]
     },
     "metadata": {
      "needs_background": "light"
     },
     "output_type": "display_data"
    },
    {
     "data": {
      "image/png": "[encoded data removed]",
      "text/plain": [
       "<Figure size 720x504 with 2 Axes>"
      ]
     },
     "metadata": {
      "needs_background": "light"
     },
     "output_type": "display_data"
    },
    {
     "data": {
      "image/png": "[encoded data removed]",
      "text/plain": [
       "<Figure size 720x504 with 2 Axes>"
      ]
     },
     "metadata": {
      "needs_background": "light"
     },
     "output_type": "display_data"
    },
    {
     "data": {
      "image/png": "[encoded data removed]",
      "text/plain": [
       "<Figure size 720x504 with 2 Axes>"
      ]
     },
     "metadata": {
      "needs_background": "light"
     },
     "output_type": "display_data"
    },
    {
     "data": {
      "image/png": "[encoded data removed]",
      "text/plain": [
       "<Figure size 720x504 with 2 Axes>"
      ]
     },
     "metadata": {
      "needs_background": "light"
     },
     "output_type": "display_data"
    }
   ],
   "source": [
    "import seaborn as sn\n",
    "import pandas as pd\n",
    "import matplotlib.pyplot as plt\n",
    "from sklearn.metrics import classification_report, multilabel_confusion_matrix\n",
    "\n",
    "cm = multilabel_confusion_matrix(\n",
    "    pivot_eval.loc[:, \"true\"].values, pivot_eval.loc[:, \"pred\"].values\n",
    ")\n",
    "for i, label in enumerate([\"endemic\", \"non_case\", \"one\", \"two\", \"three\"]):\n",
    "    df_cm = pd.DataFrame(cm[i], index=[\"0\", \"1\"], columns=[\"0\", \"1\"])\n",
    "    plt.figure(figsize=(10, 7))\n",
    "    sn.heatmap(df_cm, annot=True).set(title=label, ylabel=\"True\", xlabel=\"Predicted\")"
   ]
  },
  {
   "cell_type": "code",
   "execution_count": 33,
   "metadata": {},
   "outputs": [
    {
     "name": "stdout",
     "output_type": "stream",
     "text": [
      "endemic\n",
      "              precision    recall  f1-score   support\n",
      "\n",
      "           0       1.00      0.48      0.65        25\n",
      "           1       0.00      0.00      0.00         0\n",
      "\n",
      "    accuracy                           0.48        25\n",
      "   macro avg       0.50      0.24      0.32        25\n",
      "weighted avg       1.00      0.48      0.65        25\n",
      "\n",
      "******\n",
      "\n",
      "\n",
      "\n",
      "non_case\n",
      "              precision    recall  f1-score   support\n",
      "\n",
      "           0       1.00      0.52      0.68        25\n",
      "           1       0.00      0.00      0.00         0\n",
      "\n",
      "    accuracy                           0.52        25\n",
      "   macro avg       0.50      0.26      0.34        25\n",
      "weighted avg       1.00      0.52      0.68        25\n",
      "\n",
      "******\n",
      "\n",
      "\n",
      "\n",
      "one\n",
      "              precision    recall  f1-score   support\n",
      "\n",
      "           0       1.00      0.80      0.89        25\n",
      "           1       0.00      0.00      0.00         0\n",
      "\n",
      "    accuracy                           0.80        25\n",
      "   macro avg       0.50      0.40      0.44        25\n",
      "weighted avg       1.00      0.80      0.89        25\n",
      "\n",
      "******\n",
      "\n",
      "\n",
      "\n",
      "two\n",
      "              precision    recall  f1-score   support\n",
      "\n",
      "           0       1.00      0.80      0.89        25\n",
      "           1       0.00      0.00      0.00         0\n",
      "\n",
      "    accuracy                           0.80        25\n",
      "   macro avg       0.50      0.40      0.44        25\n",
      "weighted avg       1.00      0.80      0.89        25\n",
      "\n",
      "******\n",
      "\n",
      "\n",
      "\n",
      "three\n",
      "              precision    recall  f1-score   support\n",
      "\n",
      "           0       1.00      0.80      0.89        25\n",
      "           1       0.00      0.00      0.00         0\n",
      "\n",
      "    accuracy                           0.80        25\n",
      "   macro avg       0.50      0.40      0.44        25\n",
      "weighted avg       1.00      0.80      0.89        25\n",
      "\n",
      "******\n",
      "\n",
      "\n",
      "\n"
     ]
    },
    {
     "name": "stderr",
     "output_type": "stream",
     "text": [
      "C:\\Users\\AbboodA\\AppData\\Local\\Continuum\\miniconda3\\envs\\scoring\\lib\\site-packages\\sklearn\\metrics\\_classification.py:1272: UndefinedMetricWarning: Recall and F-score are ill-defined and being set to 0.0 in labels with no true samples. Use `zero_division` parameter to control this behavior.\n",
      "  _warn_prf(average, modifier, msg_start, len(result))\n"
     ]
    }
   ],
   "source": [
    "for label in [\"endemic\", \"non_case\", \"one\", \"two\", \"three\"]:\n",
    "    print(label)\n",
    "    print(\n",
    "        classification_report(\n",
    "            pivot_eval.loc[:, (\"true\", label)].values,\n",
    "            pivot_eval.loc[:, (\"pred\", label)].values,\n",
    "        )\n",
    "    )\n",
    "    print(\"******\\n\\n\\n\")"
   ]
  },
  {
   "cell_type": "code",
   "execution_count": 34,
   "metadata": {},
   "outputs": [
    {
     "name": "stdout",
     "output_type": "stream",
     "text": [
      "endemic\n",
      "true_positive     4.33333\n",
      "true_negative          16\n",
      "false_positive    3.66667\n",
      "false_negative          1\n",
      "dtype: object\n",
      "\n",
      "\n",
      "non_case\n",
      "true_positive     12\n",
      "true_negative     13\n",
      "false_positive     0\n",
      "false_negative     0\n",
      "dtype: object\n",
      "\n",
      "\n",
      "one\n",
      "true_positive      0\n",
      "true_negative     22\n",
      "false_positive     0\n",
      "false_negative     3\n",
      "dtype: object\n",
      "\n",
      "\n",
      "two\n",
      "true_positive        0\n",
      "true_negative     21.5\n",
      "false_positive       0\n",
      "false_negative     3.5\n",
      "dtype: object\n",
      "\n",
      "\n",
      "three\n",
      "true_positive           0\n",
      "true_negative     23.8333\n",
      "false_positive          0\n",
      "false_negative    1.16667\n",
      "dtype: object\n",
      "\n",
      "\n"
     ]
    }
   ],
   "source": [
    "for label in [\"endemic\", \"non_case\", \"one\", \"two\", \"three\"]:\n",
    "    eval_df_mean.loc[:, \"true\"] = eval_df_mean.loc[:, \"p(d_i)\"]\n",
    "    eval_df_mean.loc[:, \"pred_true\"] = np.where(\n",
    "        eval_df_mean.loc[:, \"p^(d_i)\"] > 0.5, 1, 0\n",
    "    )\n",
    "    pivot_eval = eval_df_mean.pivot(\n",
    "        index=[\"x1\", \"x2\"], columns=\"d_i\", values=[\"true\", \"pred_true\"]\n",
    "    )\n",
    "    print(label)\n",
    "    print(\n",
    "        eval_df_mean.query(f\"d_i=='{label}'\")\n",
    "        .assign(false=lambda x: 1 - x[\"true\"])\n",
    "        .assign(pred_false=lambda x: 1 - x[\"pred_true\"])\n",
    "        .drop(columns=\"pred\")\n",
    "        .assign(\n",
    "            true_positive=lambda x: x[\"true\"] * x[\"pred_true\"],\n",
    "            true_negative=lambda x: x[\"false\"] * x[\"pred_false\"],\n",
    "            false_positive=lambda x: x[\"false\"] * x[\"pred_true\"],\n",
    "            false_negative=lambda x: x[\"true\"] * x[\"pred_false\"],\n",
    "        )\n",
    "        .sum()\n",
    "        .iloc[-4:]\n",
    "    )\n",
    "    print(\"\\n\")"
   ]
  },
  {
   "cell_type": "markdown",
   "metadata": {},
   "source": [
    "### How to score when algo is a classifier\n",
    "- We look into data distribution and set a cut-off based on data distribution. We assume that the non-outbreak numbers are highest around 0. This peak will flatten when we move away from 0. There we set a cut-off when the next peak is about to start (probably a outbreak cluster)\n",
    "- Discretize p(d_i) into bins and predict vector of bins\n",
    "- p(d_i) \\element of {0,1} -> confusion matrix"
   ]
  },
  {
   "cell_type": "markdown",
   "metadata": {},
   "source": [
    "R = [0,1]\n",
    "\n",
    "B = {0,1}\n",
    "- p \\element R AND p^ \\element R -> like the lower, when threshold for p^ is set to e.g., 0.5\n",
    "- p \\element R AND p^ \\element B ->\n",
    "- p \\element B AND p^ \\element R -> easy/known/ROC/AUC\n",
    "- p \\element B AND p^ \\element B -> easy\n",
    "\n",
    "### References\n",
    "- KL, Entropy, MI (Wie macht es inhatlich Sinn die Entropie zu berechnen, gegeben den verschiedenen Zellen und DataLabels)\n",
    "    - Referenz: https://arxiv.org/pdf/1802.03446.pdf\n",
    "    - Referenz: https://www.sciencedirect.com/science/article/pii/S107731420700077X (pixel-based classifications)\n",
    "    - Referenz: https://iopscience.iop.org/article/10.1088/1755-1315/47/1/012042/pdf (pixel-based classifications)\n",
    "    - Likelihood methoden anschauen\n",
    "    - https://en.wikipedia.org/wiki/Kernel_embedding_of_distributions"
   ]
  },
  {
   "cell_type": "markdown",
   "metadata": {},
   "source": [
    "## TODO:    \n",
    "- Classifikations-Fall (Wie komme ich von einem kontinuierlichen Wert der Daten auf einen binären\n",
    "    - simplere Beispiele (ein perfektes, ein komplett missklassifiziertes, ein 50/50 Beispiel)\n",
    "## Backlog:\n",
    "- z-score-based binning (https://core.ac.uk/download/pdf/82692314.pdf)\n",
    "    - in general quantiles\n",
    "- attribute cell to data with highest probability"
   ]
  },
  {
   "cell_type": "code",
   "execution_count": 45,
   "metadata": {},
   "outputs": [
    {
     "data": {
      "text/html": [
       "<div>\n",
       "<style scoped>\n",
       "    .dataframe tbody tr th:only-of-type {\n",
       "        vertical-align: middle;\n",
       "    }\n",
       "\n",
       "    .dataframe tbody tr th {\n",
       "        vertical-align: top;\n",
       "    }\n",
       "\n",
       "    .dataframe thead th {\n",
       "        text-align: right;\n",
       "    }\n",
       "</style>\n",
       "<table border=\"1\" class=\"dataframe\">\n",
       "  <thead>\n",
       "    <tr style=\"text-align: right;\">\n",
       "      <th></th>\n",
       "      <th>x1</th>\n",
       "      <th>x2</th>\n",
       "      <th>w_A</th>\n",
       "      <th>w_B</th>\n",
       "      <th>w_C</th>\n",
       "    </tr>\n",
       "  </thead>\n",
       "  <tbody>\n",
       "    <tr>\n",
       "      <th>0</th>\n",
       "      <td>0.0</td>\n",
       "      <td>0.0</td>\n",
       "      <td>0.0</td>\n",
       "      <td>0.0</td>\n",
       "      <td>0.0</td>\n",
       "    </tr>\n",
       "    <tr>\n",
       "      <th>1</th>\n",
       "      <td>0.0</td>\n",
       "      <td>1.0</td>\n",
       "      <td>0.0</td>\n",
       "      <td>0.0</td>\n",
       "      <td>0.0</td>\n",
       "    </tr>\n",
       "    <tr>\n",
       "      <th>2</th>\n",
       "      <td>0.0</td>\n",
       "      <td>2.0</td>\n",
       "      <td>0.0</td>\n",
       "      <td>0.0</td>\n",
       "      <td>0.0</td>\n",
       "    </tr>\n",
       "    <tr>\n",
       "      <th>3</th>\n",
       "      <td>0.0</td>\n",
       "      <td>3.0</td>\n",
       "      <td>0.0</td>\n",
       "      <td>0.0</td>\n",
       "      <td>0.0</td>\n",
       "    </tr>\n",
       "    <tr>\n",
       "      <th>4</th>\n",
       "      <td>0.0</td>\n",
       "      <td>4.0</td>\n",
       "      <td>0.0</td>\n",
       "      <td>0.0</td>\n",
       "      <td>1.0</td>\n",
       "    </tr>\n",
       "    <tr>\n",
       "      <th>5</th>\n",
       "      <td>1.0</td>\n",
       "      <td>0.0</td>\n",
       "      <td>0.0</td>\n",
       "      <td>0.0</td>\n",
       "      <td>0.0</td>\n",
       "    </tr>\n",
       "    <tr>\n",
       "      <th>6</th>\n",
       "      <td>1.0</td>\n",
       "      <td>1.0</td>\n",
       "      <td>1.0</td>\n",
       "      <td>0.0</td>\n",
       "      <td>0.0</td>\n",
       "    </tr>\n",
       "    <tr>\n",
       "      <th>7</th>\n",
       "      <td>1.0</td>\n",
       "      <td>2.0</td>\n",
       "      <td>1.0</td>\n",
       "      <td>0.0</td>\n",
       "      <td>0.0</td>\n",
       "    </tr>\n",
       "    <tr>\n",
       "      <th>8</th>\n",
       "      <td>1.0</td>\n",
       "      <td>3.0</td>\n",
       "      <td>0.0</td>\n",
       "      <td>0.0</td>\n",
       "      <td>0.0</td>\n",
       "    </tr>\n",
       "    <tr>\n",
       "      <th>9</th>\n",
       "      <td>1.0</td>\n",
       "      <td>4.0</td>\n",
       "      <td>0.0</td>\n",
       "      <td>0.0</td>\n",
       "      <td>0.0</td>\n",
       "    </tr>\n",
       "    <tr>\n",
       "      <th>10</th>\n",
       "      <td>2.0</td>\n",
       "      <td>0.0</td>\n",
       "      <td>0.0</td>\n",
       "      <td>0.0</td>\n",
       "      <td>0.0</td>\n",
       "    </tr>\n",
       "    <tr>\n",
       "      <th>11</th>\n",
       "      <td>2.0</td>\n",
       "      <td>1.0</td>\n",
       "      <td>1.0</td>\n",
       "      <td>0.0</td>\n",
       "      <td>0.0</td>\n",
       "    </tr>\n",
       "    <tr>\n",
       "      <th>12</th>\n",
       "      <td>2.0</td>\n",
       "      <td>2.0</td>\n",
       "      <td>1.0</td>\n",
       "      <td>0.5</td>\n",
       "      <td>0.0</td>\n",
       "    </tr>\n",
       "    <tr>\n",
       "      <th>13</th>\n",
       "      <td>2.0</td>\n",
       "      <td>3.0</td>\n",
       "      <td>0.0</td>\n",
       "      <td>0.5</td>\n",
       "      <td>0.0</td>\n",
       "    </tr>\n",
       "    <tr>\n",
       "      <th>14</th>\n",
       "      <td>2.0</td>\n",
       "      <td>4.0</td>\n",
       "      <td>0.0</td>\n",
       "      <td>0.5</td>\n",
       "      <td>0.0</td>\n",
       "    </tr>\n",
       "    <tr>\n",
       "      <th>15</th>\n",
       "      <td>3.0</td>\n",
       "      <td>0.0</td>\n",
       "      <td>0.5</td>\n",
       "      <td>0.0</td>\n",
       "      <td>0.0</td>\n",
       "    </tr>\n",
       "    <tr>\n",
       "      <th>16</th>\n",
       "      <td>3.0</td>\n",
       "      <td>1.0</td>\n",
       "      <td>0.0</td>\n",
       "      <td>0.0</td>\n",
       "      <td>0.0</td>\n",
       "    </tr>\n",
       "    <tr>\n",
       "      <th>17</th>\n",
       "      <td>3.0</td>\n",
       "      <td>2.0</td>\n",
       "      <td>0.0</td>\n",
       "      <td>0.5</td>\n",
       "      <td>0.0</td>\n",
       "    </tr>\n",
       "    <tr>\n",
       "      <th>18</th>\n",
       "      <td>3.0</td>\n",
       "      <td>3.0</td>\n",
       "      <td>0.0</td>\n",
       "      <td>0.5</td>\n",
       "      <td>0.0</td>\n",
       "    </tr>\n",
       "    <tr>\n",
       "      <th>19</th>\n",
       "      <td>3.0</td>\n",
       "      <td>4.0</td>\n",
       "      <td>0.0</td>\n",
       "      <td>0.5</td>\n",
       "      <td>0.0</td>\n",
       "    </tr>\n",
       "    <tr>\n",
       "      <th>20</th>\n",
       "      <td>4.0</td>\n",
       "      <td>0.0</td>\n",
       "      <td>0.5</td>\n",
       "      <td>0.0</td>\n",
       "      <td>0.0</td>\n",
       "    </tr>\n",
       "    <tr>\n",
       "      <th>21</th>\n",
       "      <td>4.0</td>\n",
       "      <td>1.0</td>\n",
       "      <td>0.0</td>\n",
       "      <td>0.0</td>\n",
       "      <td>0.0</td>\n",
       "    </tr>\n",
       "    <tr>\n",
       "      <th>22</th>\n",
       "      <td>4.0</td>\n",
       "      <td>2.0</td>\n",
       "      <td>0.0</td>\n",
       "      <td>0.5</td>\n",
       "      <td>0.0</td>\n",
       "    </tr>\n",
       "    <tr>\n",
       "      <th>23</th>\n",
       "      <td>4.0</td>\n",
       "      <td>3.0</td>\n",
       "      <td>0.0</td>\n",
       "      <td>0.5</td>\n",
       "      <td>0.0</td>\n",
       "    </tr>\n",
       "    <tr>\n",
       "      <th>24</th>\n",
       "      <td>4.0</td>\n",
       "      <td>4.0</td>\n",
       "      <td>0.0</td>\n",
       "      <td>0.5</td>\n",
       "      <td>0.0</td>\n",
       "    </tr>\n",
       "  </tbody>\n",
       "</table>\n",
       "</div>"
      ],
      "text/plain": [
       "     x1   x2  w_A  w_B  w_C\n",
       "0   0.0  0.0  0.0  0.0  0.0\n",
       "1   0.0  1.0  0.0  0.0  0.0\n",
       "2   0.0  2.0  0.0  0.0  0.0\n",
       "3   0.0  3.0  0.0  0.0  0.0\n",
       "4   0.0  4.0  0.0  0.0  1.0\n",
       "5   1.0  0.0  0.0  0.0  0.0\n",
       "6   1.0  1.0  1.0  0.0  0.0\n",
       "7   1.0  2.0  1.0  0.0  0.0\n",
       "8   1.0  3.0  0.0  0.0  0.0\n",
       "9   1.0  4.0  0.0  0.0  0.0\n",
       "10  2.0  0.0  0.0  0.0  0.0\n",
       "11  2.0  1.0  1.0  0.0  0.0\n",
       "12  2.0  2.0  1.0  0.5  0.0\n",
       "13  2.0  3.0  0.0  0.5  0.0\n",
       "14  2.0  4.0  0.0  0.5  0.0\n",
       "15  3.0  0.0  0.5  0.0  0.0\n",
       "16  3.0  1.0  0.0  0.0  0.0\n",
       "17  3.0  2.0  0.0  0.5  0.0\n",
       "18  3.0  3.0  0.0  0.5  0.0\n",
       "19  3.0  4.0  0.0  0.5  0.0\n",
       "20  4.0  0.0  0.5  0.0  0.0\n",
       "21  4.0  1.0  0.0  0.0  0.0\n",
       "22  4.0  2.0  0.0  0.5  0.0\n",
       "23  4.0  3.0  0.0  0.5  0.0\n",
       "24  4.0  4.0  0.0  0.5  0.0"
      ]
     },
     "execution_count": 45,
     "metadata": {},
     "output_type": "execute_result"
    }
   ],
   "source": [
    "signals_without_endemic_non_case"
   ]
  },
  {
   "cell_type": "code",
   "execution_count": 50,
   "metadata": {},
   "outputs": [
    {
     "name": "stdout",
     "output_type": "stream",
     "text": [
      "mutual information\n",
      "0.19305514293545187\n"
     ]
    }
   ],
   "source": [
    "signal_bad = pd.DataFrame(product(range(5), range(5)), columns=[\"x1\", \"x2\"]).assign(\n",
    "    w_A=0, w_B=0, w_C=0\n",
    ")\n",
    "\n",
    "score_bad = Score(df_cases, signal_bad, [\"one\", \"two\", \"three\"])\n",
    "\n",
    "print(\"mutual information\")\n",
    "print(\n",
    "    metrics.mutual_info_score(\n",
    "        score_bad.eval_df()[\"p(d_i)\"].values, score_bad.eval_df()[\"p^(d_i)\"].values\n",
    "    )\n",
    ")"
   ]
  },
  {
   "cell_type": "code",
   "execution_count": 52,
   "metadata": {},
   "outputs": [
    {
     "name": "stdout",
     "output_type": "stream",
     "text": [
      "mutual information\n",
      "0.07215379222183908\n"
     ]
    }
   ],
   "source": [
    "signal_sensitive = pd.DataFrame(\n",
    "    product(range(5), range(5)), columns=[\"x1\", \"x2\"]\n",
    ").assign(w_A=1, w_B=1, w_C=1)\n",
    "\n",
    "score_sensitive = Score(df_cases, signal_sensitive, [\"one\", \"two\", \"three\"])\n",
    "\n",
    "print(\"mutual information\")\n",
    "print(\n",
    "    metrics.mutual_info_score(\n",
    "        score_sensitive.eval_df()[\"p(d_i)\"].values,\n",
    "        score_sensitive.eval_df()[\"p^(d_i)\"].values,\n",
    "    )\n",
    ")"
   ]
  },
  {
   "cell_type": "code",
   "execution_count": 68,
   "metadata": {},
   "outputs": [
    {
     "name": "stdout",
     "output_type": "stream",
     "text": [
      "mutual information\n",
      "0.5234672230920462\n"
     ]
    }
   ],
   "source": [
    "signal_specific = df_cases.assign(\n",
    "    w_A=lambda x: np.where(x.endemic == 0, x.one, x.one / (x.one + x.endemic)),\n",
    "    w_B=lambda x: np.where(x.endemic == 0, x.two, x.two / (x.two + x.endemic)),\n",
    "    w_C=lambda x: np.where(x.endemic == 0, x.three, x.three / (x.three + x.endemic)),\n",
    ").drop([\"one\", \"two\", \"three\", \"endemic\", \"non_case\"], axis=1)\n",
    "\n",
    "score_specific = Score(df_cases, signal_specific, [\"one\", \"two\", \"three\"])\n",
    "\n",
    "print(\"mutual information\")\n",
    "print(\n",
    "    metrics.mutual_info_score(\n",
    "        score_specific.eval_df()[\"p(d_i)\"].values,\n",
    "        score_specific.eval_df()[\"p^(d_i)\"].values,\n",
    "    )\n",
    ")"
   ]
  }
 ],
 "metadata": {
  "kernelspec": {
   "display_name": "Python 3",
   "language": "python",
   "name": "python3"
  },
  "language_info": {
   "codemirror_mode": {
    "name": "ipython",
    "version": 3
   },
   "file_extension": ".py",
   "mimetype": "text/x-python",
   "name": "python",
   "nbconvert_exporter": "python",
   "pygments_lexer": "ipython3",
   "version": "3.8.5"
  }
 },
 "nbformat": 4,
 "nbformat_minor": 4
}
