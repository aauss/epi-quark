{
 "cells": [
  {
   "cell_type": "code",
   "execution_count": 1,
   "metadata": {},
   "outputs": [],
   "source": [
    "%load_ext lab_black"
   ]
  },
  {
   "cell_type": "code",
   "execution_count": 2,
   "metadata": {},
   "outputs": [],
   "source": [
    "import pandas as pd\n",
    "import numpy as np\n",
    "import matplotlib.pyplot as plt\n",
    "from matplotlib.patches import Rectangle\n",
    "import seaborn as sns\n",
    "from itertools import product\n",
    "from functools import reduce"
   ]
  },
  {
   "cell_type": "markdown",
   "metadata": {},
   "source": [
    "## Data preparation"
   ]
  },
  {
   "cell_type": "code",
   "execution_count": 3,
   "metadata": {},
   "outputs": [],
   "source": [
    "# define labels\n",
    "MUST_HAVE_LABELS = (\"endemic\", \"non_case\")\n",
    "DATA_LABELS = (\"one\", \"two\", \"three\") + MUST_HAVE_LABELS"
   ]
  },
  {
   "cell_type": "code",
   "execution_count": 4,
   "metadata": {},
   "outputs": [],
   "source": [
    "# define coordinate system with two axes x1 and x2\n",
    "df_coordinates = pd.concat(\n",
    "    [\n",
    "        pd.DataFrame(columns=[\"x1\", \"x2\"], data=product(range(5), range(5))),\n",
    "        pd.DataFrame(columns=DATA_LABELS),\n",
    "    ]\n",
    ")"
   ]
  },
  {
   "cell_type": "code",
   "execution_count": 5,
   "metadata": {},
   "outputs": [],
   "source": [
    "# read in data\n",
    "one = [0] * 5 + [0, 1, 1, 0, 0] + [0, 0, 1, 0, 0] + [0] * 10\n",
    "two = (\n",
    "    [\n",
    "        0,\n",
    "        0,\n",
    "        1,\n",
    "        1,\n",
    "        1,\n",
    "    ]\n",
    "    + [0] * 10\n",
    "    + [0, 0, 0, 1, 0]\n",
    "    + [0] * 5\n",
    ")\n",
    "three = [0] * 15 + [0, 0, 0, 1, 2] + [0] * 5\n",
    "endemic = (\n",
    "    [0] * 5 + [1, 0, 0, 0, 0] + [0, 1, 0, 0, 0] + [4, 0, 0, 0, 1] + [2, 0, 0, 0, 1]\n",
    ")\n",
    "\n",
    "df_cases = df_coordinates.assign(one=one, two=two, three=three, endemic=endemic)"
   ]
  },
  {
   "cell_type": "code",
   "execution_count": 6,
   "metadata": {},
   "outputs": [
    {
     "data": {
      "text/html": [
       "<div>\n",
       "<style scoped>\n",
       "    .dataframe tbody tr th:only-of-type {\n",
       "        vertical-align: middle;\n",
       "    }\n",
       "\n",
       "    .dataframe tbody tr th {\n",
       "        vertical-align: top;\n",
       "    }\n",
       "\n",
       "    .dataframe thead th {\n",
       "        text-align: right;\n",
       "    }\n",
       "</style>\n",
       "<table border=\"1\" class=\"dataframe\">\n",
       "  <thead>\n",
       "    <tr style=\"text-align: right;\">\n",
       "      <th></th>\n",
       "      <th>x1</th>\n",
       "      <th>x2</th>\n",
       "      <th>one</th>\n",
       "      <th>two</th>\n",
       "      <th>three</th>\n",
       "      <th>endemic</th>\n",
       "      <th>non_case</th>\n",
       "    </tr>\n",
       "  </thead>\n",
       "  <tbody>\n",
       "    <tr>\n",
       "      <th>0</th>\n",
       "      <td>0.0</td>\n",
       "      <td>0.0</td>\n",
       "      <td>0</td>\n",
       "      <td>0</td>\n",
       "      <td>0</td>\n",
       "      <td>0</td>\n",
       "      <td>NaN</td>\n",
       "    </tr>\n",
       "    <tr>\n",
       "      <th>1</th>\n",
       "      <td>0.0</td>\n",
       "      <td>1.0</td>\n",
       "      <td>0</td>\n",
       "      <td>0</td>\n",
       "      <td>0</td>\n",
       "      <td>0</td>\n",
       "      <td>NaN</td>\n",
       "    </tr>\n",
       "    <tr>\n",
       "      <th>2</th>\n",
       "      <td>0.0</td>\n",
       "      <td>2.0</td>\n",
       "      <td>0</td>\n",
       "      <td>1</td>\n",
       "      <td>0</td>\n",
       "      <td>0</td>\n",
       "      <td>NaN</td>\n",
       "    </tr>\n",
       "    <tr>\n",
       "      <th>3</th>\n",
       "      <td>0.0</td>\n",
       "      <td>3.0</td>\n",
       "      <td>0</td>\n",
       "      <td>1</td>\n",
       "      <td>0</td>\n",
       "      <td>0</td>\n",
       "      <td>NaN</td>\n",
       "    </tr>\n",
       "    <tr>\n",
       "      <th>4</th>\n",
       "      <td>0.0</td>\n",
       "      <td>4.0</td>\n",
       "      <td>0</td>\n",
       "      <td>1</td>\n",
       "      <td>0</td>\n",
       "      <td>0</td>\n",
       "      <td>NaN</td>\n",
       "    </tr>\n",
       "  </tbody>\n",
       "</table>\n",
       "</div>"
      ],
      "text/plain": [
       "    x1   x2  one  two  three  endemic non_case\n",
       "0  0.0  0.0    0    0      0        0      NaN\n",
       "1  0.0  1.0    0    0      0        0      NaN\n",
       "2  0.0  2.0    0    1      0        0      NaN\n",
       "3  0.0  3.0    0    1      0        0      NaN\n",
       "4  0.0  4.0    0    1      0        0      NaN"
      ]
     },
     "execution_count": 6,
     "metadata": {},
     "output_type": "execute_result"
    }
   ],
   "source": [
    "df_cases.head()"
   ]
  },
  {
   "cell_type": "code",
   "execution_count": 7,
   "metadata": {},
   "outputs": [],
   "source": [
    "# pad dummy-non-cases\n",
    "is_non_case = df_cases.loc[:, list(DATA_LABELS)].sum(axis=1) == 0\n",
    "df_padded = df_cases.assign(non_case=np.where(is_non_case, 1, 0))"
   ]
  },
  {
   "cell_type": "code",
   "execution_count": 8,
   "metadata": {},
   "outputs": [
    {
     "data": {
      "text/html": [
       "<div>\n",
       "<style scoped>\n",
       "    .dataframe tbody tr th:only-of-type {\n",
       "        vertical-align: middle;\n",
       "    }\n",
       "\n",
       "    .dataframe tbody tr th {\n",
       "        vertical-align: top;\n",
       "    }\n",
       "\n",
       "    .dataframe thead th {\n",
       "        text-align: right;\n",
       "    }\n",
       "</style>\n",
       "<table border=\"1\" class=\"dataframe\">\n",
       "  <thead>\n",
       "    <tr style=\"text-align: right;\">\n",
       "      <th></th>\n",
       "      <th>x1</th>\n",
       "      <th>x2</th>\n",
       "      <th>one</th>\n",
       "      <th>two</th>\n",
       "      <th>three</th>\n",
       "      <th>endemic</th>\n",
       "      <th>non_case</th>\n",
       "    </tr>\n",
       "  </thead>\n",
       "  <tbody>\n",
       "    <tr>\n",
       "      <th>0</th>\n",
       "      <td>0.0</td>\n",
       "      <td>0.0</td>\n",
       "      <td>0</td>\n",
       "      <td>0</td>\n",
       "      <td>0</td>\n",
       "      <td>0</td>\n",
       "      <td>1</td>\n",
       "    </tr>\n",
       "    <tr>\n",
       "      <th>1</th>\n",
       "      <td>0.0</td>\n",
       "      <td>1.0</td>\n",
       "      <td>0</td>\n",
       "      <td>0</td>\n",
       "      <td>0</td>\n",
       "      <td>0</td>\n",
       "      <td>1</td>\n",
       "    </tr>\n",
       "    <tr>\n",
       "      <th>2</th>\n",
       "      <td>0.0</td>\n",
       "      <td>2.0</td>\n",
       "      <td>0</td>\n",
       "      <td>1</td>\n",
       "      <td>0</td>\n",
       "      <td>0</td>\n",
       "      <td>0</td>\n",
       "    </tr>\n",
       "    <tr>\n",
       "      <th>3</th>\n",
       "      <td>0.0</td>\n",
       "      <td>3.0</td>\n",
       "      <td>0</td>\n",
       "      <td>1</td>\n",
       "      <td>0</td>\n",
       "      <td>0</td>\n",
       "      <td>0</td>\n",
       "    </tr>\n",
       "    <tr>\n",
       "      <th>4</th>\n",
       "      <td>0.0</td>\n",
       "      <td>4.0</td>\n",
       "      <td>0</td>\n",
       "      <td>1</td>\n",
       "      <td>0</td>\n",
       "      <td>0</td>\n",
       "      <td>0</td>\n",
       "    </tr>\n",
       "  </tbody>\n",
       "</table>\n",
       "</div>"
      ],
      "text/plain": [
       "    x1   x2  one  two  three  endemic  non_case\n",
       "0  0.0  0.0    0    0      0        0         1\n",
       "1  0.0  1.0    0    0      0        0         1\n",
       "2  0.0  2.0    0    1      0        0         0\n",
       "3  0.0  3.0    0    1      0        0         0\n",
       "4  0.0  4.0    0    1      0        0         0"
      ]
     },
     "execution_count": 8,
     "metadata": {},
     "output_type": "execute_result"
    }
   ],
   "source": [
    "df_padded.head()"
   ]
  },
  {
   "cell_type": "markdown",
   "metadata": {},
   "source": [
    "## Signal creation"
   ]
  },
  {
   "cell_type": "code",
   "execution_count": 9,
   "metadata": {},
   "outputs": [],
   "source": [
    "def run_algo_A(df_coordinates):\n",
    "    assert len(df_coordinates) == 25\n",
    "    signale = pd.DataFrame(\n",
    "        {\n",
    "            \"x1\": [1, 1, 2, 2, 3, 4],\n",
    "            \"x2\": [1, 2, 1, 2, 0, 0],\n",
    "            \"w_A\": [1, 1, 1, 1, 0.5, 0.5],\n",
    "        }\n",
    "    )\n",
    "    signale = df_coordinates.loc[:, [\"x1\", \"x2\"]].merge(\n",
    "        signale, how=\"left\", on=[\"x1\", \"x2\"]\n",
    "    )\n",
    "    return signale.fillna(0)\n",
    "\n",
    "\n",
    "def run_algo_B(df_coordinates):\n",
    "    assert len(df_coordinates) == 25\n",
    "    signale = pd.DataFrame(\n",
    "        {\n",
    "            \"x1\": [2, 2, 2, 3, 3, 3, 4, 4, 4],\n",
    "            \"x2\": [2, 3, 4, 2, 3, 4, 2, 3, 4],\n",
    "            \"w_B\": [0.5] * 9,\n",
    "        }\n",
    "    )\n",
    "    signale = df_coordinates.loc[:, [\"x1\", \"x2\"]].merge(\n",
    "        signale, how=\"left\", on=[\"x1\", \"x2\"]\n",
    "    )\n",
    "    return signale.fillna(0)\n",
    "\n",
    "\n",
    "def run_algo_C(df_coordinates):\n",
    "    assert len(df_coordinates) == 25\n",
    "    signale = pd.DataFrame({\"x1\": [0], \"x2\": [4], \"w_C\": [1]})\n",
    "    signale = df_coordinates.loc[:, [\"x1\", \"x2\"]].merge(\n",
    "        signale, how=\"left\", on=[\"x1\", \"x2\"]\n",
    "    )\n",
    "    return signale.fillna(0)"
   ]
  },
  {
   "cell_type": "code",
   "execution_count": 10,
   "metadata": {},
   "outputs": [
    {
     "data": {
      "text/html": [
       "<div>\n",
       "<style scoped>\n",
       "    .dataframe tbody tr th:only-of-type {\n",
       "        vertical-align: middle;\n",
       "    }\n",
       "\n",
       "    .dataframe tbody tr th {\n",
       "        vertical-align: top;\n",
       "    }\n",
       "\n",
       "    .dataframe thead th {\n",
       "        text-align: right;\n",
       "    }\n",
       "</style>\n",
       "<table border=\"1\" class=\"dataframe\">\n",
       "  <thead>\n",
       "    <tr style=\"text-align: right;\">\n",
       "      <th></th>\n",
       "      <th>x1</th>\n",
       "      <th>x2</th>\n",
       "      <th>w_A</th>\n",
       "      <th>w_B</th>\n",
       "      <th>w_C</th>\n",
       "      <th>one</th>\n",
       "      <th>two</th>\n",
       "      <th>three</th>\n",
       "      <th>endemic</th>\n",
       "      <th>non_case</th>\n",
       "    </tr>\n",
       "  </thead>\n",
       "  <tbody>\n",
       "    <tr>\n",
       "      <th>0</th>\n",
       "      <td>0.0</td>\n",
       "      <td>0.0</td>\n",
       "      <td>0.0</td>\n",
       "      <td>0.0</td>\n",
       "      <td>0.0</td>\n",
       "      <td>0</td>\n",
       "      <td>0</td>\n",
       "      <td>0</td>\n",
       "      <td>0</td>\n",
       "      <td>1</td>\n",
       "    </tr>\n",
       "    <tr>\n",
       "      <th>1</th>\n",
       "      <td>0.0</td>\n",
       "      <td>1.0</td>\n",
       "      <td>0.0</td>\n",
       "      <td>0.0</td>\n",
       "      <td>0.0</td>\n",
       "      <td>0</td>\n",
       "      <td>0</td>\n",
       "      <td>0</td>\n",
       "      <td>0</td>\n",
       "      <td>1</td>\n",
       "    </tr>\n",
       "    <tr>\n",
       "      <th>2</th>\n",
       "      <td>0.0</td>\n",
       "      <td>2.0</td>\n",
       "      <td>0.0</td>\n",
       "      <td>0.0</td>\n",
       "      <td>0.0</td>\n",
       "      <td>0</td>\n",
       "      <td>1</td>\n",
       "      <td>0</td>\n",
       "      <td>0</td>\n",
       "      <td>0</td>\n",
       "    </tr>\n",
       "    <tr>\n",
       "      <th>3</th>\n",
       "      <td>0.0</td>\n",
       "      <td>3.0</td>\n",
       "      <td>0.0</td>\n",
       "      <td>0.0</td>\n",
       "      <td>0.0</td>\n",
       "      <td>0</td>\n",
       "      <td>1</td>\n",
       "      <td>0</td>\n",
       "      <td>0</td>\n",
       "      <td>0</td>\n",
       "    </tr>\n",
       "    <tr>\n",
       "      <th>4</th>\n",
       "      <td>0.0</td>\n",
       "      <td>4.0</td>\n",
       "      <td>0.0</td>\n",
       "      <td>0.0</td>\n",
       "      <td>1.0</td>\n",
       "      <td>0</td>\n",
       "      <td>1</td>\n",
       "      <td>0</td>\n",
       "      <td>0</td>\n",
       "      <td>0</td>\n",
       "    </tr>\n",
       "  </tbody>\n",
       "</table>\n",
       "</div>"
      ],
      "text/plain": [
       "    x1   x2  w_A  w_B  w_C  one  two  three  endemic  non_case\n",
       "0  0.0  0.0  0.0  0.0  0.0    0    0      0        0         1\n",
       "1  0.0  1.0  0.0  0.0  0.0    0    0      0        0         1\n",
       "2  0.0  2.0  0.0  0.0  0.0    0    1      0        0         0\n",
       "3  0.0  3.0  0.0  0.0  0.0    0    1      0        0         0\n",
       "4  0.0  4.0  0.0  0.0  1.0    0    1      0        0         0"
      ]
     },
     "execution_count": 10,
     "metadata": {},
     "output_type": "execute_result"
    }
   ],
   "source": [
    "# create signals\n",
    "signal_A = run_algo_A(df_coordinates)\n",
    "signal_B = run_algo_B(df_coordinates)\n",
    "signal_C = run_algo_C(df_coordinates)\n",
    "\n",
    "signals_without_endemic_non_case = reduce(\n",
    "    lambda l, r: pd.merge(l, r, on=[\"x1\", \"x2\"]),\n",
    "    [signal_A, signal_B, signal_C, df_padded],\n",
    ")\n",
    "\n",
    "signals_without_endemic_non_case.head()"
   ]
  },
  {
   "cell_type": "code",
   "execution_count": 11,
   "metadata": {},
   "outputs": [],
   "source": [
    "assert (\n",
    "    signals_without_endemic_non_case.query(\"non_case==1\")\n",
    "    .loc[:, [\"one\", \"two\", \"three\", \"endemic\"]]\n",
    "    .sum()\n",
    "    .sum()\n",
    "    == 0\n",
    ")\n",
    "\n",
    "assert not any(\n",
    "    (signals_without_endemic_non_case.endemic > 0)\n",
    "    & (signals_without_endemic_non_case.non_case > 0)\n",
    ")"
   ]
  },
  {
   "cell_type": "markdown",
   "metadata": {},
   "source": [
    "### Calculate signal for endemic and non-case when not given by algo"
   ]
  },
  {
   "cell_type": "code",
   "execution_count": 12,
   "metadata": {},
   "outputs": [],
   "source": [
    "def add_endemic_non_case_signals(without_endemic_non_case, aggregation_func):\n",
    "    \"\"\"\n",
    "    Calculates signals for endemic and non cases.\n",
    "\n",
    "    Input DataFrame must indicate signal columns with 'w_' in their name.\n",
    "    \"\"\"\n",
    "    signal_columns = [c for c in signals_without_endemic_non_case.columns if \"w_\" in c]\n",
    "    signal_df = without_endemic_non_case.copy()\n",
    "\n",
    "    for signal in signal_columns:\n",
    "        signal_df.loc[:, signal + \"_endemic\"] = (1 - signal_df.loc[:, signal]) * (\n",
    "            signal_df[\"non_case\"] == 0\n",
    "        )\n",
    "        signal_df.loc[:, signal + \"_non_case\"] = (1 - signal_df.loc[:, signal]) * (\n",
    "            signal_df[\"non_case\"] != 0\n",
    "        )\n",
    "\n",
    "    non_case_signals = signal_df.columns[\n",
    "        signal_df.columns.str.contains(r\"w_._non_case\")\n",
    "    ]\n",
    "    endemic_signals = signal_df.columns[signal_df.columns.str.contains(r\"w_._endemic\")]\n",
    "\n",
    "    signal_df.loc[:, \"w_non_case\"] = signal_df[non_case_signals].agg(\n",
    "        aggregation_func, axis=1\n",
    "    )\n",
    "    signal_df.loc[:, \"w_endemic\"] = signal_df[endemic_signals].agg(\n",
    "        aggregation_func, axis=1\n",
    "    )\n",
    "    return signal_df"
   ]
  },
  {
   "cell_type": "code",
   "execution_count": 13,
   "metadata": {},
   "outputs": [],
   "source": [
    "def transform_for_heatmap(array):\n",
    "    return array.reshape((5, -1)).T\n",
    "\n",
    "\n",
    "def plot_heatmap(array, title):\n",
    "    transformed_array = transform_for_heatmap(array)\n",
    "    ax = sns.heatmap(\n",
    "        transformed_array, linewidth=2, cmap=\"RdPu\", cbar=False, annot=True\n",
    "    )\n",
    "    ax.add_patch(Rectangle((1, 1), 2, 2, fill=False, edgecolor=\"blue\", lw=3))\n",
    "    ax.add_patch(Rectangle((3, 0), 2, 1, fill=False, edgecolor=\"blue\", alpha=0.6, lw=3))\n",
    "    ax.add_patch(\n",
    "        Rectangle((2, 2), 3, 3, fill=False, edgecolor=\"orange\", alpha=0.6, lw=3)\n",
    "    )\n",
    "    ax.add_patch(Rectangle((0, 4), 1, 1, fill=False, edgecolor=\"green\", lw=3))\n",
    "    ax.set_title(title)\n",
    "    ax.set_ylim(0, 5)\n",
    "    ax.set_xlim(0, 5)\n",
    "    return ax"
   ]
  },
  {
   "cell_type": "code",
   "execution_count": 14,
   "metadata": {},
   "outputs": [
    {
     "data": {
      "image/png": "[encoded data removed]",
      "text/plain": [
       "<Figure size 432x288 with 1 Axes>"
      ]
     },
     "metadata": {
      "needs_background": "light"
     },
     "output_type": "display_data"
    },
    {
     "data": {
      "image/png": "[encoded data removed]",
      "text/plain": [
       "<Figure size 432x288 with 1 Axes>"
      ]
     },
     "metadata": {
      "needs_background": "light"
     },
     "output_type": "display_data"
    },
    {
     "data": {
      "image/png": "[encoded data removed]",
      "text/plain": [
       "<Figure size 432x288 with 1 Axes>"
      ]
     },
     "metadata": {
      "needs_background": "light"
     },
     "output_type": "display_data"
    },
    {
     "data": {
      "image/png": "[encoded data removed]",
      "text/plain": [
       "<Figure size 432x288 with 1 Axes>"
      ]
     },
     "metadata": {
      "needs_background": "light"
     },
     "output_type": "display_data"
    }
   ],
   "source": [
    "plot_heatmap(\n",
    "    add_endemic_non_case_signals(\n",
    "        signals_without_endemic_non_case, \"mean\"\n",
    "    ).w_endemic.values,\n",
    "    \"endemic_mean\",\n",
    ")\n",
    "plt.show()\n",
    "plot_heatmap(\n",
    "    add_endemic_non_case_signals(\n",
    "        signals_without_endemic_non_case, \"median\"\n",
    "    ).w_endemic.values,\n",
    "    \"endemic_median\",\n",
    ")\n",
    "plt.show()\n",
    "plot_heatmap(\n",
    "    add_endemic_non_case_signals(\n",
    "        signals_without_endemic_non_case, \"min\"\n",
    "    ).w_endemic.values,\n",
    "    \"endemic_min\",\n",
    ")\n",
    "plt.show()\n",
    "plot_heatmap(\n",
    "    add_endemic_non_case_signals(\n",
    "        signals_without_endemic_non_case, \"max\"\n",
    "    ).w_endemic.values,\n",
    "    \"endemic_max\",\n",
    ")\n",
    "plt.show()"
   ]
  },
  {
   "cell_type": "code",
   "execution_count": 15,
   "metadata": {},
   "outputs": [
    {
     "data": {
      "image/png": "[encoded data removed]",
      "text/plain": [
       "<Figure size 432x288 with 1 Axes>"
      ]
     },
     "metadata": {
      "needs_background": "light"
     },
     "output_type": "display_data"
    },
    {
     "data": {
      "image/png": "[encoded data removed]",
      "text/plain": [
       "<Figure size 432x288 with 1 Axes>"
      ]
     },
     "metadata": {
      "needs_background": "light"
     },
     "output_type": "display_data"
    },
    {
     "data": {
      "image/png": "[encoded data removed]",
      "text/plain": [
       "<Figure size 432x288 with 1 Axes>"
      ]
     },
     "metadata": {
      "needs_background": "light"
     },
     "output_type": "display_data"
    },
    {
     "data": {
      "image/png": "[encoded data removed]",
      "text/plain": [
       "<Figure size 432x288 with 1 Axes>"
      ]
     },
     "metadata": {
      "needs_background": "light"
     },
     "output_type": "display_data"
    }
   ],
   "source": [
    "plot_heatmap(\n",
    "    add_endemic_non_case_signals(\n",
    "        signals_without_endemic_non_case, \"mean\"\n",
    "    ).w_non_case.values,\n",
    "    \"non_case_mean\",\n",
    ")\n",
    "plt.show()\n",
    "plot_heatmap(\n",
    "    add_endemic_non_case_signals(\n",
    "        signals_without_endemic_non_case, \"median\"\n",
    "    ).w_non_case.values,\n",
    "    \"non_case_median\",\n",
    ")\n",
    "plt.show()\n",
    "plot_heatmap(\n",
    "    add_endemic_non_case_signals(\n",
    "        signals_without_endemic_non_case, \"min\"\n",
    "    ).w_non_case.values,\n",
    "    \"non_case_min\",\n",
    ")\n",
    "plt.show()\n",
    "plot_heatmap(\n",
    "    add_endemic_non_case_signals(\n",
    "        signals_without_endemic_non_case, \"max\"\n",
    "    ).w_non_case.values,\n",
    "    \"non_case_max\",\n",
    ")\n",
    "plt.show()"
   ]
  },
  {
   "cell_type": "markdown",
   "metadata": {},
   "source": [
    "## Score calculation (regression)"
   ]
  },
  {
   "cell_type": "code",
   "execution_count": 16,
   "metadata": {},
   "outputs": [],
   "source": [
    "def p_di_given_x(df_padded):\n",
    "    \"\"\"Calculate disease probability per cell, p(d_i| x)\"\"\"\n",
    "    disease_proba_df = df_padded.copy()\n",
    "    disease_proba_df.loc[:, DATA_LABELS] = disease_proba_df.loc[:, DATA_LABELS].div(\n",
    "        disease_proba_df.loc[:, DATA_LABELS].sum(axis=1), axis=0\n",
    "    )\n",
    "    return disease_proba_df.melt(\n",
    "        id_vars=[\"x1\", \"x2\"], var_name=\"d_i\", value_name=\"p(d_i)\"\n",
    "    )"
   ]
  },
  {
   "cell_type": "code",
   "execution_count": 17,
   "metadata": {},
   "outputs": [
    {
     "data": {
      "text/html": [
       "<div>\n",
       "<style scoped>\n",
       "    .dataframe tbody tr th:only-of-type {\n",
       "        vertical-align: middle;\n",
       "    }\n",
       "\n",
       "    .dataframe tbody tr th {\n",
       "        vertical-align: top;\n",
       "    }\n",
       "\n",
       "    .dataframe thead th {\n",
       "        text-align: right;\n",
       "    }\n",
       "</style>\n",
       "<table border=\"1\" class=\"dataframe\">\n",
       "  <thead>\n",
       "    <tr style=\"text-align: right;\">\n",
       "      <th></th>\n",
       "      <th>x1</th>\n",
       "      <th>x2</th>\n",
       "      <th>d_i</th>\n",
       "      <th>p(d_i)</th>\n",
       "    </tr>\n",
       "  </thead>\n",
       "  <tbody>\n",
       "    <tr>\n",
       "      <th>120</th>\n",
       "      <td>4.0</td>\n",
       "      <td>0.0</td>\n",
       "      <td>non_case</td>\n",
       "      <td>0.0</td>\n",
       "    </tr>\n",
       "    <tr>\n",
       "      <th>121</th>\n",
       "      <td>4.0</td>\n",
       "      <td>1.0</td>\n",
       "      <td>non_case</td>\n",
       "      <td>1.0</td>\n",
       "    </tr>\n",
       "    <tr>\n",
       "      <th>122</th>\n",
       "      <td>4.0</td>\n",
       "      <td>2.0</td>\n",
       "      <td>non_case</td>\n",
       "      <td>1.0</td>\n",
       "    </tr>\n",
       "    <tr>\n",
       "      <th>123</th>\n",
       "      <td>4.0</td>\n",
       "      <td>3.0</td>\n",
       "      <td>non_case</td>\n",
       "      <td>1.0</td>\n",
       "    </tr>\n",
       "    <tr>\n",
       "      <th>124</th>\n",
       "      <td>4.0</td>\n",
       "      <td>4.0</td>\n",
       "      <td>non_case</td>\n",
       "      <td>0.0</td>\n",
       "    </tr>\n",
       "  </tbody>\n",
       "</table>\n",
       "</div>"
      ],
      "text/plain": [
       "      x1   x2       d_i  p(d_i)\n",
       "120  4.0  0.0  non_case     0.0\n",
       "121  4.0  1.0  non_case     1.0\n",
       "122  4.0  2.0  non_case     1.0\n",
       "123  4.0  3.0  non_case     1.0\n",
       "124  4.0  4.0  non_case     0.0"
      ]
     },
     "execution_count": 17,
     "metadata": {},
     "output_type": "execute_result"
    }
   ],
   "source": [
    "df_di_given_x = p_di_given_x(df_padded)\n",
    "df_di_given_x.tail()"
   ]
  },
  {
   "cell_type": "code",
   "execution_count": 19,
   "metadata": {},
   "outputs": [],
   "source": [
    "def p_hat_sj_given_x(signals_with_endemic_non_case):\n",
    "    \"\"\"p^ (s_j|x) = w(s, x) / sum_s (w(s,x))\"\"\"\n",
    "    df_prior_signal = signals_with_endemic_non_case.copy()\n",
    "    # todo: find flexible solution\n",
    "    signal_columns = [\"w_A\", \"w_B\", \"w_C\", \"w_non_case\", \"w_endemic\"]\n",
    "    prior_columns = [\"p_A\", \"p_B\", \"p_C\", \"p_non_case\", \"p_endemic\"]\n",
    "    sj_given_x = (\n",
    "        df_prior_signal.loc[:, signal_columns]\n",
    "        .div(\n",
    "            df_prior_signal.loc[:, signal_columns].sum(axis=1),\n",
    "            axis=0,\n",
    "        )\n",
    "        .values\n",
    "    )\n",
    "\n",
    "    df_prior_signal.loc[:, prior_columns] = sj_given_x\n",
    "\n",
    "    signals_long = df_prior_signal.melt(\n",
    "        id_vars=[\"x1\", \"x2\"],\n",
    "        value_vars=prior_columns,\n",
    "        var_name=\"s_j_given_x\",\n",
    "        value_name=\"prior\",\n",
    "    ).assign(s_j=lambda x: x[\"s_j_given_x\"].str.replace(\"p_\", \"\"))\n",
    "    return signals_long"
   ]
  },
  {
   "cell_type": "code",
   "execution_count": 20,
   "metadata": {},
   "outputs": [],
   "source": [
    "signals_with_endemic_non_case = add_endemic_non_case_signals(\n",
    "    signals_without_endemic_non_case, \"mean\"\n",
    ")\n",
    "df_sj_given_x = p_hat_sj_given_x(signals_with_endemic_non_case)"
   ]
  },
  {
   "cell_type": "code",
   "execution_count": 21,
   "metadata": {},
   "outputs": [
    {
     "data": {
      "text/html": [
       "<div>\n",
       "<style scoped>\n",
       "    .dataframe tbody tr th:only-of-type {\n",
       "        vertical-align: middle;\n",
       "    }\n",
       "\n",
       "    .dataframe tbody tr th {\n",
       "        vertical-align: top;\n",
       "    }\n",
       "\n",
       "    .dataframe thead th {\n",
       "        text-align: right;\n",
       "    }\n",
       "</style>\n",
       "<table border=\"1\" class=\"dataframe\">\n",
       "  <thead>\n",
       "    <tr style=\"text-align: right;\">\n",
       "      <th></th>\n",
       "      <th>x1</th>\n",
       "      <th>x2</th>\n",
       "      <th>s_j_given_x</th>\n",
       "      <th>prior</th>\n",
       "      <th>s_j</th>\n",
       "    </tr>\n",
       "  </thead>\n",
       "  <tbody>\n",
       "    <tr>\n",
       "      <th>0</th>\n",
       "      <td>0.0</td>\n",
       "      <td>0.0</td>\n",
       "      <td>p_A</td>\n",
       "      <td>0.0</td>\n",
       "      <td>A</td>\n",
       "    </tr>\n",
       "    <tr>\n",
       "      <th>1</th>\n",
       "      <td>0.0</td>\n",
       "      <td>1.0</td>\n",
       "      <td>p_A</td>\n",
       "      <td>0.0</td>\n",
       "      <td>A</td>\n",
       "    </tr>\n",
       "    <tr>\n",
       "      <th>2</th>\n",
       "      <td>0.0</td>\n",
       "      <td>2.0</td>\n",
       "      <td>p_A</td>\n",
       "      <td>0.0</td>\n",
       "      <td>A</td>\n",
       "    </tr>\n",
       "    <tr>\n",
       "      <th>3</th>\n",
       "      <td>0.0</td>\n",
       "      <td>3.0</td>\n",
       "      <td>p_A</td>\n",
       "      <td>0.0</td>\n",
       "      <td>A</td>\n",
       "    </tr>\n",
       "    <tr>\n",
       "      <th>4</th>\n",
       "      <td>0.0</td>\n",
       "      <td>4.0</td>\n",
       "      <td>p_A</td>\n",
       "      <td>0.0</td>\n",
       "      <td>A</td>\n",
       "    </tr>\n",
       "  </tbody>\n",
       "</table>\n",
       "</div>"
      ],
      "text/plain": [
       "    x1   x2 s_j_given_x  prior s_j\n",
       "0  0.0  0.0         p_A    0.0   A\n",
       "1  0.0  1.0         p_A    0.0   A\n",
       "2  0.0  2.0         p_A    0.0   A\n",
       "3  0.0  3.0         p_A    0.0   A\n",
       "4  0.0  4.0         p_A    0.0   A"
      ]
     },
     "execution_count": 21,
     "metadata": {},
     "output_type": "execute_result"
    }
   ],
   "source": [
    "df_sj_given_x.head()"
   ]
  },
  {
   "cell_type": "code",
   "execution_count": 24,
   "metadata": {},
   "outputs": [],
   "source": [
    "def p_hat_di_given_sj_x():\n",
    "    \"\"\"Calculates p^(d_i | s_j, x) which is algo based.\"\"\"\n",
    "    signal_per_diseases = list(\n",
    "        product(\n",
    "            product(range(5), range(5)),\n",
    "            product(\n",
    "                [\"one\", \"two\", \"three\", \"endemic\", \"non_case\"],\n",
    "                [\"A\", \"B\", \"C\", \"endemic\", \"non_case\"],\n",
    "            ),\n",
    "        )\n",
    "    )\n",
    "    df = pd.DataFrame(\n",
    "        [tuple_[0] + tuple_[1] for tuple_ in signal_per_diseases],\n",
    "        columns=[\"x1\", \"x2\", \"d_i\", \"s_j\"],\n",
    "    )\n",
    "\n",
    "    signal_data_indeces = df.query(\n",
    "        \"~(s_j.isin(['endemic', 'non_case']) | d_i.isin(['endemic', 'non_case']))\"\n",
    "    ).index\n",
    "    df.loc[signal_data_indeces, \"posterior\"] = 1 / len(\n",
    "        set(DATA_LABELS) - set(MUST_HAVE_LABELS)\n",
    "    )\n",
    "\n",
    "    non_case_endemic_signal_indeces = df.query(\"d_i == s_j\").index\n",
    "    df.loc[non_case_endemic_signal_indeces, \"posterior\"] = 1\n",
    "    return df.fillna(0)"
   ]
  },
  {
   "cell_type": "code",
   "execution_count": 25,
   "metadata": {},
   "outputs": [
    {
     "data": {
      "text/html": [
       "<div>\n",
       "<style scoped>\n",
       "    .dataframe tbody tr th:only-of-type {\n",
       "        vertical-align: middle;\n",
       "    }\n",
       "\n",
       "    .dataframe tbody tr th {\n",
       "        vertical-align: top;\n",
       "    }\n",
       "\n",
       "    .dataframe thead th {\n",
       "        text-align: right;\n",
       "    }\n",
       "</style>\n",
       "<table border=\"1\" class=\"dataframe\">\n",
       "  <thead>\n",
       "    <tr style=\"text-align: right;\">\n",
       "      <th></th>\n",
       "      <th>x1</th>\n",
       "      <th>x2</th>\n",
       "      <th>d_i</th>\n",
       "      <th>s_j</th>\n",
       "      <th>posterior</th>\n",
       "    </tr>\n",
       "  </thead>\n",
       "  <tbody>\n",
       "    <tr>\n",
       "      <th>0</th>\n",
       "      <td>0</td>\n",
       "      <td>0</td>\n",
       "      <td>one</td>\n",
       "      <td>A</td>\n",
       "      <td>0.333333</td>\n",
       "    </tr>\n",
       "    <tr>\n",
       "      <th>1</th>\n",
       "      <td>0</td>\n",
       "      <td>0</td>\n",
       "      <td>one</td>\n",
       "      <td>B</td>\n",
       "      <td>0.333333</td>\n",
       "    </tr>\n",
       "    <tr>\n",
       "      <th>2</th>\n",
       "      <td>0</td>\n",
       "      <td>0</td>\n",
       "      <td>one</td>\n",
       "      <td>C</td>\n",
       "      <td>0.333333</td>\n",
       "    </tr>\n",
       "    <tr>\n",
       "      <th>3</th>\n",
       "      <td>0</td>\n",
       "      <td>0</td>\n",
       "      <td>one</td>\n",
       "      <td>endemic</td>\n",
       "      <td>0.000000</td>\n",
       "    </tr>\n",
       "    <tr>\n",
       "      <th>4</th>\n",
       "      <td>0</td>\n",
       "      <td>0</td>\n",
       "      <td>one</td>\n",
       "      <td>non_case</td>\n",
       "      <td>0.000000</td>\n",
       "    </tr>\n",
       "  </tbody>\n",
       "</table>\n",
       "</div>"
      ],
      "text/plain": [
       "   x1  x2  d_i       s_j  posterior\n",
       "0   0   0  one         A   0.333333\n",
       "1   0   0  one         B   0.333333\n",
       "2   0   0  one         C   0.333333\n",
       "3   0   0  one   endemic   0.000000\n",
       "4   0   0  one  non_case   0.000000"
      ]
     },
     "execution_count": 25,
     "metadata": {},
     "output_type": "execute_result"
    }
   ],
   "source": [
    "df_p_hat_di_given_sj_x = p_hat_di_given_sj_x()\n",
    "df_p_hat_di_given_sj_x.head()"
   ]
  },
  {
   "cell_type": "code",
   "execution_count": 23,
   "metadata": {},
   "outputs": [],
   "source": [
    "def create_p_hat_di(df_p_hat_di_given_sj_x, df_sj_given_x):\n",
    "    \"\"\"Calculates p^(d_i | x) = sum( p^(d_i| s_j, x) p^(s_j, x) )\"\"\"\n",
    "    p_hat_di = df_p_hat_di_given_sj_x.merge(df_sj_given_x, on=[\"x1\", \"x2\", \"s_j\"])\n",
    "    p_hat_di.loc[:, \"p^(d_i)\"] = p_hat_di[\"posterior\"] * p_hat_di[\"prior\"]\n",
    "    p_hat_di = p_hat_di.groupby([\"x1\", \"x2\", \"d_i\"]).agg({\"p^(d_i)\": sum}).reset_index()\n",
    "    return p_hat_di"
   ]
  },
  {
   "cell_type": "code",
   "execution_count": 24,
   "metadata": {},
   "outputs": [],
   "source": [
    "p_hat_di = create_p_hat_di(\n",
    "    p_hat_di_given_sj_x(),\n",
    "    p_hat_sj_given_x(\n",
    "        add_endemic_non_case_signals(signals_without_endemic_non_case, \"mean\")\n",
    "    ),\n",
    ")"
   ]
  },
  {
   "cell_type": "code",
   "execution_count": 25,
   "metadata": {},
   "outputs": [
    {
     "data": {
      "image/png": "[encoded data removed]",
      "text/plain": [
       "<Figure size 432x288 with 1 Axes>"
      ]
     },
     "metadata": {
      "needs_background": "light"
     },
     "output_type": "display_data"
    },
    {
     "data": {
      "image/png": "[encoded data removed]",
      "text/plain": [
       "<Figure size 432x288 with 1 Axes>"
      ]
     },
     "metadata": {
      "needs_background": "light"
     },
     "output_type": "display_data"
    },
    {
     "data": {
      "image/png": "[encoded data removed]",
      "text/plain": [
       "<Figure size 432x288 with 1 Axes>"
      ]
     },
     "metadata": {
      "needs_background": "light"
     },
     "output_type": "display_data"
    },
    {
     "data": {
      "image/png": "[encoded data removed]",
      "text/plain": [
       "<Figure size 432x288 with 1 Axes>"
      ]
     },
     "metadata": {
      "needs_background": "light"
     },
     "output_type": "display_data"
    },
    {
     "data": {
      "image/png": "[encoded data removed]",
      "text/plain": [
       "<Figure size 432x288 with 1 Axes>"
      ]
     },
     "metadata": {
      "needs_background": "light"
     },
     "output_type": "display_data"
    }
   ],
   "source": [
    "for datalabel in DATA_LABELS:\n",
    "    plot_heatmap(\n",
    "        p_hat_di.query(\"d_i==@datalabel\").loc[:, [\"p^(d_i)\"]].values,\n",
    "        datalabel,\n",
    "    )\n",
    "    plt.show()"
   ]
  },
  {
   "cell_type": "code",
   "execution_count": 26,
   "metadata": {},
   "outputs": [],
   "source": [
    "eval_df_min = df_di_given_x.merge(\n",
    "    create_p_hat_di(\n",
    "        p_hat_di_given_sj_x(),\n",
    "        p_hat_sj_given_x(\n",
    "            add_endemic_non_case_signals(signals_without_endemic_non_case, \"min\")\n",
    "        ),\n",
    "    ),\n",
    "    on=[\"x1\", \"x2\", \"d_i\"],\n",
    ")\n",
    "eval_df_max = df_di_given_x.merge(\n",
    "    create_p_hat_di(\n",
    "        p_hat_di_given_sj_x(),\n",
    "        p_hat_sj_given_x(\n",
    "            add_endemic_non_case_signals(signals_without_endemic_non_case, \"max\")\n",
    "        ),\n",
    "    ),\n",
    "    on=[\"x1\", \"x2\", \"d_i\"],\n",
    ")\n",
    "eval_df_mean = df_di_given_x.merge(\n",
    "    create_p_hat_di(\n",
    "        p_hat_di_given_sj_x(),\n",
    "        p_hat_sj_given_x(\n",
    "            add_endemic_non_case_signals(signals_without_endemic_non_case, \"mean\")\n",
    "        ),\n",
    "    ),\n",
    "    on=[\"x1\", \"x2\", \"d_i\"],\n",
    ")\n",
    "eval_df_median = df_di_given_x.merge(\n",
    "    create_p_hat_di(\n",
    "        p_hat_di_given_sj_x(),\n",
    "        p_hat_sj_given_x(\n",
    "            add_endemic_non_case_signals(signals_without_endemic_non_case, \"median\")\n",
    "        ),\n",
    "    ),\n",
    "    on=[\"x1\", \"x2\", \"d_i\"],\n",
    ")"
   ]
  },
  {
   "cell_type": "code",
   "execution_count": 27,
   "metadata": {},
   "outputs": [
    {
     "data": {
      "text/html": [
       "<div>\n",
       "<style scoped>\n",
       "    .dataframe tbody tr th:only-of-type {\n",
       "        vertical-align: middle;\n",
       "    }\n",
       "\n",
       "    .dataframe tbody tr th {\n",
       "        vertical-align: top;\n",
       "    }\n",
       "\n",
       "    .dataframe thead th {\n",
       "        text-align: right;\n",
       "    }\n",
       "</style>\n",
       "<table border=\"1\" class=\"dataframe\">\n",
       "  <thead>\n",
       "    <tr style=\"text-align: right;\">\n",
       "      <th></th>\n",
       "      <th>x1</th>\n",
       "      <th>x2</th>\n",
       "      <th>w_A</th>\n",
       "      <th>w_B</th>\n",
       "      <th>w_C</th>\n",
       "      <th>one</th>\n",
       "      <th>two</th>\n",
       "      <th>three</th>\n",
       "      <th>endemic</th>\n",
       "      <th>non_case</th>\n",
       "      <th>w_A_endemic</th>\n",
       "      <th>w_A_non_case</th>\n",
       "      <th>w_B_endemic</th>\n",
       "      <th>w_B_non_case</th>\n",
       "      <th>w_C_endemic</th>\n",
       "      <th>w_C_non_case</th>\n",
       "      <th>w_non_case</th>\n",
       "      <th>w_endemic</th>\n",
       "    </tr>\n",
       "  </thead>\n",
       "  <tbody>\n",
       "    <tr>\n",
       "      <th>6</th>\n",
       "      <td>1.0</td>\n",
       "      <td>1.0</td>\n",
       "      <td>1.0</td>\n",
       "      <td>0.0</td>\n",
       "      <td>0.0</td>\n",
       "      <td>1</td>\n",
       "      <td>0</td>\n",
       "      <td>0</td>\n",
       "      <td>0</td>\n",
       "      <td>0</td>\n",
       "      <td>0.0</td>\n",
       "      <td>0.0</td>\n",
       "      <td>1.0</td>\n",
       "      <td>0.0</td>\n",
       "      <td>1.0</td>\n",
       "      <td>0.0</td>\n",
       "      <td>0.0</td>\n",
       "      <td>0.666667</td>\n",
       "    </tr>\n",
       "    <tr>\n",
       "      <th>7</th>\n",
       "      <td>1.0</td>\n",
       "      <td>2.0</td>\n",
       "      <td>1.0</td>\n",
       "      <td>0.0</td>\n",
       "      <td>0.0</td>\n",
       "      <td>1</td>\n",
       "      <td>0</td>\n",
       "      <td>0</td>\n",
       "      <td>0</td>\n",
       "      <td>0</td>\n",
       "      <td>0.0</td>\n",
       "      <td>0.0</td>\n",
       "      <td>1.0</td>\n",
       "      <td>0.0</td>\n",
       "      <td>1.0</td>\n",
       "      <td>0.0</td>\n",
       "      <td>0.0</td>\n",
       "      <td>0.666667</td>\n",
       "    </tr>\n",
       "    <tr>\n",
       "      <th>12</th>\n",
       "      <td>2.0</td>\n",
       "      <td>2.0</td>\n",
       "      <td>1.0</td>\n",
       "      <td>0.5</td>\n",
       "      <td>0.0</td>\n",
       "      <td>1</td>\n",
       "      <td>0</td>\n",
       "      <td>0</td>\n",
       "      <td>0</td>\n",
       "      <td>0</td>\n",
       "      <td>0.0</td>\n",
       "      <td>0.0</td>\n",
       "      <td>0.5</td>\n",
       "      <td>0.0</td>\n",
       "      <td>1.0</td>\n",
       "      <td>0.0</td>\n",
       "      <td>0.0</td>\n",
       "      <td>0.500000</td>\n",
       "    </tr>\n",
       "  </tbody>\n",
       "</table>\n",
       "</div>"
      ],
      "text/plain": [
       "     x1   x2  w_A  w_B  w_C  one  two  three  endemic  non_case  w_A_endemic  \\\n",
       "6   1.0  1.0  1.0  0.0  0.0    1    0      0        0         0          0.0   \n",
       "7   1.0  2.0  1.0  0.0  0.0    1    0      0        0         0          0.0   \n",
       "12  2.0  2.0  1.0  0.5  0.0    1    0      0        0         0          0.0   \n",
       "\n",
       "    w_A_non_case  w_B_endemic  w_B_non_case  w_C_endemic  w_C_non_case  \\\n",
       "6            0.0          1.0           0.0          1.0           0.0   \n",
       "7            0.0          1.0           0.0          1.0           0.0   \n",
       "12           0.0          0.5           0.0          1.0           0.0   \n",
       "\n",
       "    w_non_case  w_endemic  \n",
       "6          0.0   0.666667  \n",
       "7          0.0   0.666667  \n",
       "12         0.0   0.500000  "
      ]
     },
     "execution_count": 27,
     "metadata": {},
     "output_type": "execute_result"
    }
   ],
   "source": [
    "add_endemic_non_case_signals(signals_without_endemic_non_case, \"mean\").query(\"one>0\")"
   ]
  },
  {
   "cell_type": "code",
   "execution_count": 28,
   "metadata": {},
   "outputs": [],
   "source": [
    "def KL(P, Q):\n",
    "    \"\"\"Epsilon is used here to avoid conditional code for\n",
    "    checking that neither P nor Q is equal to 0.\"\"\"\n",
    "    epsilon = 0.00001\n",
    "\n",
    "    P = P + epsilon\n",
    "    Q = Q + epsilon\n",
    "\n",
    "    divergence = np.sum(P * np.log(P / Q))\n",
    "    return divergence"
   ]
  },
  {
   "cell_type": "code",
   "execution_count": 29,
   "metadata": {},
   "outputs": [
    {
     "name": "stdout",
     "output_type": "stream",
     "text": [
      "KL\n",
      "1.4657710594873727\n",
      "1.1879392914261868\n",
      "1.1961577157646184\n",
      "1.1872399719491133\n"
     ]
    }
   ],
   "source": [
    "print(\"KL\")\n",
    "for eval_df in [eval_df_min, eval_df_mean, eval_df_max, eval_df_median]:\n",
    "    print(KL(eval_df[\"p(d_i)\"].values / 25, eval_df[\"p^(d_i)\"].values / 25))"
   ]
  },
  {
   "cell_type": "code",
   "execution_count": 30,
   "metadata": {},
   "outputs": [],
   "source": [
    "from scipy.stats import entropy, mannwhitneyu, pearsonr, wilcoxon, bra\n",
    "from sklearn import metrics"
   ]
  },
  {
   "cell_type": "code",
   "execution_count": 31,
   "metadata": {},
   "outputs": [
    {
     "name": "stdout",
     "output_type": "stream",
     "text": [
      "KL form scikitlearn\n",
      "1.8546735918556878\n",
      "1.4484083815323732\n",
      "1.4566245971432075\n",
      "1.4476992550726397\n"
     ]
    }
   ],
   "source": [
    "print(\"KL form scikitlearn\")\n",
    "for eval_df in [eval_df_min, eval_df_mean, eval_df_max, eval_df_median]:\n",
    "    print(entropy(eval_df[\"p(d_i)\"].values, eval_df[\"p^(d_i)\"].values + 0.00001))"
   ]
  },
  {
   "cell_type": "markdown",
   "metadata": {},
   "source": [
    "$$MI(U,V)=\\sum_{i=1}^{|U|} \\sum_{j=1}^{|V|} \\frac{|U_i\\cap V_j|}{N}\n",
    "    \\log\\frac{N|U_i \\cap V_j|}{|U_i||V_j|}$$"
   ]
  },
  {
   "cell_type": "code",
   "execution_count": 31,
   "metadata": {},
   "outputs": [
    {
     "name": "stdout",
     "output_type": "stream",
     "text": [
      "mutual information\n"
     ]
    },
    {
     "ename": "ValueError",
     "evalue": "Only binary classification is supported. Labels in y_true: [0.         0.33333333 0.5        0.66666667 1.        ].",
     "output_type": "error",
     "traceback": [
      "\u001b[1;31m---------------------------------------------------------------------------\u001b[0m",
      "\u001b[1;31mValueError\u001b[0m                                Traceback (most recent call last)",
      "\u001b[1;32m<ipython-input-31-7d7312d109ac>\u001b[0m in \u001b[0;36m<module>\u001b[1;34m\u001b[0m\n\u001b[0;32m      2\u001b[0m \u001b[1;32mfor\u001b[0m \u001b[0meval_df\u001b[0m \u001b[1;32min\u001b[0m \u001b[1;33m[\u001b[0m\u001b[0meval_df_min\u001b[0m\u001b[1;33m,\u001b[0m \u001b[0meval_df_mean\u001b[0m\u001b[1;33m,\u001b[0m \u001b[0meval_df_max\u001b[0m\u001b[1;33m,\u001b[0m \u001b[0meval_df_median\u001b[0m\u001b[1;33m]\u001b[0m\u001b[1;33m:\u001b[0m\u001b[1;33m\u001b[0m\u001b[1;33m\u001b[0m\u001b[0m\n\u001b[0;32m      3\u001b[0m     print(\n\u001b[1;32m----> 4\u001b[1;33m         \u001b[0mmetrics\u001b[0m\u001b[1;33m.\u001b[0m\u001b[0mbrier_score_loss\u001b[0m\u001b[1;33m(\u001b[0m\u001b[0meval_df\u001b[0m\u001b[1;33m[\u001b[0m\u001b[1;34m\"p(d_i)\"\u001b[0m\u001b[1;33m]\u001b[0m\u001b[1;33m.\u001b[0m\u001b[0mvalues\u001b[0m\u001b[1;33m,\u001b[0m \u001b[0meval_df\u001b[0m\u001b[1;33m[\u001b[0m\u001b[1;34m\"p^(d_i)\"\u001b[0m\u001b[1;33m]\u001b[0m\u001b[1;33m.\u001b[0m\u001b[0mvalues\u001b[0m\u001b[1;33m)\u001b[0m\u001b[1;33m\u001b[0m\u001b[1;33m\u001b[0m\u001b[0m\n\u001b[0m\u001b[0;32m      5\u001b[0m     )\n",
      "\u001b[1;32m~\\AppData\\Local\\Continuum\\miniconda3\\envs\\scoring\\lib\\site-packages\\sklearn\\metrics\\_classification.py\u001b[0m in \u001b[0;36mbrier_score_loss\u001b[1;34m(y_true, y_prob, sample_weight, pos_label)\u001b[0m\n\u001b[0;32m   2490\u001b[0m     \u001b[0mlabels\u001b[0m \u001b[1;33m=\u001b[0m \u001b[0mnp\u001b[0m\u001b[1;33m.\u001b[0m\u001b[0munique\u001b[0m\u001b[1;33m(\u001b[0m\u001b[0my_true\u001b[0m\u001b[1;33m)\u001b[0m\u001b[1;33m\u001b[0m\u001b[1;33m\u001b[0m\u001b[0m\n\u001b[0;32m   2491\u001b[0m     \u001b[1;32mif\u001b[0m \u001b[0mlen\u001b[0m\u001b[1;33m(\u001b[0m\u001b[0mlabels\u001b[0m\u001b[1;33m)\u001b[0m \u001b[1;33m>\u001b[0m \u001b[1;36m2\u001b[0m\u001b[1;33m:\u001b[0m\u001b[1;33m\u001b[0m\u001b[1;33m\u001b[0m\u001b[0m\n\u001b[1;32m-> 2492\u001b[1;33m         raise ValueError(\"Only binary classification is supported. \"\n\u001b[0m\u001b[0;32m   2493\u001b[0m                          \"Labels in y_true: %s.\" % labels)\n\u001b[0;32m   2494\u001b[0m     \u001b[1;32mif\u001b[0m \u001b[0my_prob\u001b[0m\u001b[1;33m.\u001b[0m\u001b[0mmax\u001b[0m\u001b[1;33m(\u001b[0m\u001b[1;33m)\u001b[0m \u001b[1;33m>\u001b[0m \u001b[1;36m1\u001b[0m\u001b[1;33m:\u001b[0m\u001b[1;33m\u001b[0m\u001b[1;33m\u001b[0m\u001b[0m\n",
      "\u001b[1;31mValueError\u001b[0m: Only binary classification is supported. Labels in y_true: [0.         0.33333333 0.5        0.66666667 1.        ]."
     ]
    }
   ],
   "source": [
    "print(\"brier\")\n",
    "for eval_df in [eval_df_min, eval_df_mean, eval_df_max, eval_df_median]:\n",
    "    print(\n",
    "        metrics.brier_score_loss(eval_df[\"p(d_i)\"].values, eval_df[\"p^(d_i)\"].values)\n",
    "    )"
   ]
  },
  {
   "cell_type": "code",
   "execution_count": 32,
   "metadata": {},
   "outputs": [
    {
     "name": "stdout",
     "output_type": "stream",
     "text": [
      "mutual information\n",
      "0.29634980972036773\n",
      "0.3025208486903207\n",
      "0.305239233279047\n",
      "0.3025208486903207\n"
     ]
    }
   ],
   "source": [
    "print(\"mutual information\")\n",
    "for eval_df in [eval_df_min, eval_df_mean, eval_df_max, eval_df_median]:\n",
    "    print(\n",
    "        metrics.mutual_info_score(eval_df[\"p(d_i)\"].values, eval_df[\"p^(d_i)\"].values)\n",
    "    )"
   ]
  },
  {
   "cell_type": "code",
   "execution_count": 33,
   "metadata": {},
   "outputs": [
    {
     "name": "stdout",
     "output_type": "stream",
     "text": [
      "regression score\n",
      "0.3965014577259477\n",
      "0.45069970845481055\n",
      "0.4436151603498544\n",
      "0.4504373177842568\n"
     ]
    }
   ],
   "source": [
    "print(\"regression score\")\n",
    "for eval_df in [eval_df_min, eval_df_mean, eval_df_max, eval_df_median]:\n",
    "    print(metrics.r2_score(eval_df[\"p(d_i)\"].values, eval_df[\"p^(d_i)\"].values))"
   ]
  },
  {
   "cell_type": "code",
   "execution_count": 34,
   "metadata": {},
   "outputs": [
    {
     "name": "stdout",
     "output_type": "stream",
     "text": [
      "RMSE\n",
      "0.30331501776206204\n",
      "0.2893748050155331\n",
      "0.2912349185413346\n",
      "0.28944391128123215\n"
     ]
    }
   ],
   "source": [
    "print(\"RMSE\")\n",
    "for eval_df in [eval_df_min, eval_df_mean, eval_df_max, eval_df_median]:\n",
    "    print(np.sqrt(np.mean((eval_df[\"p(d_i)\"].values - eval_df[\"p^(d_i)\"].values) ** 2)))"
   ]
  },
  {
   "cell_type": "code",
   "execution_count": 35,
   "metadata": {},
   "outputs": [
    {
     "name": "stdout",
     "output_type": "stream",
     "text": [
      "MSE\n",
      "0.092\n",
      "0.0837377777777778\n",
      "0.08481777777777778\n",
      "0.08377777777777777\n"
     ]
    }
   ],
   "source": [
    "print(\"MSE\")\n",
    "for eval_df in [eval_df_min, eval_df_mean, eval_df_max, eval_df_median]:\n",
    "    print(np.mean((eval_df[\"p(d_i)\"].values - eval_df[\"p^(d_i)\"].values) ** 2))"
   ]
  },
  {
   "cell_type": "code",
   "execution_count": 36,
   "metadata": {},
   "outputs": [
    {
     "name": "stdout",
     "output_type": "stream",
     "text": [
      "Correlation\n",
      "(0.6358779630814554, 1.6222647280089715e-15)\n",
      "(0.6755581314500057, 5.5350859638944124e-18)\n",
      "(0.6736278112039635, 7.446922491779509e-18)\n",
      "(0.6779063983989227, 3.846395311135755e-18)\n"
     ]
    }
   ],
   "source": [
    "print(\"Correlation\")\n",
    "for eval_df in [eval_df_min, eval_df_mean, eval_df_max, eval_df_median]:\n",
    "    print(pearsonr(eval_df[\"p(d_i)\"].values, eval_df[\"p^(d_i)\"].values))"
   ]
  },
  {
   "cell_type": "code",
   "execution_count": 37,
   "metadata": {},
   "outputs": [
    {
     "name": "stdout",
     "output_type": "stream",
     "text": [
      "Signed-Wilcoxon\n",
      "WilcoxonResult(statistic=887.5, pvalue=0.8375532487088458)\n",
      "WilcoxonResult(statistic=923.0, pvalue=0.4292977279173873)\n",
      "WilcoxonResult(statistic=911.5, pvalue=0.3854536425103928)\n",
      "WilcoxonResult(statistic=921.5, pvalue=0.4235032323049215)\n"
     ]
    }
   ],
   "source": [
    "print(\"Signed-Wilcoxon\")\n",
    "for eval_df in [eval_df_min, eval_df_mean, eval_df_max, eval_df_median]:\n",
    "    print(\n",
    "        wilcoxon(\n",
    "            eval_df[\"p(d_i)\"].values, eval_df[\"p^(d_i)\"].values, alternative=\"two-sided\"\n",
    "        )\n",
    "    )"
   ]
  },
  {
   "cell_type": "code",
   "execution_count": 38,
   "metadata": {},
   "outputs": [
    {
     "name": "stdout",
     "output_type": "stream",
     "text": [
      "U-test\n",
      "MannwhitneyuResult(statistic=6132.5, pvalue=0.0006548121605249147)\n",
      "MannwhitneyuResult(statistic=5881.0, pvalue=0.00011438066880481344)\n",
      "MannwhitneyuResult(statistic=5871.0, pvalue=0.0001053546870482734)\n",
      "MannwhitneyuResult(statistic=5872.0, pvalue=0.00010622047397102864)\n"
     ]
    }
   ],
   "source": [
    "print(\"U-test\")\n",
    "for eval_df in [eval_df_min, eval_df_mean, eval_df_max, eval_df_median]:\n",
    "    print(\n",
    "        mannwhitneyu(\n",
    "            eval_df[\"p(d_i)\"].values, eval_df[\"p^(d_i)\"].values, alternative=\"two-sided\"\n",
    "        )\n",
    "    )"
   ]
  },
  {
   "cell_type": "code",
   "execution_count": 39,
   "metadata": {},
   "outputs": [
    {
     "data": {
      "text/plain": [
       "array([0.82664884, 0.86034414, 0.94181818, 0.8502652 , 0.94809095])"
      ]
     },
     "execution_count": 39,
     "metadata": {},
     "output_type": "execute_result"
    }
   ],
   "source": [
    "from sklearn.linear_model import LogisticRegression\n",
    "from sklearn.metrics import roc_auc_score\n",
    "from sklearn.datasets import make_multilabel_classification\n",
    "from sklearn.multioutput import MultiOutputClassifier\n",
    "\n",
    "X, y = make_multilabel_classification(random_state=0)\n",
    "inner_clf = LogisticRegression(solver=\"liblinear\", random_state=0)\n",
    "clf = MultiOutputClassifier(inner_clf).fit(X, y)\n",
    "y_score = np.transpose([y_pred[:, 1] for y_pred in clf.predict_proba(X)])\n",
    "roc_auc_score(y, y_score, average=None)"
   ]
  },
  {
   "cell_type": "markdown",
   "metadata": {},
   "source": [
    "### Confusion Matrix"
   ]
  },
  {
   "cell_type": "code",
   "execution_count": 40,
   "metadata": {},
   "outputs": [],
   "source": [
    "eval_df_mean.loc[:, \"true\"] = np.where(\n",
    "    eval_df_mean.loc[:, \"p(d_i)\"] >= len(MUST_HAVE_LABELS), 1, 0\n",
    ")\n",
    "eval_df_mean.loc[:, \"pred\"] = np.where(\n",
    "    eval_df_mean.loc[:, \"p^(d_i)\"] >= 1 / len(DATA_LABELS), 1, 0\n",
    ")\n",
    "pivot_eval = eval_df_mean.pivot(\n",
    "    index=[\"x1\", \"x2\"], columns=\"d_i\", values=[\"true\", \"pred\"]\n",
    ")"
   ]
  },
  {
   "cell_type": "code",
   "execution_count": 41,
   "metadata": {},
   "outputs": [
    {
     "data": {
      "text/plain": [
       "[('one', 'one'),\n",
       " ('one', 'two'),\n",
       " ('one', 'three'),\n",
       " ('one', 'endemic'),\n",
       " ('one', 'non_case'),\n",
       " ('two', 'one'),\n",
       " ('two', 'two'),\n",
       " ('two', 'three'),\n",
       " ('two', 'endemic'),\n",
       " ('two', 'non_case'),\n",
       " ('three', 'one'),\n",
       " ('three', 'two'),\n",
       " ('three', 'three'),\n",
       " ('three', 'endemic'),\n",
       " ('three', 'non_case'),\n",
       " ('endemic', 'one'),\n",
       " ('endemic', 'two'),\n",
       " ('endemic', 'three'),\n",
       " ('endemic', 'endemic'),\n",
       " ('endemic', 'non_case'),\n",
       " ('non_case', 'one'),\n",
       " ('non_case', 'two'),\n",
       " ('non_case', 'three'),\n",
       " ('non_case', 'endemic'),\n",
       " ('non_case', 'non_case')]"
      ]
     },
     "execution_count": 41,
     "metadata": {},
     "output_type": "execute_result"
    }
   ],
   "source": [
    "list(product(eval_df_mean.d_i.unique(), eval_df_mean.d_i.unique()))"
   ]
  },
  {
   "cell_type": "code",
   "execution_count": 42,
   "metadata": {},
   "outputs": [],
   "source": [
    "pivot_eval_r = eval_df_mean.pivot(\n",
    "    index=[\"x1\", \"x2\"], columns=\"d_i\", values=[\"p(d_i)\", \"p^(d_i)\"]\n",
    ")"
   ]
  },
  {
   "cell_type": "code",
   "execution_count": 43,
   "metadata": {},
   "outputs": [],
   "source": [
    "rel_cm = (\n",
    "    pivot_eval_r.loc[:, \"p(d_i)\"]\n",
    "    .reset_index()\n",
    "    .melt(id_vars=[\"x1\", \"x2\"], value_name=\"p(d_i)\")\n",
    "    .merge(pivot_eval_r.loc[:, \"p^(d_i)\"].reset_index(), on=[\"x1\", \"x2\"], how=\"left\")\n",
    "    .assign(\n",
    "        endemic=lambda x: x[\"p(d_i)\"] * x[\"endemic\"],\n",
    "        non_case=lambda x: x[\"p(d_i)\"] * x[\"non_case\"],\n",
    "        one=lambda x: x[\"p(d_i)\"] * x[\"one\"],\n",
    "        two=lambda x: x[\"p(d_i)\"] * x[\"two\"],\n",
    "        three=lambda x: x[\"p(d_i)\"] * x[\"three\"],\n",
    "    )\n",
    "    .groupby(\"d_i\")\n",
    "    .agg(dict(zip([\"endemic\", \"non_case\", \"one\", \"three\", \"two\"], [\"sum\"] * 5)))\n",
    ")"
   ]
  },
  {
   "cell_type": "code",
   "execution_count": 44,
   "metadata": {},
   "outputs": [
    {
     "data": {
      "text/html": [
       "<div>\n",
       "<style scoped>\n",
       "    .dataframe tbody tr th:only-of-type {\n",
       "        vertical-align: middle;\n",
       "    }\n",
       "\n",
       "    .dataframe tbody tr th {\n",
       "        vertical-align: top;\n",
       "    }\n",
       "\n",
       "    .dataframe thead th {\n",
       "        text-align: right;\n",
       "    }\n",
       "</style>\n",
       "<table border=\"1\" class=\"dataframe\">\n",
       "  <thead>\n",
       "    <tr style=\"text-align: right;\">\n",
       "      <th></th>\n",
       "      <th>endemic</th>\n",
       "      <th>non_case</th>\n",
       "      <th>one</th>\n",
       "      <th>three</th>\n",
       "      <th>two</th>\n",
       "    </tr>\n",
       "    <tr>\n",
       "      <th>d_i</th>\n",
       "      <th></th>\n",
       "      <th></th>\n",
       "      <th></th>\n",
       "      <th></th>\n",
       "      <th></th>\n",
       "    </tr>\n",
       "  </thead>\n",
       "  <tbody>\n",
       "    <tr>\n",
       "      <th>endemic</th>\n",
       "      <td>3.483333</td>\n",
       "      <td>0.000</td>\n",
       "      <td>0.616667</td>\n",
       "      <td>0.616667</td>\n",
       "      <td>0.616667</td>\n",
       "    </tr>\n",
       "    <tr>\n",
       "      <th>non_case</th>\n",
       "      <td>0.000000</td>\n",
       "      <td>10.125</td>\n",
       "      <td>0.625000</td>\n",
       "      <td>0.625000</td>\n",
       "      <td>0.625000</td>\n",
       "    </tr>\n",
       "    <tr>\n",
       "      <th>one</th>\n",
       "      <td>1.050000</td>\n",
       "      <td>0.000</td>\n",
       "      <td>0.650000</td>\n",
       "      <td>0.650000</td>\n",
       "      <td>0.650000</td>\n",
       "    </tr>\n",
       "    <tr>\n",
       "      <th>three</th>\n",
       "      <td>0.729167</td>\n",
       "      <td>0.000</td>\n",
       "      <td>0.145833</td>\n",
       "      <td>0.145833</td>\n",
       "      <td>0.145833</td>\n",
       "    </tr>\n",
       "    <tr>\n",
       "      <th>two</th>\n",
       "      <td>2.712500</td>\n",
       "      <td>0.000</td>\n",
       "      <td>0.262500</td>\n",
       "      <td>0.262500</td>\n",
       "      <td>0.262500</td>\n",
       "    </tr>\n",
       "  </tbody>\n",
       "</table>\n",
       "</div>"
      ],
      "text/plain": [
       "           endemic  non_case       one     three       two\n",
       "d_i                                                       \n",
       "endemic   3.483333     0.000  0.616667  0.616667  0.616667\n",
       "non_case  0.000000    10.125  0.625000  0.625000  0.625000\n",
       "one       1.050000     0.000  0.650000  0.650000  0.650000\n",
       "three     0.729167     0.000  0.145833  0.145833  0.145833\n",
       "two       2.712500     0.000  0.262500  0.262500  0.262500"
      ]
     },
     "execution_count": 44,
     "metadata": {},
     "output_type": "execute_result"
    }
   ],
   "source": [
    "rel_cm"
   ]
  },
  {
   "cell_type": "code",
   "execution_count": 45,
   "metadata": {},
   "outputs": [
    {
     "data": {
      "text/plain": [
       "20.349999999999998"
      ]
     },
     "execution_count": 45,
     "metadata": {},
     "output_type": "execute_result"
    }
   ],
   "source": [
    "rel_cm.loc[\n",
    "    [c for c in rel_cm.columns if c != \"one\"], [c for c in rel_cm.columns if c != \"one\"]\n",
    "].sum().sum()"
   ]
  },
  {
   "cell_type": "code",
   "execution_count": 46,
   "metadata": {},
   "outputs": [
    {
     "data": {
      "text/html": [
       "<div>\n",
       "<style scoped>\n",
       "    .dataframe tbody tr th:only-of-type {\n",
       "        vertical-align: middle;\n",
       "    }\n",
       "\n",
       "    .dataframe tbody tr th {\n",
       "        vertical-align: top;\n",
       "    }\n",
       "\n",
       "    .dataframe thead th {\n",
       "        text-align: right;\n",
       "    }\n",
       "</style>\n",
       "<table border=\"1\" class=\"dataframe\">\n",
       "  <thead>\n",
       "    <tr style=\"text-align: right;\">\n",
       "      <th></th>\n",
       "      <th>true_pred</th>\n",
       "      <th>false_pred</th>\n",
       "    </tr>\n",
       "  </thead>\n",
       "  <tbody>\n",
       "    <tr>\n",
       "      <th>true_groundtruth</th>\n",
       "      <td>0.65</td>\n",
       "      <td>2.35</td>\n",
       "    </tr>\n",
       "    <tr>\n",
       "      <th>false_groundtruth</th>\n",
       "      <td>1.65</td>\n",
       "      <td>20.35</td>\n",
       "    </tr>\n",
       "  </tbody>\n",
       "</table>\n",
       "</div>"
      ],
      "text/plain": [
       "                   true_pred  false_pred\n",
       "true_groundtruth        0.65        2.35\n",
       "false_groundtruth       1.65       20.35"
      ]
     },
     "execution_count": 46,
     "metadata": {},
     "output_type": "execute_result"
    }
   ],
   "source": [
    "pd.DataFrame(\n",
    "    {\n",
    "        \"true_pred\": [\n",
    "            rel_cm.loc[\"one\", \"one\"],\n",
    "            rel_cm.loc[[c for c in rel_cm.columns if c != \"one\"], \"one\"].sum(),\n",
    "        ],\n",
    "        \"false_pred\": [\n",
    "            rel_cm.loc[\"one\", [c for c in rel_cm.columns if c != \"one\"]].sum(),\n",
    "            rel_cm.loc[\n",
    "                [c for c in rel_cm.columns if c != \"one\"],\n",
    "                [c for c in rel_cm.columns if c != \"one\"],\n",
    "            ]\n",
    "            .sum()\n",
    "            .sum(),\n",
    "        ],\n",
    "    },\n",
    "    index=[\"true_groundtruth\", \"false_groundtruth\"],\n",
    ")"
   ]
  },
  {
   "cell_type": "code",
   "execution_count": 47,
   "metadata": {},
   "outputs": [
    {
     "data": {
      "image/png": "[encoded data removed]",
      "text/plain": [
       "<Figure size 720x504 with 2 Axes>"
      ]
     },
     "metadata": {
      "needs_background": "light"
     },
     "output_type": "display_data"
    },
    {
     "data": {
      "image/png": "[encoded data removed]",
      "text/plain": [
       "<Figure size 720x504 with 2 Axes>"
      ]
     },
     "metadata": {
      "needs_background": "light"
     },
     "output_type": "display_data"
    },
    {
     "data": {
      "image/png": "[encoded data removed]",
      "text/plain": [
       "<Figure size 720x504 with 2 Axes>"
      ]
     },
     "metadata": {
      "needs_background": "light"
     },
     "output_type": "display_data"
    },
    {
     "data": {
      "image/png": "[encoded data removed]",
      "text/plain": [
       "<Figure size 720x504 with 2 Axes>"
      ]
     },
     "metadata": {
      "needs_background": "light"
     },
     "output_type": "display_data"
    },
    {
     "data": {
      "image/png": "[encoded data removed]",
      "text/plain": [
       "<Figure size 720x504 with 2 Axes>"
      ]
     },
     "metadata": {
      "needs_background": "light"
     },
     "output_type": "display_data"
    }
   ],
   "source": [
    "import seaborn as sn\n",
    "import pandas as pd\n",
    "import matplotlib.pyplot as plt\n",
    "from sklearn.metrics import classification_report, multilabel_confusion_matrix\n",
    "\n",
    "cm = multilabel_confusion_matrix(\n",
    "    pivot_eval.loc[:, \"true\"].values, pivot_eval.loc[:, \"pred\"].values\n",
    ")\n",
    "for i, label in enumerate([\"endemic\", \"non_case\", \"one\", \"two\", \"three\"]):\n",
    "    df_cm = pd.DataFrame(cm[i], index=[\"0\", \"1\"], columns=[\"0\", \"1\"])\n",
    "    plt.figure(figsize=(10, 7))\n",
    "    sn.heatmap(df_cm, annot=True).set(title=label, ylabel=\"True\", xlabel=\"Predicted\")"
   ]
  },
  {
   "cell_type": "code",
   "execution_count": 48,
   "metadata": {},
   "outputs": [
    {
     "name": "stdout",
     "output_type": "stream",
     "text": [
      "endemic\n",
      "              precision    recall  f1-score   support\n",
      "\n",
      "           0       1.00      0.48      0.65        25\n",
      "           1       0.00      0.00      0.00         0\n",
      "\n",
      "    accuracy                           0.48        25\n",
      "   macro avg       0.50      0.24      0.32        25\n",
      "weighted avg       1.00      0.48      0.65        25\n",
      "\n",
      "******\n",
      "\n",
      "\n",
      "\n",
      "non_case\n",
      "              precision    recall  f1-score   support\n",
      "\n",
      "           0       1.00      0.52      0.68        25\n",
      "           1       0.00      0.00      0.00         0\n",
      "\n",
      "    accuracy                           0.52        25\n",
      "   macro avg       0.50      0.26      0.34        25\n",
      "weighted avg       1.00      0.52      0.68        25\n",
      "\n",
      "******\n",
      "\n",
      "\n",
      "\n",
      "one\n",
      "              precision    recall  f1-score   support\n",
      "\n",
      "           0       1.00      0.80      0.89        25\n",
      "           1       0.00      0.00      0.00         0\n",
      "\n",
      "    accuracy                           0.80        25\n",
      "   macro avg       0.50      0.40      0.44        25\n",
      "weighted avg       1.00      0.80      0.89        25\n",
      "\n",
      "******\n",
      "\n",
      "\n",
      "\n",
      "two\n",
      "              precision    recall  f1-score   support\n",
      "\n",
      "           0       1.00      0.80      0.89        25\n",
      "           1       0.00      0.00      0.00         0\n",
      "\n",
      "    accuracy                           0.80        25\n",
      "   macro avg       0.50      0.40      0.44        25\n",
      "weighted avg       1.00      0.80      0.89        25\n",
      "\n",
      "******\n",
      "\n",
      "\n",
      "\n",
      "three\n",
      "              precision    recall  f1-score   support\n",
      "\n",
      "           0       1.00      0.80      0.89        25\n",
      "           1       0.00      0.00      0.00         0\n",
      "\n",
      "    accuracy                           0.80        25\n",
      "   macro avg       0.50      0.40      0.44        25\n",
      "weighted avg       1.00      0.80      0.89        25\n",
      "\n",
      "******\n",
      "\n",
      "\n",
      "\n"
     ]
    },
    {
     "name": "stderr",
     "output_type": "stream",
     "text": [
      "C:\\Users\\AbboodA\\AppData\\Local\\Continuum\\miniconda3\\envs\\scoring\\lib\\site-packages\\sklearn\\metrics\\_classification.py:1272: UndefinedMetricWarning: Recall and F-score are ill-defined and being set to 0.0 in labels with no true samples. Use `zero_division` parameter to control this behavior.\n",
      "  _warn_prf(average, modifier, msg_start, len(result))\n"
     ]
    }
   ],
   "source": [
    "for label in [\"endemic\", \"non_case\", \"one\", \"two\", \"three\"]:\n",
    "    print(label)\n",
    "    print(\n",
    "        classification_report(\n",
    "            pivot_eval.loc[:, (\"true\", label)].values,\n",
    "            pivot_eval.loc[:, (\"pred\", label)].values,\n",
    "        )\n",
    "    )\n",
    "    print(\"******\\n\\n\\n\")"
   ]
  },
  {
   "cell_type": "code",
   "execution_count": 49,
   "metadata": {},
   "outputs": [
    {
     "name": "stdout",
     "output_type": "stream",
     "text": [
      "endemic\n",
      "true_positive     4.33333\n",
      "true_negative          16\n",
      "false_positive    3.66667\n",
      "false_negative          1\n",
      "dtype: object\n",
      "\n",
      "\n",
      "non_case\n",
      "true_positive     12\n",
      "true_negative     13\n",
      "false_positive     0\n",
      "false_negative     0\n",
      "dtype: object\n",
      "\n",
      "\n",
      "one\n",
      "true_positive      0\n",
      "true_negative     22\n",
      "false_positive     0\n",
      "false_negative     3\n",
      "dtype: object\n",
      "\n",
      "\n",
      "two\n",
      "true_positive        0\n",
      "true_negative     21.5\n",
      "false_positive       0\n",
      "false_negative     3.5\n",
      "dtype: object\n",
      "\n",
      "\n",
      "three\n",
      "true_positive           0\n",
      "true_negative     23.8333\n",
      "false_positive          0\n",
      "false_negative    1.16667\n",
      "dtype: object\n",
      "\n",
      "\n"
     ]
    }
   ],
   "source": [
    "for label in [\"endemic\", \"non_case\", \"one\", \"two\", \"three\"]:\n",
    "    eval_df_mean.loc[:, \"true\"] = eval_df_mean.loc[:, \"p(d_i)\"]\n",
    "    eval_df_mean.loc[:, \"pred_true\"] = np.where(\n",
    "        eval_df_mean.loc[:, \"p^(d_i)\"] > 0.5, 1, 0\n",
    "    )\n",
    "    pivot_eval = eval_df_mean.pivot(\n",
    "        index=[\"x1\", \"x2\"], columns=\"d_i\", values=[\"true\", \"pred_true\"]\n",
    "    )\n",
    "    print(label)\n",
    "    print(\n",
    "        eval_df_mean.query(f\"d_i=='{label}'\")\n",
    "        .assign(false=lambda x: 1 - x[\"true\"])\n",
    "        .assign(pred_false=lambda x: 1 - x[\"pred_true\"])\n",
    "        .drop(columns=\"pred\")\n",
    "        .assign(\n",
    "            true_positive=lambda x: x[\"true\"] * x[\"pred_true\"],\n",
    "            true_negative=lambda x: x[\"false\"] * x[\"pred_false\"],\n",
    "            false_positive=lambda x: x[\"false\"] * x[\"pred_true\"],\n",
    "            false_negative=lambda x: x[\"true\"] * x[\"pred_false\"],\n",
    "        )\n",
    "        .sum()\n",
    "        .iloc[-4:]\n",
    "    )\n",
    "    print(\"\\n\")"
   ]
  },
  {
   "cell_type": "markdown",
   "metadata": {},
   "source": [
    "### How to score when algo is a classifier\n",
    "- We look into data distribution and set a cut-off based on data distribution. We assume that the non-outbreak numbers are highest around 0. This peak will flatten when we move away from 0. There we set a cut-off when the next peak is about to start (probably a outbreak cluster)\n",
    "- Discretize p(d_i) into bins and predict vector of bins\n",
    "- p(d_i) \\element of {0,1} -> confusion matrix"
   ]
  },
  {
   "cell_type": "markdown",
   "metadata": {},
   "source": [
    "R = [0,1]\n",
    "\n",
    "B = {0,1}\n",
    "- p \\element R AND p^ \\element R -> like the lower, when threshold for p^ is set to e.g., 0.5\n",
    "- p \\element R AND p^ \\element B ->\n",
    "- p \\element B AND p^ \\element R -> easy/known/ROC/AUC\n",
    "- p \\element B AND p^ \\element B -> easy\n",
    "\n",
    "### References\n",
    "- KL, Entropy, MI (Wie macht es inhatlich Sinn die Entropie zu berechnen, gegeben den verschiedenen Zellen und DataLabels)\n",
    "    - Referenz: https://arxiv.org/pdf/1802.03446.pdf\n",
    "    - Referenz: https://www.sciencedirect.com/science/article/pii/S107731420700077X (pixel-based classifications)\n",
    "    - Referenz: https://iopscience.iop.org/article/10.1088/1755-1315/47/1/012042/pdf (pixel-based classifications)\n",
    "    - Likelihood methoden anschauen\n",
    "    - https://en.wikipedia.org/wiki/Kernel_embedding_of_distributions"
   ]
  },
  {
   "cell_type": "markdown",
   "metadata": {},
   "source": [
    "## TODO:    \n",
    "- Classifikations-Fall (Wie komme ich von einem kontinuierlichen Wert der Daten auf einen binären\n",
    "    - simplere Beispiele (ein perfektes, ein komplett missklassifiziertes, ein 50/50 Beispiel)\n",
    "## Backlog:\n",
    "- z-score-based binning (https://core.ac.uk/download/pdf/82692314.pdf)\n",
    "    - in general quantiles\n",
    "- attribute cell to data with highest probability"
   ]
  },
  {
   "cell_type": "code",
   "execution_count": null,
   "metadata": {},
   "outputs": [],
   "source": []
  }
 ],
 "metadata": {
  "kernelspec": {
   "display_name": "Python 3",
   "language": "python",
   "name": "python3"
  },
  "language_info": {
   "codemirror_mode": {
    "name": "ipython",
    "version": 3
   },
   "file_extension": ".py",
   "mimetype": "text/x-python",
   "name": "python",
   "nbconvert_exporter": "python",
   "pygments_lexer": "ipython3",
   "version": "3.8.5"
  }
 },
 "nbformat": 4,
 "nbformat_minor": 4
}
