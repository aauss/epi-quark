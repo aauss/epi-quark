{
 "cells": [
  {
   "cell_type": "code",
   "execution_count": 1,
   "metadata": {},
   "outputs": [],
   "source": [
    "import pandas as pd\n",
    "import numpy as np\n",
    "import matplotlib.pyplot as plt\n",
    "from matplotlib.patches import Rectangle\n",
    "import seaborn as sns\n",
    "from itertools import product\n",
    "from functools import reduce"
   ]
  },
  {
   "cell_type": "code",
   "execution_count": 2,
   "metadata": {},
   "outputs": [],
   "source": [
    "# define labels\n",
    "MUST_HAVE_LABELS = ('endemic', 'non_case')\n",
    "DATA_LABELS = ('one', 'two', 'three') + MUST_HAVE_LABELS"
   ]
  },
  {
   "cell_type": "code",
   "execution_count": 3,
   "metadata": {},
   "outputs": [],
   "source": [
    "# define coordinate system\n",
    "df = pd.concat([pd.DataFrame(columns=[\"x1\", \"x2\"], data=product(range(5), range(5))), \n",
    "     pd.DataFrame(columns=DATA_LABELS)])"
   ]
  },
  {
   "cell_type": "code",
   "execution_count": 4,
   "metadata": {},
   "outputs": [
    {
     "data": {
      "text/html": [
       "<div>\n",
       "<style scoped>\n",
       "    .dataframe tbody tr th:only-of-type {\n",
       "        vertical-align: middle;\n",
       "    }\n",
       "\n",
       "    .dataframe tbody tr th {\n",
       "        vertical-align: top;\n",
       "    }\n",
       "\n",
       "    .dataframe thead th {\n",
       "        text-align: right;\n",
       "    }\n",
       "</style>\n",
       "<table border=\"1\" class=\"dataframe\">\n",
       "  <thead>\n",
       "    <tr style=\"text-align: right;\">\n",
       "      <th></th>\n",
       "      <th>x1</th>\n",
       "      <th>x2</th>\n",
       "      <th>one</th>\n",
       "      <th>two</th>\n",
       "      <th>three</th>\n",
       "      <th>endemic</th>\n",
       "      <th>non_case</th>\n",
       "    </tr>\n",
       "  </thead>\n",
       "  <tbody>\n",
       "    <tr>\n",
       "      <th>0</th>\n",
       "      <td>0.0</td>\n",
       "      <td>0.0</td>\n",
       "      <td>NaN</td>\n",
       "      <td>NaN</td>\n",
       "      <td>NaN</td>\n",
       "      <td>NaN</td>\n",
       "      <td>NaN</td>\n",
       "    </tr>\n",
       "    <tr>\n",
       "      <th>1</th>\n",
       "      <td>0.0</td>\n",
       "      <td>1.0</td>\n",
       "      <td>NaN</td>\n",
       "      <td>NaN</td>\n",
       "      <td>NaN</td>\n",
       "      <td>NaN</td>\n",
       "      <td>NaN</td>\n",
       "    </tr>\n",
       "    <tr>\n",
       "      <th>2</th>\n",
       "      <td>0.0</td>\n",
       "      <td>2.0</td>\n",
       "      <td>NaN</td>\n",
       "      <td>NaN</td>\n",
       "      <td>NaN</td>\n",
       "      <td>NaN</td>\n",
       "      <td>NaN</td>\n",
       "    </tr>\n",
       "    <tr>\n",
       "      <th>3</th>\n",
       "      <td>0.0</td>\n",
       "      <td>3.0</td>\n",
       "      <td>NaN</td>\n",
       "      <td>NaN</td>\n",
       "      <td>NaN</td>\n",
       "      <td>NaN</td>\n",
       "      <td>NaN</td>\n",
       "    </tr>\n",
       "    <tr>\n",
       "      <th>4</th>\n",
       "      <td>0.0</td>\n",
       "      <td>4.0</td>\n",
       "      <td>NaN</td>\n",
       "      <td>NaN</td>\n",
       "      <td>NaN</td>\n",
       "      <td>NaN</td>\n",
       "      <td>NaN</td>\n",
       "    </tr>\n",
       "  </tbody>\n",
       "</table>\n",
       "</div>"
      ],
      "text/plain": [
       "    x1   x2  one  two three endemic non_case\n",
       "0  0.0  0.0  NaN  NaN   NaN     NaN      NaN\n",
       "1  0.0  1.0  NaN  NaN   NaN     NaN      NaN\n",
       "2  0.0  2.0  NaN  NaN   NaN     NaN      NaN\n",
       "3  0.0  3.0  NaN  NaN   NaN     NaN      NaN\n",
       "4  0.0  4.0  NaN  NaN   NaN     NaN      NaN"
      ]
     },
     "execution_count": 4,
     "metadata": {},
     "output_type": "execute_result"
    }
   ],
   "source": [
    "df.head()"
   ]
  },
  {
   "cell_type": "code",
   "execution_count": 5,
   "metadata": {},
   "outputs": [],
   "source": [
    "# read in data\n",
    "one = [0] * 5 + [0, 1, 1, 0, 0] + [0, 0, 1, 0, 0] + [0] * 10\n",
    "two = [0, 0, 1, 1, 1,] + [0] * 10 + [0, 0, 0, 1, 0] + [0] * 5\n",
    "three = [0] * 15 + [0, 0, 0, 1, 2] + [0] * 5\n",
    "endemic = (\n",
    "    [0] * 5 + [1, 0, 0, 0, 0] + [0, 1, 0, 0, 0] + [4, 0, 0, 0, 1] + [2, 0, 0, 0, 1]\n",
    ")\n",
    "\n",
    "df_structured_data = df.assign(one=one, two=two, three=three, endemic=endemic)"
   ]
  },
  {
   "cell_type": "code",
   "execution_count": 6,
   "metadata": {},
   "outputs": [
    {
     "data": {
      "text/html": [
       "<div>\n",
       "<style scoped>\n",
       "    .dataframe tbody tr th:only-of-type {\n",
       "        vertical-align: middle;\n",
       "    }\n",
       "\n",
       "    .dataframe tbody tr th {\n",
       "        vertical-align: top;\n",
       "    }\n",
       "\n",
       "    .dataframe thead th {\n",
       "        text-align: right;\n",
       "    }\n",
       "</style>\n",
       "<table border=\"1\" class=\"dataframe\">\n",
       "  <thead>\n",
       "    <tr style=\"text-align: right;\">\n",
       "      <th></th>\n",
       "      <th>x1</th>\n",
       "      <th>x2</th>\n",
       "      <th>one</th>\n",
       "      <th>two</th>\n",
       "      <th>three</th>\n",
       "      <th>endemic</th>\n",
       "      <th>non_case</th>\n",
       "    </tr>\n",
       "  </thead>\n",
       "  <tbody>\n",
       "    <tr>\n",
       "      <th>0</th>\n",
       "      <td>0.0</td>\n",
       "      <td>0.0</td>\n",
       "      <td>0</td>\n",
       "      <td>0</td>\n",
       "      <td>0</td>\n",
       "      <td>0</td>\n",
       "      <td>NaN</td>\n",
       "    </tr>\n",
       "    <tr>\n",
       "      <th>1</th>\n",
       "      <td>0.0</td>\n",
       "      <td>1.0</td>\n",
       "      <td>0</td>\n",
       "      <td>0</td>\n",
       "      <td>0</td>\n",
       "      <td>0</td>\n",
       "      <td>NaN</td>\n",
       "    </tr>\n",
       "    <tr>\n",
       "      <th>2</th>\n",
       "      <td>0.0</td>\n",
       "      <td>2.0</td>\n",
       "      <td>0</td>\n",
       "      <td>1</td>\n",
       "      <td>0</td>\n",
       "      <td>0</td>\n",
       "      <td>NaN</td>\n",
       "    </tr>\n",
       "    <tr>\n",
       "      <th>3</th>\n",
       "      <td>0.0</td>\n",
       "      <td>3.0</td>\n",
       "      <td>0</td>\n",
       "      <td>1</td>\n",
       "      <td>0</td>\n",
       "      <td>0</td>\n",
       "      <td>NaN</td>\n",
       "    </tr>\n",
       "    <tr>\n",
       "      <th>4</th>\n",
       "      <td>0.0</td>\n",
       "      <td>4.0</td>\n",
       "      <td>0</td>\n",
       "      <td>1</td>\n",
       "      <td>0</td>\n",
       "      <td>0</td>\n",
       "      <td>NaN</td>\n",
       "    </tr>\n",
       "  </tbody>\n",
       "</table>\n",
       "</div>"
      ],
      "text/plain": [
       "    x1   x2  one  two  three  endemic non_case\n",
       "0  0.0  0.0    0    0      0        0      NaN\n",
       "1  0.0  1.0    0    0      0        0      NaN\n",
       "2  0.0  2.0    0    1      0        0      NaN\n",
       "3  0.0  3.0    0    1      0        0      NaN\n",
       "4  0.0  4.0    0    1      0        0      NaN"
      ]
     },
     "execution_count": 6,
     "metadata": {},
     "output_type": "execute_result"
    }
   ],
   "source": [
    "df_structured_data.head()"
   ]
  },
  {
   "cell_type": "code",
   "execution_count": 7,
   "metadata": {},
   "outputs": [],
   "source": [
    "# pad dummy-non-cases\n",
    "no_assigned_label = df_structured_data.loc[:, [label for label in DATA_LABELS if label!=\"non-case\"]].sum(axis=1) == 0\n",
    "df_padded = df_structured_data.assign(non_case=lambda x: x.loc[:, [\"non_case\"]].mask(no_assigned_label, 1).fillna(0))"
   ]
  },
  {
   "cell_type": "code",
   "execution_count": 8,
   "metadata": {},
   "outputs": [
    {
     "data": {
      "text/html": [
       "<div>\n",
       "<style scoped>\n",
       "    .dataframe tbody tr th:only-of-type {\n",
       "        vertical-align: middle;\n",
       "    }\n",
       "\n",
       "    .dataframe tbody tr th {\n",
       "        vertical-align: top;\n",
       "    }\n",
       "\n",
       "    .dataframe thead th {\n",
       "        text-align: right;\n",
       "    }\n",
       "</style>\n",
       "<table border=\"1\" class=\"dataframe\">\n",
       "  <thead>\n",
       "    <tr style=\"text-align: right;\">\n",
       "      <th></th>\n",
       "      <th>x1</th>\n",
       "      <th>x2</th>\n",
       "      <th>one</th>\n",
       "      <th>two</th>\n",
       "      <th>three</th>\n",
       "      <th>endemic</th>\n",
       "      <th>non_case</th>\n",
       "    </tr>\n",
       "  </thead>\n",
       "  <tbody>\n",
       "    <tr>\n",
       "      <th>20</th>\n",
       "      <td>4.0</td>\n",
       "      <td>0.0</td>\n",
       "      <td>0</td>\n",
       "      <td>0</td>\n",
       "      <td>0</td>\n",
       "      <td>2</td>\n",
       "      <td>0</td>\n",
       "    </tr>\n",
       "    <tr>\n",
       "      <th>21</th>\n",
       "      <td>4.0</td>\n",
       "      <td>1.0</td>\n",
       "      <td>0</td>\n",
       "      <td>0</td>\n",
       "      <td>0</td>\n",
       "      <td>0</td>\n",
       "      <td>1</td>\n",
       "    </tr>\n",
       "    <tr>\n",
       "      <th>22</th>\n",
       "      <td>4.0</td>\n",
       "      <td>2.0</td>\n",
       "      <td>0</td>\n",
       "      <td>0</td>\n",
       "      <td>0</td>\n",
       "      <td>0</td>\n",
       "      <td>1</td>\n",
       "    </tr>\n",
       "    <tr>\n",
       "      <th>23</th>\n",
       "      <td>4.0</td>\n",
       "      <td>3.0</td>\n",
       "      <td>0</td>\n",
       "      <td>0</td>\n",
       "      <td>0</td>\n",
       "      <td>0</td>\n",
       "      <td>1</td>\n",
       "    </tr>\n",
       "    <tr>\n",
       "      <th>24</th>\n",
       "      <td>4.0</td>\n",
       "      <td>4.0</td>\n",
       "      <td>0</td>\n",
       "      <td>0</td>\n",
       "      <td>0</td>\n",
       "      <td>1</td>\n",
       "      <td>0</td>\n",
       "    </tr>\n",
       "  </tbody>\n",
       "</table>\n",
       "</div>"
      ],
      "text/plain": [
       "     x1   x2  one  two  three  endemic  non_case\n",
       "20  4.0  0.0    0    0      0        2         0\n",
       "21  4.0  1.0    0    0      0        0         1\n",
       "22  4.0  2.0    0    0      0        0         1\n",
       "23  4.0  3.0    0    0      0        0         1\n",
       "24  4.0  4.0    0    0      0        1         0"
      ]
     },
     "execution_count": 8,
     "metadata": {},
     "output_type": "execute_result"
    }
   ],
   "source": [
    "df_padded.tail()"
   ]
  },
  {
   "cell_type": "code",
   "execution_count": 9,
   "metadata": {},
   "outputs": [],
   "source": [
    "# calculate disease probability per cell\n",
    "df_padded.loc[:, DATA_LABELS] = df_padded.loc[:, DATA_LABELS].div(df_padded.loc[:, DATA_LABELS].sum(axis=1), axis=0)"
   ]
  },
  {
   "cell_type": "code",
   "execution_count": 10,
   "metadata": {},
   "outputs": [
    {
     "data": {
      "text/html": [
       "<div>\n",
       "<style scoped>\n",
       "    .dataframe tbody tr th:only-of-type {\n",
       "        vertical-align: middle;\n",
       "    }\n",
       "\n",
       "    .dataframe tbody tr th {\n",
       "        vertical-align: top;\n",
       "    }\n",
       "\n",
       "    .dataframe thead th {\n",
       "        text-align: right;\n",
       "    }\n",
       "</style>\n",
       "<table border=\"1\" class=\"dataframe\">\n",
       "  <thead>\n",
       "    <tr style=\"text-align: right;\">\n",
       "      <th></th>\n",
       "      <th>x1</th>\n",
       "      <th>x2</th>\n",
       "      <th>one</th>\n",
       "      <th>two</th>\n",
       "      <th>three</th>\n",
       "      <th>endemic</th>\n",
       "      <th>non_case</th>\n",
       "    </tr>\n",
       "  </thead>\n",
       "  <tbody>\n",
       "    <tr>\n",
       "      <th>20</th>\n",
       "      <td>4.0</td>\n",
       "      <td>0.0</td>\n",
       "      <td>0.0</td>\n",
       "      <td>0.0</td>\n",
       "      <td>0.0</td>\n",
       "      <td>1.0</td>\n",
       "      <td>0.0</td>\n",
       "    </tr>\n",
       "    <tr>\n",
       "      <th>21</th>\n",
       "      <td>4.0</td>\n",
       "      <td>1.0</td>\n",
       "      <td>0.0</td>\n",
       "      <td>0.0</td>\n",
       "      <td>0.0</td>\n",
       "      <td>0.0</td>\n",
       "      <td>1.0</td>\n",
       "    </tr>\n",
       "    <tr>\n",
       "      <th>22</th>\n",
       "      <td>4.0</td>\n",
       "      <td>2.0</td>\n",
       "      <td>0.0</td>\n",
       "      <td>0.0</td>\n",
       "      <td>0.0</td>\n",
       "      <td>0.0</td>\n",
       "      <td>1.0</td>\n",
       "    </tr>\n",
       "    <tr>\n",
       "      <th>23</th>\n",
       "      <td>4.0</td>\n",
       "      <td>3.0</td>\n",
       "      <td>0.0</td>\n",
       "      <td>0.0</td>\n",
       "      <td>0.0</td>\n",
       "      <td>0.0</td>\n",
       "      <td>1.0</td>\n",
       "    </tr>\n",
       "    <tr>\n",
       "      <th>24</th>\n",
       "      <td>4.0</td>\n",
       "      <td>4.0</td>\n",
       "      <td>0.0</td>\n",
       "      <td>0.0</td>\n",
       "      <td>0.0</td>\n",
       "      <td>1.0</td>\n",
       "      <td>0.0</td>\n",
       "    </tr>\n",
       "  </tbody>\n",
       "</table>\n",
       "</div>"
      ],
      "text/plain": [
       "     x1   x2  one  two  three  endemic  non_case\n",
       "20  4.0  0.0  0.0  0.0    0.0      1.0       0.0\n",
       "21  4.0  1.0  0.0  0.0    0.0      0.0       1.0\n",
       "22  4.0  2.0  0.0  0.0    0.0      0.0       1.0\n",
       "23  4.0  3.0  0.0  0.0    0.0      0.0       1.0\n",
       "24  4.0  4.0  0.0  0.0    0.0      1.0       0.0"
      ]
     },
     "execution_count": 10,
     "metadata": {},
     "output_type": "execute_result"
    }
   ],
   "source": [
    "df_padded.tail()"
   ]
  },
  {
   "cell_type": "code",
   "execution_count": 11,
   "metadata": {},
   "outputs": [],
   "source": [
    "def run_algo_A(df_structured_data):\n",
    "    assert len(df_structured_data) == 25\n",
    "    signale = pd.DataFrame({\"x1\": [1,1,2,2,3,4], \"x2\": [1,2,1,2,0,0], \"w_A\": [1,1,1,1,0.5,0.5]})\n",
    "    signale = df_structured_data.loc[:, [\"x1\", \"x2\"]].merge(signale, how=\"left\", on=[\"x1\", \"x2\"])\n",
    "    return signale.fillna(0)"
   ]
  },
  {
   "cell_type": "code",
   "execution_count": 12,
   "metadata": {},
   "outputs": [],
   "source": [
    "def run_algo_B(df_structured_data):\n",
    "    assert len(df_structured_data) == 25\n",
    "    signale = pd.DataFrame({\"x1\": [2,2,2,3,3,3,4,4,4], \"x2\": [2,3,4,2,3,4,2,3,4], \"w_B\": [0.5]*9})\n",
    "    signale = df_structured_data.loc[:, [\"x1\", \"x2\"]].merge(signale, how=\"left\", on=[\"x1\", \"x2\"])\n",
    "    return signale.fillna(0)"
   ]
  },
  {
   "cell_type": "code",
   "execution_count": 13,
   "metadata": {},
   "outputs": [],
   "source": [
    "def run_algo_C(df_structured_data):\n",
    "    assert len(df_structured_data) == 25\n",
    "    signale = pd.DataFrame({\"x1\": [0], \"x2\": [4], \"w_C\": [1]})\n",
    "    signale = df_structured_data.loc[:, [\"x1\", \"x2\"]].merge(signale, how=\"left\", on=[\"x1\", \"x2\"])\n",
    "    return signale.fillna(0)"
   ]
  },
  {
   "cell_type": "code",
   "execution_count": 14,
   "metadata": {},
   "outputs": [
    {
     "data": {
      "text/html": [
       "<div>\n",
       "<style scoped>\n",
       "    .dataframe tbody tr th:only-of-type {\n",
       "        vertical-align: middle;\n",
       "    }\n",
       "\n",
       "    .dataframe tbody tr th {\n",
       "        vertical-align: top;\n",
       "    }\n",
       "\n",
       "    .dataframe thead th {\n",
       "        text-align: right;\n",
       "    }\n",
       "</style>\n",
       "<table border=\"1\" class=\"dataframe\">\n",
       "  <thead>\n",
       "    <tr style=\"text-align: right;\">\n",
       "      <th></th>\n",
       "      <th>x1</th>\n",
       "      <th>x2</th>\n",
       "      <th>w_A</th>\n",
       "      <th>w_B</th>\n",
       "      <th>w_C</th>\n",
       "      <th>one</th>\n",
       "      <th>two</th>\n",
       "      <th>three</th>\n",
       "      <th>endemic</th>\n",
       "      <th>non_case</th>\n",
       "    </tr>\n",
       "  </thead>\n",
       "  <tbody>\n",
       "    <tr>\n",
       "      <th>0</th>\n",
       "      <td>0.0</td>\n",
       "      <td>0.0</td>\n",
       "      <td>0.0</td>\n",
       "      <td>0.0</td>\n",
       "      <td>0.0</td>\n",
       "      <td>0.0</td>\n",
       "      <td>0.0</td>\n",
       "      <td>0.0</td>\n",
       "      <td>0.0</td>\n",
       "      <td>1.0</td>\n",
       "    </tr>\n",
       "    <tr>\n",
       "      <th>1</th>\n",
       "      <td>0.0</td>\n",
       "      <td>1.0</td>\n",
       "      <td>0.0</td>\n",
       "      <td>0.0</td>\n",
       "      <td>0.0</td>\n",
       "      <td>0.0</td>\n",
       "      <td>0.0</td>\n",
       "      <td>0.0</td>\n",
       "      <td>0.0</td>\n",
       "      <td>1.0</td>\n",
       "    </tr>\n",
       "    <tr>\n",
       "      <th>2</th>\n",
       "      <td>0.0</td>\n",
       "      <td>2.0</td>\n",
       "      <td>0.0</td>\n",
       "      <td>0.0</td>\n",
       "      <td>0.0</td>\n",
       "      <td>0.0</td>\n",
       "      <td>1.0</td>\n",
       "      <td>0.0</td>\n",
       "      <td>0.0</td>\n",
       "      <td>0.0</td>\n",
       "    </tr>\n",
       "    <tr>\n",
       "      <th>3</th>\n",
       "      <td>0.0</td>\n",
       "      <td>3.0</td>\n",
       "      <td>0.0</td>\n",
       "      <td>0.0</td>\n",
       "      <td>0.0</td>\n",
       "      <td>0.0</td>\n",
       "      <td>1.0</td>\n",
       "      <td>0.0</td>\n",
       "      <td>0.0</td>\n",
       "      <td>0.0</td>\n",
       "    </tr>\n",
       "    <tr>\n",
       "      <th>4</th>\n",
       "      <td>0.0</td>\n",
       "      <td>4.0</td>\n",
       "      <td>0.0</td>\n",
       "      <td>0.0</td>\n",
       "      <td>1.0</td>\n",
       "      <td>0.0</td>\n",
       "      <td>1.0</td>\n",
       "      <td>0.0</td>\n",
       "      <td>0.0</td>\n",
       "      <td>0.0</td>\n",
       "    </tr>\n",
       "  </tbody>\n",
       "</table>\n",
       "</div>"
      ],
      "text/plain": [
       "    x1   x2  w_A  w_B  w_C  one  two  three  endemic  non_case\n",
       "0  0.0  0.0  0.0  0.0  0.0  0.0  0.0    0.0      0.0       1.0\n",
       "1  0.0  1.0  0.0  0.0  0.0  0.0  0.0    0.0      0.0       1.0\n",
       "2  0.0  2.0  0.0  0.0  0.0  0.0  1.0    0.0      0.0       0.0\n",
       "3  0.0  3.0  0.0  0.0  0.0  0.0  1.0    0.0      0.0       0.0\n",
       "4  0.0  4.0  0.0  0.0  1.0  0.0  1.0    0.0      0.0       0.0"
      ]
     },
     "execution_count": 14,
     "metadata": {},
     "output_type": "execute_result"
    }
   ],
   "source": [
    "# create signals\n",
    "signal_A = run_algo_A(df_structured_data)\n",
    "signal_B = run_algo_B(df_structured_data)\n",
    "signal_C = run_algo_C(df_structured_data)\n",
    "\n",
    "signals_without_endemic_non_case = reduce(lambda l, r: pd.merge(l,r, on=[\"x1\", \"x2\"]), [signal_A, signal_B, signal_C, df_padded])\n",
    "\n",
    "signals_without_endemic_non_case.head()"
   ]
  },
  {
   "cell_type": "code",
   "execution_count": 17,
   "metadata": {},
   "outputs": [],
   "source": [
    "assert signals_without_endemic_non_case.query(\"non_case==1\").loc[:, [\"one\", \"two\", \"three\", \"endemic\"]].sum().sum() == 0\n",
    "\n",
    "assert not any((signals_without_endemic_non_case.endemic >0) & (signals_without_endemic_non_case.non_case >0))"
   ]
  },
  {
   "cell_type": "code",
   "execution_count": 18,
   "metadata": {},
   "outputs": [],
   "source": [
    "# calculate signal for endemic and non-case when not given by algo\n",
    "signal_columns = [c for c in signals_without_endemic_non_case.columns if \"w_\" in c]\n",
    "\n",
    "signals_with_endemic_non_case = signals_without_endemic_non_case.copy()\n",
    "for signal_column in signal_columns:\n",
    "    signals_with_endemic_non_case.loc[:, signal_column+\"_endemic\"] = (1 - signals_with_endemic_non_case.loc[:, signal_column]) * (signals_with_endemic_non_case[\"endemic\"] > 0)\n",
    "    signals_with_endemic_non_case.loc[:, signal_column+\"_non_case\"] = (1 - signals_with_endemic_non_case.loc[:, signal_column]) * (signals_with_endemic_non_case[\"non_case\"] > 0)\n",
    "\n",
    "non_case_signals = signals_with_endemic_non_case.columns[signals_with_endemic_non_case.columns.str.contains(r\"w_._non_case\")]\n",
    "endemic_signals = signals_with_endemic_non_case.columns[signals_with_endemic_non_case.columns.str.contains(r\"w_._endemic\")]\n",
    "\n",
    "signals_with_endemic_non_case.loc[:, \"w_non_case_min\"] = signals_with_endemic_non_case[non_case_signals].min(axis=1)\n",
    "signals_with_endemic_non_case.loc[:, \"w_endemic_min\"] = signals_with_endemic_non_case[endemic_signals].min(axis=1)\n",
    "\n",
    "signals_with_endemic_non_case.loc[:, \"w_non_case_max\"] = signals_with_endemic_non_case[non_case_signals].max(axis=1)\n",
    "signals_with_endemic_non_case.loc[:, \"w_endemic_max\"] = signals_with_endemic_non_case[endemic_signals].max(axis=1)\n",
    "\n",
    "signals_with_endemic_non_case.loc[:, \"w_non_case_mean\"] = signals_with_endemic_non_case[non_case_signals].mean(axis=1)\n",
    "signals_with_endemic_non_case.loc[:, \"w_endemic_mean\"] = signals_with_endemic_non_case[endemic_signals].mean(axis=1)\n",
    "\n",
    "signals_with_endemic_non_case.loc[:, \"w_non_case_median\"] = signals_with_endemic_non_case[non_case_signals].median(axis=1)\n",
    "signals_with_endemic_non_case.loc[:, \"w_endemic_median\"] = signals_with_endemic_non_case[endemic_signals].median(axis=1)"
   ]
  },
  {
   "cell_type": "code",
   "execution_count": 19,
   "metadata": {},
   "outputs": [],
   "source": [
    "def transform_for_heatmap(array):\n",
    "    return np.flip(np.flip(array.reshape((5,-1))), 1)\n",
    "\n",
    "def plot_heatmap(array, title):\n",
    "    transformed_array = transform_for_heatmap(array)\n",
    "    ax = sns.heatmap(transformed_array, linewidth=2, cmap=\"RdPu\", cbar=False, annot=True)\n",
    "    ax.add_patch(Rectangle((1,2), 2, 2, fill=False, edgecolor='blue', lw=3))\n",
    "    ax.add_patch(Rectangle((3,4), 2, 1, fill=False, edgecolor='blue',alpha=0.6, lw=3))\n",
    "    ax.add_patch(Rectangle((2,0), 3, 3, fill=False, edgecolor='orange',alpha=0.6, lw=3))\n",
    "    ax.add_patch(Rectangle((0,0), 1, 1, fill=False, edgecolor='green', lw=3))\n",
    "    ax.set_title(title)\n",
    "    return ax"
   ]
  },
  {
   "cell_type": "code",
   "execution_count": 20,
   "metadata": {},
   "outputs": [
    {
     "data": {
      "image/png": "[encoded data removed]",
      "text/plain": [
       "<Figure size 432x288 with 1 Axes>"
      ]
     },
     "metadata": {
      "needs_background": "light"
     },
     "output_type": "display_data"
    },
    {
     "data": {
      "image/png": "[encoded data removed]",
      "text/plain": [
       "<Figure size 432x288 with 1 Axes>"
      ]
     },
     "metadata": {
      "needs_background": "light"
     },
     "output_type": "display_data"
    },
    {
     "data": {
      "image/png": "[encoded data removed]",
      "text/plain": [
       "<Figure size 432x288 with 1 Axes>"
      ]
     },
     "metadata": {
      "needs_background": "light"
     },
     "output_type": "display_data"
    },
    {
     "data": {
      "image/png": "[encoded data removed]",
      "text/plain": [
       "<Figure size 432x288 with 1 Axes>"
      ]
     },
     "metadata": {
      "needs_background": "light"
     },
     "output_type": "display_data"
    }
   ],
   "source": [
    "plot_heatmap(signals_with_endemic_non_case.w_endemic_mean.values, \"endemic_mean\")\n",
    "plt.show()\n",
    "plot_heatmap(signals_with_endemic_non_case.w_endemic_median.values, \"endemic_median\")\n",
    "plt.show()\n",
    "plot_heatmap(signals_with_endemic_non_case.w_endemic_min.values, \"endemic_min\")\n",
    "plt.show()\n",
    "plot_heatmap(signals_with_endemic_non_case.w_endemic_max.values, \"endemic_max\")\n",
    "plt.show()"
   ]
  },
  {
   "cell_type": "code",
   "execution_count": 21,
   "metadata": {},
   "outputs": [
    {
     "data": {
      "image/png": "[encoded data removed]",
      "text/plain": [
       "<Figure size 432x288 with 1 Axes>"
      ]
     },
     "metadata": {
      "needs_background": "light"
     },
     "output_type": "display_data"
    },
    {
     "data": {
      "image/png": "[encoded data removed]",
      "text/plain": [
       "<Figure size 432x288 with 1 Axes>"
      ]
     },
     "metadata": {
      "needs_background": "light"
     },
     "output_type": "display_data"
    },
    {
     "data": {
      "image/png": "[encoded data removed]",
      "text/plain": [
       "<Figure size 432x288 with 1 Axes>"
      ]
     },
     "metadata": {
      "needs_background": "light"
     },
     "output_type": "display_data"
    },
    {
     "data": {
      "image/png": "[encoded data removed]",
      "text/plain": [
       "<Figure size 432x288 with 1 Axes>"
      ]
     },
     "metadata": {
      "needs_background": "light"
     },
     "output_type": "display_data"
    }
   ],
   "source": [
    "plot_heatmap(signals_with_endemic_non_case.w_non_case_mean.values, \"non_case_mean\")\n",
    "plt.show()\n",
    "plot_heatmap(signals_with_endemic_non_case.w_non_case_median.values, \"non_case_median\")\n",
    "plt.show()\n",
    "plot_heatmap(signals_with_endemic_non_case.w_non_case_min.values, \"non_case_min\")\n",
    "plt.show()\n",
    "plot_heatmap(signals_with_endemic_non_case.w_non_case_max.values, \"non_case_max\")\n",
    "plt.show()"
   ]
  },
  {
   "cell_type": "code",
   "execution_count": null,
   "metadata": {},
   "outputs": [],
   "source": []
  }
 ],
 "metadata": {
  "kernelspec": {
   "display_name": "Python 3",
   "language": "python",
   "name": "python3"
  },
  "language_info": {
   "codemirror_mode": {
    "name": "ipython",
    "version": 3
   },
   "file_extension": ".py",
   "mimetype": "text/x-python",
   "name": "python",
   "nbconvert_exporter": "python",
   "pygments_lexer": "ipython3",
   "version": "3.8.5"
  }
 },
 "nbformat": 4,
 "nbformat_minor": 4
}
