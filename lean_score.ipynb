{
 "cells": [
  {
   "cell_type": "code",
   "execution_count": 1,
   "metadata": {},
   "outputs": [],
   "source": [
    "%load_ext lab_black"
   ]
  },
  {
   "cell_type": "code",
   "execution_count": 2,
   "metadata": {},
   "outputs": [],
   "source": [
    "import pandas as pd\n",
    "import numpy as np\n",
    "import matplotlib.pyplot as plt\n",
    "from matplotlib.patches import Rectangle\n",
    "import seaborn as sns\n",
    "from itertools import product\n",
    "from functools import reduce"
   ]
  },
  {
   "cell_type": "markdown",
   "metadata": {},
   "source": [
    "## Data preparation"
   ]
  },
  {
   "cell_type": "code",
   "execution_count": 3,
   "metadata": {},
   "outputs": [],
   "source": [
    "# define labels\n",
    "MUST_HAVE_LABELS = (\"endemic\", \"non_case\")\n",
    "DATA_LABELS = (\"one\", \"two\", \"three\") + MUST_HAVE_LABELS"
   ]
  },
  {
   "cell_type": "code",
   "execution_count": 4,
   "metadata": {},
   "outputs": [],
   "source": [
    "# define coordinate system\n",
    "df = pd.concat(\n",
    "    [\n",
    "        pd.DataFrame(columns=[\"x1\", \"x2\"], data=product(range(5), range(5))),\n",
    "        pd.DataFrame(columns=DATA_LABELS),\n",
    "    ]\n",
    ")"
   ]
  },
  {
   "cell_type": "code",
   "execution_count": 5,
   "metadata": {},
   "outputs": [
    {
     "data": {
      "text/html": [
       "<div>\n",
       "<style scoped>\n",
       "    .dataframe tbody tr th:only-of-type {\n",
       "        vertical-align: middle;\n",
       "    }\n",
       "\n",
       "    .dataframe tbody tr th {\n",
       "        vertical-align: top;\n",
       "    }\n",
       "\n",
       "    .dataframe thead th {\n",
       "        text-align: right;\n",
       "    }\n",
       "</style>\n",
       "<table border=\"1\" class=\"dataframe\">\n",
       "  <thead>\n",
       "    <tr style=\"text-align: right;\">\n",
       "      <th></th>\n",
       "      <th>x1</th>\n",
       "      <th>x2</th>\n",
       "      <th>one</th>\n",
       "      <th>two</th>\n",
       "      <th>three</th>\n",
       "      <th>endemic</th>\n",
       "      <th>non_case</th>\n",
       "    </tr>\n",
       "  </thead>\n",
       "  <tbody>\n",
       "    <tr>\n",
       "      <th>0</th>\n",
       "      <td>0.0</td>\n",
       "      <td>0.0</td>\n",
       "      <td>NaN</td>\n",
       "      <td>NaN</td>\n",
       "      <td>NaN</td>\n",
       "      <td>NaN</td>\n",
       "      <td>NaN</td>\n",
       "    </tr>\n",
       "    <tr>\n",
       "      <th>1</th>\n",
       "      <td>0.0</td>\n",
       "      <td>1.0</td>\n",
       "      <td>NaN</td>\n",
       "      <td>NaN</td>\n",
       "      <td>NaN</td>\n",
       "      <td>NaN</td>\n",
       "      <td>NaN</td>\n",
       "    </tr>\n",
       "    <tr>\n",
       "      <th>2</th>\n",
       "      <td>0.0</td>\n",
       "      <td>2.0</td>\n",
       "      <td>NaN</td>\n",
       "      <td>NaN</td>\n",
       "      <td>NaN</td>\n",
       "      <td>NaN</td>\n",
       "      <td>NaN</td>\n",
       "    </tr>\n",
       "    <tr>\n",
       "      <th>3</th>\n",
       "      <td>0.0</td>\n",
       "      <td>3.0</td>\n",
       "      <td>NaN</td>\n",
       "      <td>NaN</td>\n",
       "      <td>NaN</td>\n",
       "      <td>NaN</td>\n",
       "      <td>NaN</td>\n",
       "    </tr>\n",
       "    <tr>\n",
       "      <th>4</th>\n",
       "      <td>0.0</td>\n",
       "      <td>4.0</td>\n",
       "      <td>NaN</td>\n",
       "      <td>NaN</td>\n",
       "      <td>NaN</td>\n",
       "      <td>NaN</td>\n",
       "      <td>NaN</td>\n",
       "    </tr>\n",
       "  </tbody>\n",
       "</table>\n",
       "</div>"
      ],
      "text/plain": [
       "    x1   x2  one  two three endemic non_case\n",
       "0  0.0  0.0  NaN  NaN   NaN     NaN      NaN\n",
       "1  0.0  1.0  NaN  NaN   NaN     NaN      NaN\n",
       "2  0.0  2.0  NaN  NaN   NaN     NaN      NaN\n",
       "3  0.0  3.0  NaN  NaN   NaN     NaN      NaN\n",
       "4  0.0  4.0  NaN  NaN   NaN     NaN      NaN"
      ]
     },
     "execution_count": 5,
     "metadata": {},
     "output_type": "execute_result"
    }
   ],
   "source": [
    "df.head()"
   ]
  },
  {
   "cell_type": "code",
   "execution_count": 6,
   "metadata": {},
   "outputs": [],
   "source": [
    "# read in data\n",
    "one = [0] * 5 + [0, 1, 1, 0, 0] + [0, 0, 1, 0, 0] + [0] * 10\n",
    "two = (\n",
    "    [\n",
    "        0,\n",
    "        0,\n",
    "        1,\n",
    "        1,\n",
    "        1,\n",
    "    ]\n",
    "    + [0] * 10\n",
    "    + [0, 0, 0, 1, 0]\n",
    "    + [0] * 5\n",
    ")\n",
    "three = [0] * 15 + [0, 0, 0, 1, 2] + [0] * 5\n",
    "endemic = (\n",
    "    [0] * 5 + [1, 0, 0, 0, 0] + [0, 1, 0, 0, 0] + [4, 0, 0, 0, 1] + [2, 0, 0, 0, 1]\n",
    ")\n",
    "\n",
    "df_structured_data = df.assign(one=one, two=two, three=three, endemic=endemic)"
   ]
  },
  {
   "cell_type": "code",
   "execution_count": 7,
   "metadata": {},
   "outputs": [
    {
     "data": {
      "text/html": [
       "<div>\n",
       "<style scoped>\n",
       "    .dataframe tbody tr th:only-of-type {\n",
       "        vertical-align: middle;\n",
       "    }\n",
       "\n",
       "    .dataframe tbody tr th {\n",
       "        vertical-align: top;\n",
       "    }\n",
       "\n",
       "    .dataframe thead th {\n",
       "        text-align: right;\n",
       "    }\n",
       "</style>\n",
       "<table border=\"1\" class=\"dataframe\">\n",
       "  <thead>\n",
       "    <tr style=\"text-align: right;\">\n",
       "      <th></th>\n",
       "      <th>x1</th>\n",
       "      <th>x2</th>\n",
       "      <th>one</th>\n",
       "      <th>two</th>\n",
       "      <th>three</th>\n",
       "      <th>endemic</th>\n",
       "      <th>non_case</th>\n",
       "    </tr>\n",
       "  </thead>\n",
       "  <tbody>\n",
       "    <tr>\n",
       "      <th>0</th>\n",
       "      <td>0.0</td>\n",
       "      <td>0.0</td>\n",
       "      <td>0</td>\n",
       "      <td>0</td>\n",
       "      <td>0</td>\n",
       "      <td>0</td>\n",
       "      <td>NaN</td>\n",
       "    </tr>\n",
       "    <tr>\n",
       "      <th>1</th>\n",
       "      <td>0.0</td>\n",
       "      <td>1.0</td>\n",
       "      <td>0</td>\n",
       "      <td>0</td>\n",
       "      <td>0</td>\n",
       "      <td>0</td>\n",
       "      <td>NaN</td>\n",
       "    </tr>\n",
       "    <tr>\n",
       "      <th>2</th>\n",
       "      <td>0.0</td>\n",
       "      <td>2.0</td>\n",
       "      <td>0</td>\n",
       "      <td>1</td>\n",
       "      <td>0</td>\n",
       "      <td>0</td>\n",
       "      <td>NaN</td>\n",
       "    </tr>\n",
       "    <tr>\n",
       "      <th>3</th>\n",
       "      <td>0.0</td>\n",
       "      <td>3.0</td>\n",
       "      <td>0</td>\n",
       "      <td>1</td>\n",
       "      <td>0</td>\n",
       "      <td>0</td>\n",
       "      <td>NaN</td>\n",
       "    </tr>\n",
       "    <tr>\n",
       "      <th>4</th>\n",
       "      <td>0.0</td>\n",
       "      <td>4.0</td>\n",
       "      <td>0</td>\n",
       "      <td>1</td>\n",
       "      <td>0</td>\n",
       "      <td>0</td>\n",
       "      <td>NaN</td>\n",
       "    </tr>\n",
       "  </tbody>\n",
       "</table>\n",
       "</div>"
      ],
      "text/plain": [
       "    x1   x2  one  two  three  endemic non_case\n",
       "0  0.0  0.0    0    0      0        0      NaN\n",
       "1  0.0  1.0    0    0      0        0      NaN\n",
       "2  0.0  2.0    0    1      0        0      NaN\n",
       "3  0.0  3.0    0    1      0        0      NaN\n",
       "4  0.0  4.0    0    1      0        0      NaN"
      ]
     },
     "execution_count": 7,
     "metadata": {},
     "output_type": "execute_result"
    }
   ],
   "source": [
    "df_structured_data.head()"
   ]
  },
  {
   "cell_type": "code",
   "execution_count": 8,
   "metadata": {},
   "outputs": [],
   "source": [
    "# pad dummy-non-cases\n",
    "no_assigned_label = (\n",
    "    df_structured_data.loc[\n",
    "        :, [label for label in DATA_LABELS if label != \"non-case\"]\n",
    "    ].sum(axis=1)\n",
    "    == 0\n",
    ")\n",
    "df_padded = df_structured_data.assign(\n",
    "    non_case=lambda x: x.loc[:, [\"non_case\"]].mask(no_assigned_label, 1).fillna(0)\n",
    ")"
   ]
  },
  {
   "cell_type": "code",
   "execution_count": 9,
   "metadata": {},
   "outputs": [
    {
     "data": {
      "text/html": [
       "<div>\n",
       "<style scoped>\n",
       "    .dataframe tbody tr th:only-of-type {\n",
       "        vertical-align: middle;\n",
       "    }\n",
       "\n",
       "    .dataframe tbody tr th {\n",
       "        vertical-align: top;\n",
       "    }\n",
       "\n",
       "    .dataframe thead th {\n",
       "        text-align: right;\n",
       "    }\n",
       "</style>\n",
       "<table border=\"1\" class=\"dataframe\">\n",
       "  <thead>\n",
       "    <tr style=\"text-align: right;\">\n",
       "      <th></th>\n",
       "      <th>x1</th>\n",
       "      <th>x2</th>\n",
       "      <th>one</th>\n",
       "      <th>two</th>\n",
       "      <th>three</th>\n",
       "      <th>endemic</th>\n",
       "      <th>non_case</th>\n",
       "    </tr>\n",
       "  </thead>\n",
       "  <tbody>\n",
       "    <tr>\n",
       "      <th>20</th>\n",
       "      <td>4.0</td>\n",
       "      <td>0.0</td>\n",
       "      <td>0</td>\n",
       "      <td>0</td>\n",
       "      <td>0</td>\n",
       "      <td>2</td>\n",
       "      <td>0</td>\n",
       "    </tr>\n",
       "    <tr>\n",
       "      <th>21</th>\n",
       "      <td>4.0</td>\n",
       "      <td>1.0</td>\n",
       "      <td>0</td>\n",
       "      <td>0</td>\n",
       "      <td>0</td>\n",
       "      <td>0</td>\n",
       "      <td>1</td>\n",
       "    </tr>\n",
       "    <tr>\n",
       "      <th>22</th>\n",
       "      <td>4.0</td>\n",
       "      <td>2.0</td>\n",
       "      <td>0</td>\n",
       "      <td>0</td>\n",
       "      <td>0</td>\n",
       "      <td>0</td>\n",
       "      <td>1</td>\n",
       "    </tr>\n",
       "    <tr>\n",
       "      <th>23</th>\n",
       "      <td>4.0</td>\n",
       "      <td>3.0</td>\n",
       "      <td>0</td>\n",
       "      <td>0</td>\n",
       "      <td>0</td>\n",
       "      <td>0</td>\n",
       "      <td>1</td>\n",
       "    </tr>\n",
       "    <tr>\n",
       "      <th>24</th>\n",
       "      <td>4.0</td>\n",
       "      <td>4.0</td>\n",
       "      <td>0</td>\n",
       "      <td>0</td>\n",
       "      <td>0</td>\n",
       "      <td>1</td>\n",
       "      <td>0</td>\n",
       "    </tr>\n",
       "  </tbody>\n",
       "</table>\n",
       "</div>"
      ],
      "text/plain": [
       "     x1   x2  one  two  three  endemic  non_case\n",
       "20  4.0  0.0    0    0      0        2         0\n",
       "21  4.0  1.0    0    0      0        0         1\n",
       "22  4.0  2.0    0    0      0        0         1\n",
       "23  4.0  3.0    0    0      0        0         1\n",
       "24  4.0  4.0    0    0      0        1         0"
      ]
     },
     "execution_count": 9,
     "metadata": {},
     "output_type": "execute_result"
    }
   ],
   "source": [
    "df_padded.tail()"
   ]
  },
  {
   "cell_type": "code",
   "execution_count": 9,
   "metadata": {},
   "outputs": [],
   "source": [
    "# calculate disease probability per cell, p(d_i| x)\n",
    "df_padded.loc[:, DATA_LABELS] = df_padded.loc[:, DATA_LABELS].div(\n",
    "    df_padded.loc[:, DATA_LABELS].sum(axis=1), axis=0\n",
    ")"
   ]
  },
  {
   "cell_type": "code",
   "execution_count": 10,
   "metadata": {},
   "outputs": [
    {
     "data": {
      "text/html": [
       "<div>\n",
       "<style scoped>\n",
       "    .dataframe tbody tr th:only-of-type {\n",
       "        vertical-align: middle;\n",
       "    }\n",
       "\n",
       "    .dataframe tbody tr th {\n",
       "        vertical-align: top;\n",
       "    }\n",
       "\n",
       "    .dataframe thead th {\n",
       "        text-align: right;\n",
       "    }\n",
       "</style>\n",
       "<table border=\"1\" class=\"dataframe\">\n",
       "  <thead>\n",
       "    <tr style=\"text-align: right;\">\n",
       "      <th></th>\n",
       "      <th>x1</th>\n",
       "      <th>x2</th>\n",
       "      <th>one</th>\n",
       "      <th>two</th>\n",
       "      <th>three</th>\n",
       "      <th>endemic</th>\n",
       "      <th>non_case</th>\n",
       "    </tr>\n",
       "  </thead>\n",
       "  <tbody>\n",
       "    <tr>\n",
       "      <th>20</th>\n",
       "      <td>4.0</td>\n",
       "      <td>0.0</td>\n",
       "      <td>0.0</td>\n",
       "      <td>0.0</td>\n",
       "      <td>0.0</td>\n",
       "      <td>1.0</td>\n",
       "      <td>0.0</td>\n",
       "    </tr>\n",
       "    <tr>\n",
       "      <th>21</th>\n",
       "      <td>4.0</td>\n",
       "      <td>1.0</td>\n",
       "      <td>0.0</td>\n",
       "      <td>0.0</td>\n",
       "      <td>0.0</td>\n",
       "      <td>0.0</td>\n",
       "      <td>1.0</td>\n",
       "    </tr>\n",
       "    <tr>\n",
       "      <th>22</th>\n",
       "      <td>4.0</td>\n",
       "      <td>2.0</td>\n",
       "      <td>0.0</td>\n",
       "      <td>0.0</td>\n",
       "      <td>0.0</td>\n",
       "      <td>0.0</td>\n",
       "      <td>1.0</td>\n",
       "    </tr>\n",
       "    <tr>\n",
       "      <th>23</th>\n",
       "      <td>4.0</td>\n",
       "      <td>3.0</td>\n",
       "      <td>0.0</td>\n",
       "      <td>0.0</td>\n",
       "      <td>0.0</td>\n",
       "      <td>0.0</td>\n",
       "      <td>1.0</td>\n",
       "    </tr>\n",
       "    <tr>\n",
       "      <th>24</th>\n",
       "      <td>4.0</td>\n",
       "      <td>4.0</td>\n",
       "      <td>0.0</td>\n",
       "      <td>0.0</td>\n",
       "      <td>0.0</td>\n",
       "      <td>1.0</td>\n",
       "      <td>0.0</td>\n",
       "    </tr>\n",
       "  </tbody>\n",
       "</table>\n",
       "</div>"
      ],
      "text/plain": [
       "     x1   x2  one  two  three  endemic  non_case\n",
       "20  4.0  0.0  0.0  0.0    0.0      1.0       0.0\n",
       "21  4.0  1.0  0.0  0.0    0.0      0.0       1.0\n",
       "22  4.0  2.0  0.0  0.0    0.0      0.0       1.0\n",
       "23  4.0  3.0  0.0  0.0    0.0      0.0       1.0\n",
       "24  4.0  4.0  0.0  0.0    0.0      1.0       0.0"
      ]
     },
     "execution_count": 10,
     "metadata": {},
     "output_type": "execute_result"
    }
   ],
   "source": [
    "df_padded.tail()"
   ]
  },
  {
   "cell_type": "markdown",
   "metadata": {},
   "source": [
    "## Signal detection"
   ]
  },
  {
   "cell_type": "code",
   "execution_count": 11,
   "metadata": {},
   "outputs": [],
   "source": [
    "def run_algo_A(df_structured_data):\n",
    "    assert len(df_structured_data) == 25\n",
    "    signale = pd.DataFrame(\n",
    "        {\n",
    "            \"x1\": [1, 1, 2, 2, 3, 4],\n",
    "            \"x2\": [1, 2, 1, 2, 0, 0],\n",
    "            \"w_A\": [1, 1, 1, 1, 0.5, 0.5],\n",
    "        }\n",
    "    )\n",
    "    signale = df_structured_data.loc[:, [\"x1\", \"x2\"]].merge(\n",
    "        signale, how=\"left\", on=[\"x1\", \"x2\"]\n",
    "    )\n",
    "    return signale.fillna(0)"
   ]
  },
  {
   "cell_type": "code",
   "execution_count": 12,
   "metadata": {},
   "outputs": [],
   "source": [
    "def run_algo_B(df_structured_data):\n",
    "    assert len(df_structured_data) == 25\n",
    "    signale = pd.DataFrame(\n",
    "        {\n",
    "            \"x1\": [2, 2, 2, 3, 3, 3, 4, 4, 4],\n",
    "            \"x2\": [2, 3, 4, 2, 3, 4, 2, 3, 4],\n",
    "            \"w_B\": [0.5] * 9,\n",
    "        }\n",
    "    )\n",
    "    signale = df_structured_data.loc[:, [\"x1\", \"x2\"]].merge(\n",
    "        signale, how=\"left\", on=[\"x1\", \"x2\"]\n",
    "    )\n",
    "    return signale.fillna(0)"
   ]
  },
  {
   "cell_type": "code",
   "execution_count": 13,
   "metadata": {},
   "outputs": [],
   "source": [
    "def run_algo_C(df_structured_data):\n",
    "    assert len(df_structured_data) == 25\n",
    "    signale = pd.DataFrame({\"x1\": [0], \"x2\": [4], \"w_C\": [1]})\n",
    "    signale = df_structured_data.loc[:, [\"x1\", \"x2\"]].merge(\n",
    "        signale, how=\"left\", on=[\"x1\", \"x2\"]\n",
    "    )\n",
    "    return signale.fillna(0)"
   ]
  },
  {
   "cell_type": "code",
   "execution_count": 14,
   "metadata": {},
   "outputs": [
    {
     "data": {
      "text/html": [
       "<div>\n",
       "<style scoped>\n",
       "    .dataframe tbody tr th:only-of-type {\n",
       "        vertical-align: middle;\n",
       "    }\n",
       "\n",
       "    .dataframe tbody tr th {\n",
       "        vertical-align: top;\n",
       "    }\n",
       "\n",
       "    .dataframe thead th {\n",
       "        text-align: right;\n",
       "    }\n",
       "</style>\n",
       "<table border=\"1\" class=\"dataframe\">\n",
       "  <thead>\n",
       "    <tr style=\"text-align: right;\">\n",
       "      <th></th>\n",
       "      <th>x1</th>\n",
       "      <th>x2</th>\n",
       "      <th>w_A</th>\n",
       "      <th>w_B</th>\n",
       "      <th>w_C</th>\n",
       "      <th>one</th>\n",
       "      <th>two</th>\n",
       "      <th>three</th>\n",
       "      <th>endemic</th>\n",
       "      <th>non_case</th>\n",
       "    </tr>\n",
       "  </thead>\n",
       "  <tbody>\n",
       "    <tr>\n",
       "      <th>0</th>\n",
       "      <td>0.0</td>\n",
       "      <td>0.0</td>\n",
       "      <td>0.0</td>\n",
       "      <td>0.0</td>\n",
       "      <td>0.0</td>\n",
       "      <td>0.0</td>\n",
       "      <td>0.0</td>\n",
       "      <td>0.0</td>\n",
       "      <td>0.0</td>\n",
       "      <td>1.0</td>\n",
       "    </tr>\n",
       "    <tr>\n",
       "      <th>1</th>\n",
       "      <td>0.0</td>\n",
       "      <td>1.0</td>\n",
       "      <td>0.0</td>\n",
       "      <td>0.0</td>\n",
       "      <td>0.0</td>\n",
       "      <td>0.0</td>\n",
       "      <td>0.0</td>\n",
       "      <td>0.0</td>\n",
       "      <td>0.0</td>\n",
       "      <td>1.0</td>\n",
       "    </tr>\n",
       "    <tr>\n",
       "      <th>2</th>\n",
       "      <td>0.0</td>\n",
       "      <td>2.0</td>\n",
       "      <td>0.0</td>\n",
       "      <td>0.0</td>\n",
       "      <td>0.0</td>\n",
       "      <td>0.0</td>\n",
       "      <td>1.0</td>\n",
       "      <td>0.0</td>\n",
       "      <td>0.0</td>\n",
       "      <td>0.0</td>\n",
       "    </tr>\n",
       "    <tr>\n",
       "      <th>3</th>\n",
       "      <td>0.0</td>\n",
       "      <td>3.0</td>\n",
       "      <td>0.0</td>\n",
       "      <td>0.0</td>\n",
       "      <td>0.0</td>\n",
       "      <td>0.0</td>\n",
       "      <td>1.0</td>\n",
       "      <td>0.0</td>\n",
       "      <td>0.0</td>\n",
       "      <td>0.0</td>\n",
       "    </tr>\n",
       "    <tr>\n",
       "      <th>4</th>\n",
       "      <td>0.0</td>\n",
       "      <td>4.0</td>\n",
       "      <td>0.0</td>\n",
       "      <td>0.0</td>\n",
       "      <td>1.0</td>\n",
       "      <td>0.0</td>\n",
       "      <td>1.0</td>\n",
       "      <td>0.0</td>\n",
       "      <td>0.0</td>\n",
       "      <td>0.0</td>\n",
       "    </tr>\n",
       "  </tbody>\n",
       "</table>\n",
       "</div>"
      ],
      "text/plain": [
       "    x1   x2  w_A  w_B  w_C  one  two  three  endemic  non_case\n",
       "0  0.0  0.0  0.0  0.0  0.0  0.0  0.0    0.0      0.0       1.0\n",
       "1  0.0  1.0  0.0  0.0  0.0  0.0  0.0    0.0      0.0       1.0\n",
       "2  0.0  2.0  0.0  0.0  0.0  0.0  1.0    0.0      0.0       0.0\n",
       "3  0.0  3.0  0.0  0.0  0.0  0.0  1.0    0.0      0.0       0.0\n",
       "4  0.0  4.0  0.0  0.0  1.0  0.0  1.0    0.0      0.0       0.0"
      ]
     },
     "execution_count": 14,
     "metadata": {},
     "output_type": "execute_result"
    }
   ],
   "source": [
    "# create signals\n",
    "signal_A = run_algo_A(df_structured_data)\n",
    "signal_B = run_algo_B(df_structured_data)\n",
    "signal_C = run_algo_C(df_structured_data)\n",
    "\n",
    "signals_without_endemic_non_case = reduce(\n",
    "    lambda l, r: pd.merge(l, r, on=[\"x1\", \"x2\"]),\n",
    "    [signal_A, signal_B, signal_C, df_padded],\n",
    ")\n",
    "\n",
    "signals_without_endemic_non_case.head()"
   ]
  },
  {
   "cell_type": "code",
   "execution_count": 15,
   "metadata": {},
   "outputs": [],
   "source": [
    "assert (\n",
    "    signals_without_endemic_non_case.query(\"non_case==1\")\n",
    "    .loc[:, [\"one\", \"two\", \"three\", \"endemic\"]]\n",
    "    .sum()\n",
    "    .sum()\n",
    "    == 0\n",
    ")\n",
    "\n",
    "assert not any(\n",
    "    (signals_without_endemic_non_case.endemic > 0)\n",
    "    & (signals_without_endemic_non_case.non_case > 0)\n",
    ")"
   ]
  },
  {
   "cell_type": "code",
   "execution_count": 16,
   "metadata": {},
   "outputs": [],
   "source": [
    "# calculate signal for endemic and non-case when not given by algo\n",
    "signal_columns = [c for c in signals_without_endemic_non_case.columns if \"w_\" in c]\n",
    "\n",
    "signals_with_endemic_non_case = signals_without_endemic_non_case.copy()\n",
    "for signal_column in signal_columns:\n",
    "    signals_with_endemic_non_case.loc[:, signal_column + \"_endemic\"] = (\n",
    "        1 - signals_with_endemic_non_case.loc[:, signal_column]\n",
    "    ) * (signals_with_endemic_non_case[\"non_case\"] == 0)\n",
    "    signals_with_endemic_non_case.loc[:, signal_column + \"_non_case\"] = (\n",
    "        1 - signals_with_endemic_non_case.loc[:, signal_column]\n",
    "    ) * (signals_with_endemic_non_case[\"non_case\"] != 0)\n",
    "\n",
    "non_case_signals = signals_with_endemic_non_case.columns[\n",
    "    signals_with_endemic_non_case.columns.str.contains(r\"w_._non_case\")\n",
    "]\n",
    "endemic_signals = signals_with_endemic_non_case.columns[\n",
    "    signals_with_endemic_non_case.columns.str.contains(r\"w_._endemic\")\n",
    "]\n",
    "\n",
    "signals_with_endemic_non_case.loc[:, \"w_non_case_min\"] = signals_with_endemic_non_case[\n",
    "    non_case_signals\n",
    "].min(axis=1)\n",
    "signals_with_endemic_non_case.loc[:, \"w_endemic_min\"] = signals_with_endemic_non_case[\n",
    "    endemic_signals\n",
    "].min(axis=1)\n",
    "\n",
    "signals_with_endemic_non_case.loc[:, \"w_non_case_max\"] = signals_with_endemic_non_case[\n",
    "    non_case_signals\n",
    "].max(axis=1)\n",
    "signals_with_endemic_non_case.loc[:, \"w_endemic_max\"] = signals_with_endemic_non_case[\n",
    "    endemic_signals\n",
    "].max(axis=1)\n",
    "\n",
    "signals_with_endemic_non_case.loc[:, \"w_non_case_mean\"] = signals_with_endemic_non_case[\n",
    "    non_case_signals\n",
    "].mean(axis=1)\n",
    "signals_with_endemic_non_case.loc[:, \"w_endemic_mean\"] = signals_with_endemic_non_case[\n",
    "    endemic_signals\n",
    "].mean(axis=1)\n",
    "\n",
    "signals_with_endemic_non_case.loc[\n",
    "    :, \"w_non_case_median\"\n",
    "] = signals_with_endemic_non_case[non_case_signals].median(axis=1)\n",
    "signals_with_endemic_non_case.loc[\n",
    "    :, \"w_endemic_median\"\n",
    "] = signals_with_endemic_non_case[endemic_signals].median(axis=1)"
   ]
  },
  {
   "cell_type": "code",
   "execution_count": 17,
   "metadata": {},
   "outputs": [],
   "source": [
    "def transform_for_heatmap(array):\n",
    "    return array.reshape((5, -1)).T\n",
    "\n",
    "\n",
    "def plot_heatmap(array, title):\n",
    "    transformed_array = transform_for_heatmap(array)\n",
    "    ax = sns.heatmap(\n",
    "        transformed_array, linewidth=2, cmap=\"RdPu\", cbar=False, annot=True\n",
    "    )\n",
    "    ax.add_patch(Rectangle((1, 1), 2, 2, fill=False, edgecolor=\"blue\", lw=3))\n",
    "    ax.add_patch(Rectangle((3, 0), 2, 1, fill=False, edgecolor=\"blue\", alpha=0.6, lw=3))\n",
    "    ax.add_patch(\n",
    "        Rectangle((2, 2), 3, 3, fill=False, edgecolor=\"orange\", alpha=0.6, lw=3)\n",
    "    )\n",
    "    ax.add_patch(Rectangle((0, 4), 1, 1, fill=False, edgecolor=\"green\", lw=3))\n",
    "    ax.set_title(title)\n",
    "    ax.set_ylim(0, 5)\n",
    "    ax.set_xlim(0, 5)\n",
    "    return ax"
   ]
  },
  {
   "cell_type": "code",
   "execution_count": 18,
   "metadata": {},
   "outputs": [
    {
     "data": {
      "image/png": "[encoded data removed]",
      "text/plain": [
       "<Figure size 432x288 with 1 Axes>"
      ]
     },
     "metadata": {
      "needs_background": "light"
     },
     "output_type": "display_data"
    },
    {
     "data": {
      "image/png": "[encoded data removed]",
      "text/plain": [
       "<Figure size 432x288 with 1 Axes>"
      ]
     },
     "metadata": {
      "needs_background": "light"
     },
     "output_type": "display_data"
    },
    {
     "data": {
      "image/png": "[encoded data removed]",
      "text/plain": [
       "<Figure size 432x288 with 1 Axes>"
      ]
     },
     "metadata": {
      "needs_background": "light"
     },
     "output_type": "display_data"
    },
    {
     "data": {
      "image/png": "[encoded data removed]",
      "text/plain": [
       "<Figure size 432x288 with 1 Axes>"
      ]
     },
     "metadata": {
      "needs_background": "light"
     },
     "output_type": "display_data"
    }
   ],
   "source": [
    "plot_heatmap(signals_with_endemic_non_case.w_endemic_mean.values, \"endemic_mean\")\n",
    "plt.show()\n",
    "plot_heatmap(signals_with_endemic_non_case.w_endemic_median.values, \"endemic_median\")\n",
    "plt.show()\n",
    "plot_heatmap(signals_with_endemic_non_case.w_endemic_min.values, \"endemic_min\")\n",
    "plt.show()\n",
    "plot_heatmap(signals_with_endemic_non_case.w_endemic_max.values, \"endemic_max\")\n",
    "plt.show()"
   ]
  },
  {
   "cell_type": "code",
   "execution_count": 19,
   "metadata": {},
   "outputs": [
    {
     "data": {
      "image/png": "[encoded data removed]",
      "text/plain": [
       "<Figure size 432x288 with 1 Axes>"
      ]
     },
     "metadata": {
      "needs_background": "light"
     },
     "output_type": "display_data"
    },
    {
     "data": {
      "image/png": "[encoded data removed]",
      "text/plain": [
       "<Figure size 432x288 with 1 Axes>"
      ]
     },
     "metadata": {
      "needs_background": "light"
     },
     "output_type": "display_data"
    },
    {
     "data": {
      "image/png": "[encoded data removed]",
      "text/plain": [
       "<Figure size 432x288 with 1 Axes>"
      ]
     },
     "metadata": {
      "needs_background": "light"
     },
     "output_type": "display_data"
    },
    {
     "data": {
      "image/png": "[encoded data removed]",
      "text/plain": [
       "<Figure size 432x288 with 1 Axes>"
      ]
     },
     "metadata": {
      "needs_background": "light"
     },
     "output_type": "display_data"
    }
   ],
   "source": [
    "plot_heatmap(signals_with_endemic_non_case.w_non_case_mean.values, \"non_case_mean\")\n",
    "plt.show()\n",
    "plot_heatmap(signals_with_endemic_non_case.w_non_case_median.values, \"non_case_median\")\n",
    "plt.show()\n",
    "plot_heatmap(signals_with_endemic_non_case.w_non_case_min.values, \"non_case_min\")\n",
    "plt.show()\n",
    "plot_heatmap(signals_with_endemic_non_case.w_non_case_max.values, \"non_case_max\")\n",
    "plt.show()"
   ]
  },
  {
   "cell_type": "markdown",
   "metadata": {},
   "source": [
    "## Score calculation (regression)"
   ]
  },
  {
   "cell_type": "code",
   "execution_count": 20,
   "metadata": {},
   "outputs": [],
   "source": [
    "def create_signal_dist(agg):\n",
    "    # p^ (s_j|x) = w(s, x) / sum_s (w(s,x))\n",
    "    p_signal = (\n",
    "        signals_with_endemic_non_case.loc[\n",
    "            :, [\"w_A\", \"w_B\", \"w_C\", f\"w_non_case_{agg}\", f\"w_endemic_{agg}\"]\n",
    "        ]\n",
    "        .div(\n",
    "            signals_with_endemic_non_case.loc[\n",
    "                :, [\"w_A\", \"w_B\", \"w_C\", f\"w_non_case_{agg}\", f\"w_endemic_{agg}\"]\n",
    "            ].sum(axis=1),\n",
    "            axis=0,\n",
    "        )\n",
    "        .values\n",
    "    )\n",
    "\n",
    "    signals_with_endemic_non_case.loc[\n",
    "        :, [\"p_A\", \"p_B\", \"p_C\", \"p_non_case\", \"p_endemic\"]\n",
    "    ] = p_signal\n",
    "\n",
    "    signals_long = signals_with_endemic_non_case.melt(\n",
    "        id_vars=[\"x1\", \"x2\"],\n",
    "        value_vars=[\"p_A\", \"p_B\", \"p_C\", \"p_non_case\", \"p_endemic\"],\n",
    "        var_name=\"s_j\",\n",
    "        value_name=\"prior\",\n",
    "    ).assign(s_j=lambda x: x[\"s_j\"].str.replace(\"p_\", \"\"))\n",
    "    return signals_long"
   ]
  },
  {
   "cell_type": "code",
   "execution_count": 26,
   "metadata": {},
   "outputs": [],
   "source": [
    "# p^ (s_j|x) = w(s, x) / sum_s (w(s,x))\n",
    "p_signal = (\n",
    "    signals_with_endemic_non_case.loc[\n",
    "        :, [\"w_A\", \"w_B\", \"w_C\", \"w_non_case_min\", \"w_endemic_min\"]\n",
    "    ]\n",
    "    .div(\n",
    "        signals_with_endemic_non_case.loc[\n",
    "            :, [\"w_A\", \"w_B\", \"w_C\", \"w_non_case_min\", \"w_endemic_min\"]\n",
    "        ].sum(axis=1),\n",
    "        axis=0,\n",
    "    )\n",
    "    .values\n",
    ")\n",
    "\n",
    "signals_with_endemic_non_case.loc[\n",
    "    :, [\"p_A\", \"p_B\", \"p_C\", \"p_non_case\", \"p_endemic\"]\n",
    "] = p_signal\n",
    "\n",
    "signals_long_min = signals_with_endemic_non_case.melt(\n",
    "    id_vars=[\"x1\", \"x2\"],\n",
    "    value_vars=[\"p_A\", \"p_B\", \"p_C\", \"p_non_case\", \"p_endemic\"],\n",
    "    var_name=\"s_j\",\n",
    "    value_name=\"prior\",\n",
    ").assign(s_j=lambda x: x[\"s_j\"].str.replace(\"p_\", \"\"))"
   ]
  },
  {
   "cell_type": "code",
   "execution_count": 21,
   "metadata": {},
   "outputs": [],
   "source": [
    "signals_long_min = create_signal_dist(\"min\")\n",
    "signals_long_max = create_signal_dist(\"max\")\n",
    "signals_long_mean = create_signal_dist(\"mean\")\n",
    "signals_long_median = create_signal_dist(\"median\")"
   ]
  },
  {
   "cell_type": "code",
   "execution_count": 22,
   "metadata": {},
   "outputs": [],
   "source": [
    "# p^(d_i | s_j, x)\n",
    "nested_list = list(\n",
    "    product(\n",
    "        product(range(5), range(5)),\n",
    "        product(\n",
    "            [\"one\", \"two\", \"three\", \"endemic\", \"non_case\"],\n",
    "            [\"A\", \"B\", \"C\", \"endemic\", \"non_case\"],\n",
    "        ),\n",
    "    )\n",
    ")\n",
    "d_s_given_x = pd.DataFrame(\n",
    "    [tuple_[0] + tuple_[1] for tuple_ in nested_list],\n",
    "    columns=[\"x1\", \"x2\", \"d_i\", \"s_j\"],\n",
    ")\n",
    "\n",
    "signal_data_indeces = d_s_given_x.query(\n",
    "    \"~(s_j.isin(['endemic', 'non_case']) | d_i.isin(['endemic', 'non_case']))\"\n",
    ").index\n",
    "d_s_given_x.loc[signal_data_indeces, \"posterior\"] = 1 / len(\n",
    "    set(DATA_LABELS) - set(MUST_HAVE_LABELS)\n",
    ")\n",
    "\n",
    "non_case_endemic_signal_indeces = d_s_given_x.query(\"d_i == s_j\").index\n",
    "d_s_given_x.loc[non_case_endemic_signal_indeces, \"posterior\"] = 1\n",
    "d_s_given_x = d_s_given_x.fillna(0)"
   ]
  },
  {
   "cell_type": "code",
   "execution_count": 23,
   "metadata": {},
   "outputs": [
    {
     "data": {
      "text/html": [
       "<div>\n",
       "<style scoped>\n",
       "    .dataframe tbody tr th:only-of-type {\n",
       "        vertical-align: middle;\n",
       "    }\n",
       "\n",
       "    .dataframe tbody tr th {\n",
       "        vertical-align: top;\n",
       "    }\n",
       "\n",
       "    .dataframe thead th {\n",
       "        text-align: right;\n",
       "    }\n",
       "</style>\n",
       "<table border=\"1\" class=\"dataframe\">\n",
       "  <thead>\n",
       "    <tr style=\"text-align: right;\">\n",
       "      <th></th>\n",
       "      <th>x1</th>\n",
       "      <th>x2</th>\n",
       "      <th>d_i</th>\n",
       "      <th>s_j</th>\n",
       "      <th>posterior</th>\n",
       "    </tr>\n",
       "  </thead>\n",
       "  <tbody>\n",
       "    <tr>\n",
       "      <th>0</th>\n",
       "      <td>0</td>\n",
       "      <td>0</td>\n",
       "      <td>one</td>\n",
       "      <td>A</td>\n",
       "      <td>0.333333</td>\n",
       "    </tr>\n",
       "    <tr>\n",
       "      <th>1</th>\n",
       "      <td>0</td>\n",
       "      <td>0</td>\n",
       "      <td>one</td>\n",
       "      <td>B</td>\n",
       "      <td>0.333333</td>\n",
       "    </tr>\n",
       "    <tr>\n",
       "      <th>2</th>\n",
       "      <td>0</td>\n",
       "      <td>0</td>\n",
       "      <td>one</td>\n",
       "      <td>C</td>\n",
       "      <td>0.333333</td>\n",
       "    </tr>\n",
       "    <tr>\n",
       "      <th>3</th>\n",
       "      <td>0</td>\n",
       "      <td>0</td>\n",
       "      <td>one</td>\n",
       "      <td>endemic</td>\n",
       "      <td>0.000000</td>\n",
       "    </tr>\n",
       "    <tr>\n",
       "      <th>4</th>\n",
       "      <td>0</td>\n",
       "      <td>0</td>\n",
       "      <td>one</td>\n",
       "      <td>non_case</td>\n",
       "      <td>0.000000</td>\n",
       "    </tr>\n",
       "  </tbody>\n",
       "</table>\n",
       "</div>"
      ],
      "text/plain": [
       "   x1  x2  d_i       s_j  posterior\n",
       "0   0   0  one         A   0.333333\n",
       "1   0   0  one         B   0.333333\n",
       "2   0   0  one         C   0.333333\n",
       "3   0   0  one   endemic   0.000000\n",
       "4   0   0  one  non_case   0.000000"
      ]
     },
     "execution_count": 23,
     "metadata": {},
     "output_type": "execute_result"
    }
   ],
   "source": [
    "d_s_given_x.head()"
   ]
  },
  {
   "cell_type": "code",
   "execution_count": 24,
   "metadata": {},
   "outputs": [],
   "source": [
    "def create_p_hat_di(d_s_given_x, signals_long):\n",
    "    # p^(d_i | x) = sum( p^(d_i| s_j, x) p^(s_j, x) )\n",
    "    p_hat_di = d_s_given_x.merge(signals_long, on=[\"x1\", \"x2\", \"s_j\"])\n",
    "    p_hat_di.loc[:, \"p^(d_i)\"] = p_hat_di[\"posterior\"] * p_hat_di[\"prior\"]\n",
    "    p_hat_di = p_hat_di.groupby([\"x1\", \"x2\", \"d_i\"]).agg({\"p^(d_i)\": sum}).reset_index()\n",
    "    return p_hat_di"
   ]
  },
  {
   "cell_type": "code",
   "execution_count": 55,
   "metadata": {},
   "outputs": [],
   "source": [
    "# p^(d_i | x) = sum( p^(d_i| s_j, x) p^(s_j, x) )\n",
    "p_hat_di = d_s_given_x.merge(signals_long, on=[\"x1\", \"x2\", \"s_j\"])\n",
    "\n",
    "p_hat_di.loc[:, \"p^(d_i)\"] = p_hat_di[\"posterior\"] * p_hat_di[\"prior\"]\n",
    "\n",
    "p_hat_di = p_hat_di.groupby([\"x1\", \"x2\", \"d_i\"]).agg({\"p^(d_i)\": sum}).reset_index()"
   ]
  },
  {
   "cell_type": "code",
   "execution_count": 28,
   "metadata": {},
   "outputs": [],
   "source": [
    "p_hat_di_min = create_p_hat_di(d_s_given_x, signals_long_min)\n",
    "p_hat_di_max = create_p_hat_di(d_s_given_x, signals_long_max)\n",
    "p_hat_di_mean = create_p_hat_di(d_s_given_x, signals_long_mean)\n",
    "p_hat_di_median = create_p_hat_di(d_s_given_x, signals_long_median)"
   ]
  },
  {
   "cell_type": "code",
   "execution_count": 30,
   "metadata": {},
   "outputs": [
    {
     "data": {
      "image/png": "[encoded data removed]",
      "text/plain": [
       "<Figure size 432x288 with 1 Axes>"
      ]
     },
     "metadata": {
      "needs_background": "light"
     },
     "output_type": "display_data"
    },
    {
     "data": {
      "image/png": "[encoded data removed]",
      "text/plain": [
       "<Figure size 432x288 with 1 Axes>"
      ]
     },
     "metadata": {
      "needs_background": "light"
     },
     "output_type": "display_data"
    },
    {
     "data": {
      "image/png": "[encoded data removed]",
      "text/plain": [
       "<Figure size 432x288 with 1 Axes>"
      ]
     },
     "metadata": {
      "needs_background": "light"
     },
     "output_type": "display_data"
    },
    {
     "data": {
      "image/png": "[encoded data removed]",
      "text/plain": [
       "<Figure size 432x288 with 1 Axes>"
      ]
     },
     "metadata": {
      "needs_background": "light"
     },
     "output_type": "display_data"
    },
    {
     "data": {
      "image/png": "[encoded data removed]",
      "text/plain": [
       "<Figure size 432x288 with 1 Axes>"
      ]
     },
     "metadata": {
      "needs_background": "light"
     },
     "output_type": "display_data"
    }
   ],
   "source": [
    "for datalabel in p_hat_di_min[\"d_i\"].unique():\n",
    "    plot_heatmap(\n",
    "        p_hat_di_min.query(\"d_i==@datalabel\").loc[:, [\"p^(d_i)\"]].values,\n",
    "        datalabel,\n",
    "    )\n",
    "    plt.show()"
   ]
  },
  {
   "cell_type": "code",
   "execution_count": 31,
   "metadata": {},
   "outputs": [
    {
     "data": {
      "image/png": "[encoded data removed]",
      "text/plain": [
       "<Figure size 432x288 with 1 Axes>"
      ]
     },
     "metadata": {
      "needs_background": "light"
     },
     "output_type": "display_data"
    },
    {
     "data": {
      "image/png": "[encoded data removed]",
      "text/plain": [
       "<Figure size 432x288 with 1 Axes>"
      ]
     },
     "metadata": {
      "needs_background": "light"
     },
     "output_type": "display_data"
    },
    {
     "data": {
      "image/png": "[encoded data removed]",
      "text/plain": [
       "<Figure size 432x288 with 1 Axes>"
      ]
     },
     "metadata": {
      "needs_background": "light"
     },
     "output_type": "display_data"
    },
    {
     "data": {
      "image/png": "[encoded data removed]",
      "text/plain": [
       "<Figure size 432x288 with 1 Axes>"
      ]
     },
     "metadata": {
      "needs_background": "light"
     },
     "output_type": "display_data"
    },
    {
     "data": {
      "image/png": "[encoded data removed]",
      "text/plain": [
       "<Figure size 432x288 with 1 Axes>"
      ]
     },
     "metadata": {
      "needs_background": "light"
     },
     "output_type": "display_data"
    }
   ],
   "source": [
    "for datalabel in p_hat_di_max[\"d_i\"].unique():\n",
    "    plot_heatmap(\n",
    "        p_hat_di_max.query(\"d_i==@datalabel\").loc[:, [\"p^(d_i)\"]].values,\n",
    "        datalabel,\n",
    "    )\n",
    "    plt.show()"
   ]
  },
  {
   "cell_type": "code",
   "execution_count": 32,
   "metadata": {},
   "outputs": [
    {
     "data": {
      "image/png": "[encoded data removed]",
      "text/plain": [
       "<Figure size 432x288 with 1 Axes>"
      ]
     },
     "metadata": {
      "needs_background": "light"
     },
     "output_type": "display_data"
    },
    {
     "data": {
      "image/png": "[encoded data removed]",
      "text/plain": [
       "<Figure size 432x288 with 1 Axes>"
      ]
     },
     "metadata": {
      "needs_background": "light"
     },
     "output_type": "display_data"
    },
    {
     "data": {
      "image/png": "[encoded data removed]",
      "text/plain": [
       "<Figure size 432x288 with 1 Axes>"
      ]
     },
     "metadata": {
      "needs_background": "light"
     },
     "output_type": "display_data"
    },
    {
     "data": {
      "image/png": "[encoded data removed]",
      "text/plain": [
       "<Figure size 432x288 with 1 Axes>"
      ]
     },
     "metadata": {
      "needs_background": "light"
     },
     "output_type": "display_data"
    },
    {
     "data": {
      "image/png": "[encoded data removed]",
      "text/plain": [
       "<Figure size 432x288 with 1 Axes>"
      ]
     },
     "metadata": {
      "needs_background": "light"
     },
     "output_type": "display_data"
    }
   ],
   "source": [
    "for datalabel in p_hat_di_max[\"d_i\"].unique():\n",
    "    plot_heatmap(\n",
    "        p_hat_di_max.query(\"d_i==@datalabel\").loc[:, [\"p^(d_i)\"]].values,\n",
    "        datalabel,\n",
    "    )\n",
    "    plt.show()"
   ]
  },
  {
   "cell_type": "code",
   "execution_count": 33,
   "metadata": {},
   "outputs": [
    {
     "data": {
      "image/png": "[encoded data removed]",
      "text/plain": [
       "<Figure size 432x288 with 1 Axes>"
      ]
     },
     "metadata": {
      "needs_background": "light"
     },
     "output_type": "display_data"
    },
    {
     "data": {
      "image/png": "[encoded data removed]",
      "text/plain": [
       "<Figure size 432x288 with 1 Axes>"
      ]
     },
     "metadata": {
      "needs_background": "light"
     },
     "output_type": "display_data"
    },
    {
     "data": {
      "image/png": "[encoded data removed]",
      "text/plain": [
       "<Figure size 432x288 with 1 Axes>"
      ]
     },
     "metadata": {
      "needs_background": "light"
     },
     "output_type": "display_data"
    },
    {
     "data": {
      "image/png": "[encoded data removed]",
      "text/plain": [
       "<Figure size 432x288 with 1 Axes>"
      ]
     },
     "metadata": {
      "needs_background": "light"
     },
     "output_type": "display_data"
    },
    {
     "data": {
      "image/png": "[encoded data removed]",
      "text/plain": [
       "<Figure size 432x288 with 1 Axes>"
      ]
     },
     "metadata": {
      "needs_background": "light"
     },
     "output_type": "display_data"
    }
   ],
   "source": [
    "for datalabel in p_hat_di_median[\"d_i\"].unique():\n",
    "    plot_heatmap(\n",
    "        p_hat_di_median.query(\"d_i==@datalabel\").loc[:, [\"p^(d_i)\"]].values,\n",
    "        datalabel,\n",
    "    )\n",
    "    plt.show()"
   ]
  },
  {
   "cell_type": "code",
   "execution_count": 34,
   "metadata": {},
   "outputs": [],
   "source": [
    "p_di = df_padded.melt(id_vars=[\"x1\", \"x2\"], var_name=\"d_i\", value_name=\"p(d_i)\")"
   ]
  },
  {
   "cell_type": "code",
   "execution_count": 35,
   "metadata": {},
   "outputs": [
    {
     "data": {
      "text/html": [
       "<div>\n",
       "<style scoped>\n",
       "    .dataframe tbody tr th:only-of-type {\n",
       "        vertical-align: middle;\n",
       "    }\n",
       "\n",
       "    .dataframe tbody tr th {\n",
       "        vertical-align: top;\n",
       "    }\n",
       "\n",
       "    .dataframe thead th {\n",
       "        text-align: right;\n",
       "    }\n",
       "</style>\n",
       "<table border=\"1\" class=\"dataframe\">\n",
       "  <thead>\n",
       "    <tr style=\"text-align: right;\">\n",
       "      <th></th>\n",
       "      <th>x1</th>\n",
       "      <th>x2</th>\n",
       "      <th>d_i</th>\n",
       "      <th>p(d_i)</th>\n",
       "    </tr>\n",
       "  </thead>\n",
       "  <tbody>\n",
       "    <tr>\n",
       "      <th>0</th>\n",
       "      <td>0.0</td>\n",
       "      <td>0.0</td>\n",
       "      <td>one</td>\n",
       "      <td>0.0</td>\n",
       "    </tr>\n",
       "    <tr>\n",
       "      <th>1</th>\n",
       "      <td>0.0</td>\n",
       "      <td>1.0</td>\n",
       "      <td>one</td>\n",
       "      <td>0.0</td>\n",
       "    </tr>\n",
       "    <tr>\n",
       "      <th>2</th>\n",
       "      <td>0.0</td>\n",
       "      <td>2.0</td>\n",
       "      <td>one</td>\n",
       "      <td>0.0</td>\n",
       "    </tr>\n",
       "    <tr>\n",
       "      <th>3</th>\n",
       "      <td>0.0</td>\n",
       "      <td>3.0</td>\n",
       "      <td>one</td>\n",
       "      <td>0.0</td>\n",
       "    </tr>\n",
       "    <tr>\n",
       "      <th>4</th>\n",
       "      <td>0.0</td>\n",
       "      <td>4.0</td>\n",
       "      <td>one</td>\n",
       "      <td>0.0</td>\n",
       "    </tr>\n",
       "  </tbody>\n",
       "</table>\n",
       "</div>"
      ],
      "text/plain": [
       "    x1   x2  d_i  p(d_i)\n",
       "0  0.0  0.0  one     0.0\n",
       "1  0.0  1.0  one     0.0\n",
       "2  0.0  2.0  one     0.0\n",
       "3  0.0  3.0  one     0.0\n",
       "4  0.0  4.0  one     0.0"
      ]
     },
     "execution_count": 35,
     "metadata": {},
     "output_type": "execute_result"
    }
   ],
   "source": [
    "p_di.head()"
   ]
  },
  {
   "cell_type": "code",
   "execution_count": 36,
   "metadata": {},
   "outputs": [],
   "source": [
    "eval_df_min = p_di.merge(p_hat_di_min, on=[\"x1\", \"x2\", \"d_i\"])\n",
    "eval_df_max = p_di.merge(p_hat_di_max, on=[\"x1\", \"x2\", \"d_i\"])\n",
    "eval_df_mean = p_di.merge(p_hat_di_mean, on=[\"x1\", \"x2\", \"d_i\"])\n",
    "eval_df_median = p_di.merge(p_hat_di_median, on=[\"x1\", \"x2\", \"d_i\"])"
   ]
  },
  {
   "cell_type": "code",
   "execution_count": 37,
   "metadata": {},
   "outputs": [],
   "source": [
    "def KL(P, Q):\n",
    "    \"\"\"Epsilon is used here to avoid conditional code for\n",
    "    checking that neither P nor Q is equal to 0.\"\"\"\n",
    "    epsilon = 0.00001\n",
    "\n",
    "    P = P + epsilon\n",
    "    Q = Q + epsilon\n",
    "\n",
    "    divergence = np.sum(P * np.log(P / Q))\n",
    "    return divergence"
   ]
  },
  {
   "cell_type": "code",
   "execution_count": 44,
   "metadata": {},
   "outputs": [
    {
     "name": "stdout",
     "output_type": "stream",
     "text": [
      "46.362227622724646\n",
      "36.20520614304559\n",
      "36.41065535744034\n",
      "36.187519811555894\n"
     ]
    }
   ],
   "source": [
    "for eval_df in [eval_df_min, eval_df_mean, eval_df_max, eval_df_median]:\n",
    "    print(KL(eval_df[\"p(d_i)\"].values, eval_df[\"p^(d_i)\"].values))"
   ]
  },
  {
   "cell_type": "code",
   "execution_count": 45,
   "metadata": {},
   "outputs": [],
   "source": [
    "from scipy.stats import entropy"
   ]
  },
  {
   "cell_type": "code",
   "execution_count": 52,
   "metadata": {},
   "outputs": [
    {
     "name": "stdout",
     "output_type": "stream",
     "text": [
      "inf\n",
      "inf\n",
      "inf\n",
      "inf\n"
     ]
    }
   ],
   "source": [
    "for eval_df in [eval_df_min, eval_df_mean, eval_df_max, eval_df_median]:\n",
    "    print(entropy(eval_df[\"p(d_i)\"].values, eval_df[\"p^(d_i)\"].values))"
   ]
  },
  {
   "cell_type": "code",
   "execution_count": 40,
   "metadata": {},
   "outputs": [],
   "source": [
    "from sklearn import metrics"
   ]
  },
  {
   "cell_type": "code",
   "execution_count": 67,
   "metadata": {},
   "outputs": [
    {
     "data": {
      "text/plain": [
       "0.28950015849244715"
      ]
     },
     "execution_count": 67,
     "metadata": {},
     "output_type": "execute_result"
    }
   ],
   "source": [
    "eval_df_median.apply(lambda x: KL(x[\"p(d_i)\"], x[\"p^(d_i)\"]), axis=1).mean()"
   ]
  },
  {
   "cell_type": "code",
   "execution_count": 41,
   "metadata": {},
   "outputs": [
    {
     "name": "stdout",
     "output_type": "stream",
     "text": [
      "0.29634980972036773\n",
      "0.3025208486903207\n",
      "0.305239233279047\n",
      "0.3025208486903207\n"
     ]
    }
   ],
   "source": [
    "for eval_df in [eval_df_min, eval_df_mean, eval_df_max, eval_df_median]:\n",
    "    print(\n",
    "        metrics.mutual_info_score(eval_df[\"p(d_i)\"].values, eval_df[\"p^(d_i)\"].values)\n",
    "    )"
   ]
  },
  {
   "cell_type": "code",
   "execution_count": 69,
   "metadata": {},
   "outputs": [
    {
     "name": "stdout",
     "output_type": "stream",
     "text": [
      "0.3965014577259477\n",
      "0.45069970845481055\n",
      "0.4436151603498544\n",
      "0.4504373177842568\n"
     ]
    }
   ],
   "source": [
    "for eval_df in [eval_df_min, eval_df_mean, eval_df_max, eval_df_median]:\n",
    "    print(metrics.r2_score(eval_df[\"p(d_i)\"].values, eval_df[\"p^(d_i)\"].values))"
   ]
  },
  {
   "cell_type": "code",
   "execution_count": 70,
   "metadata": {},
   "outputs": [
    {
     "name": "stdout",
     "output_type": "stream",
     "text": [
      "0.30331501776206204\n",
      "0.2893748050155331\n",
      "0.2912349185413346\n",
      "0.28944391128123215\n"
     ]
    }
   ],
   "source": [
    "for eval_df in [eval_df_min, eval_df_mean, eval_df_max, eval_df_median]:\n",
    "    print(np.sqrt(np.mean((eval_df[\"p(d_i)\"].values - eval_df[\"p^(d_i)\"].values) ** 2)))"
   ]
  },
  {
   "cell_type": "code",
   "execution_count": 71,
   "metadata": {},
   "outputs": [
    {
     "data": {
      "text/html": [
       "<div>\n",
       "<style scoped>\n",
       "    .dataframe tbody tr th:only-of-type {\n",
       "        vertical-align: middle;\n",
       "    }\n",
       "\n",
       "    .dataframe tbody tr th {\n",
       "        vertical-align: top;\n",
       "    }\n",
       "\n",
       "    .dataframe thead th {\n",
       "        text-align: right;\n",
       "    }\n",
       "</style>\n",
       "<table border=\"1\" class=\"dataframe\">\n",
       "  <thead>\n",
       "    <tr style=\"text-align: right;\">\n",
       "      <th></th>\n",
       "      <th>x1</th>\n",
       "      <th>x2</th>\n",
       "      <th>d_i</th>\n",
       "      <th>p(d_i)</th>\n",
       "      <th>p^(d_i)</th>\n",
       "    </tr>\n",
       "  </thead>\n",
       "  <tbody>\n",
       "    <tr>\n",
       "      <th>0</th>\n",
       "      <td>0.0</td>\n",
       "      <td>0.0</td>\n",
       "      <td>one</td>\n",
       "      <td>0.0</td>\n",
       "      <td>0.000000</td>\n",
       "    </tr>\n",
       "    <tr>\n",
       "      <th>1</th>\n",
       "      <td>0.0</td>\n",
       "      <td>1.0</td>\n",
       "      <td>one</td>\n",
       "      <td>0.0</td>\n",
       "      <td>0.000000</td>\n",
       "    </tr>\n",
       "    <tr>\n",
       "      <th>2</th>\n",
       "      <td>0.0</td>\n",
       "      <td>2.0</td>\n",
       "      <td>one</td>\n",
       "      <td>0.0</td>\n",
       "      <td>0.000000</td>\n",
       "    </tr>\n",
       "    <tr>\n",
       "      <th>3</th>\n",
       "      <td>0.0</td>\n",
       "      <td>3.0</td>\n",
       "      <td>one</td>\n",
       "      <td>0.0</td>\n",
       "      <td>0.000000</td>\n",
       "    </tr>\n",
       "    <tr>\n",
       "      <th>4</th>\n",
       "      <td>0.0</td>\n",
       "      <td>4.0</td>\n",
       "      <td>one</td>\n",
       "      <td>0.0</td>\n",
       "      <td>0.333333</td>\n",
       "    </tr>\n",
       "    <tr>\n",
       "      <th>...</th>\n",
       "      <td>...</td>\n",
       "      <td>...</td>\n",
       "      <td>...</td>\n",
       "      <td>...</td>\n",
       "      <td>...</td>\n",
       "    </tr>\n",
       "    <tr>\n",
       "      <th>120</th>\n",
       "      <td>4.0</td>\n",
       "      <td>0.0</td>\n",
       "      <td>non_case</td>\n",
       "      <td>0.0</td>\n",
       "      <td>0.000000</td>\n",
       "    </tr>\n",
       "    <tr>\n",
       "      <th>121</th>\n",
       "      <td>4.0</td>\n",
       "      <td>1.0</td>\n",
       "      <td>non_case</td>\n",
       "      <td>1.0</td>\n",
       "      <td>1.000000</td>\n",
       "    </tr>\n",
       "    <tr>\n",
       "      <th>122</th>\n",
       "      <td>4.0</td>\n",
       "      <td>2.0</td>\n",
       "      <td>non_case</td>\n",
       "      <td>1.0</td>\n",
       "      <td>0.500000</td>\n",
       "    </tr>\n",
       "    <tr>\n",
       "      <th>123</th>\n",
       "      <td>4.0</td>\n",
       "      <td>3.0</td>\n",
       "      <td>non_case</td>\n",
       "      <td>1.0</td>\n",
       "      <td>0.500000</td>\n",
       "    </tr>\n",
       "    <tr>\n",
       "      <th>124</th>\n",
       "      <td>4.0</td>\n",
       "      <td>4.0</td>\n",
       "      <td>non_case</td>\n",
       "      <td>0.0</td>\n",
       "      <td>0.000000</td>\n",
       "    </tr>\n",
       "  </tbody>\n",
       "</table>\n",
       "<p>125 rows × 5 columns</p>\n",
       "</div>"
      ],
      "text/plain": [
       "      x1   x2       d_i  p(d_i)   p^(d_i)\n",
       "0    0.0  0.0       one     0.0  0.000000\n",
       "1    0.0  1.0       one     0.0  0.000000\n",
       "2    0.0  2.0       one     0.0  0.000000\n",
       "3    0.0  3.0       one     0.0  0.000000\n",
       "4    0.0  4.0       one     0.0  0.333333\n",
       "..   ...  ...       ...     ...       ...\n",
       "120  4.0  0.0  non_case     0.0  0.000000\n",
       "121  4.0  1.0  non_case     1.0  1.000000\n",
       "122  4.0  2.0  non_case     1.0  0.500000\n",
       "123  4.0  3.0  non_case     1.0  0.500000\n",
       "124  4.0  4.0  non_case     0.0  0.000000\n",
       "\n",
       "[125 rows x 5 columns]"
      ]
     },
     "execution_count": 71,
     "metadata": {},
     "output_type": "execute_result"
    }
   ],
   "source": [
    "eval_df_min"
   ]
  },
  {
   "cell_type": "markdown",
   "metadata": {},
   "source": [
    "### How to score when algo is a classifier\n",
    "- We look into data distribution and set a cut-off based on data distribution. We assume that the non-outbreak numbers are highest around 0. This peak will flatten when we move away from 0. There we set a cut-off when the next peak is about to start (probably a outbreak cluster)\n",
    "- Discretize p(d_i) into bins and predict vector of bins\n",
    "- p(d_i) \\element of {0,1} -> confusion matrix"
   ]
  },
  {
   "cell_type": "markdown",
   "metadata": {},
   "source": [
    "R = [0,1]\n",
    "\n",
    "B = {0,1}\n",
    "- p \\element R AND p^ \\element R -> like the lower, when threshold for p^ is set to e.g., 0.5\n",
    "- p \\element R AND p^ \\element B ->\n",
    "- p \\element B AND p^ \\element R -> easy/known/ROC/AUC\n",
    "- p \\element B AND p^ \\element B -> easy"
   ]
  },
  {
   "cell_type": "markdown",
   "metadata": {},
   "source": [
    "## TODO:\n",
    "- Regressions-Fall: Verschiedene Scores rechnen\n",
    "    - MSE\n",
    "    - RMSE\n",
    "    - U-Test (Whitney) oder ähnliches\n",
    "    - Andere Scores. Theorie checken\n",
    "\n",
    "- Classifikations-Fall (Wie komme ich von einem kontinuierlichen Wert der Daten auf einen binären\n",
    "    - zB clustering, cut-off, diskretisierung\n",
    "    - Confusion Matrix\n",
    "\n",
    "- KL, Entropy, MI (Wie macht es inhatlich Sinn die Entropie zu berechnen, gegeben den verschiedenen Zellen und DataLabels)"
   ]
  },
  {
   "cell_type": "code",
   "execution_count": null,
   "metadata": {},
   "outputs": [],
   "source": []
  }
 ],
 "metadata": {
  "kernelspec": {
   "display_name": "Python 3",
   "language": "python",
   "name": "python3"
  },
  "language_info": {
   "codemirror_mode": {
    "name": "ipython",
    "version": 3
   },
   "file_extension": ".py",
   "mimetype": "text/x-python",
   "name": "python",
   "nbconvert_exporter": "python",
   "pygments_lexer": "ipython3",
   "version": "3.8.5"
  }
 },
 "nbformat": 4,
 "nbformat_minor": 4
}
